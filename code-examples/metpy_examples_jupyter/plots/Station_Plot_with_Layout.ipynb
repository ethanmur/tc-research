{
 "cells": [
  {
   "cell_type": "code",
   "execution_count": null,
   "metadata": {},
   "outputs": [],
   "source": [
    "%matplotlib inline"
   ]
  },
  {
   "cell_type": "markdown",
   "metadata": {},
   "source": [
    "\n",
    "# Station Plot with Layout\n",
    "\n",
    "Make a station plot, complete with sky cover and weather symbols, using a\n",
    "station plot layout built into MetPy.\n",
    "\n",
    "The station plot itself is straightforward, but there is a bit of code to perform the\n",
    "data-wrangling (hopefully that situation will improve in the future). Certainly, if you have\n",
    "existing point data in a format you can work with trivially, the station plot will be simple.\n",
    "\n",
    "The `StationPlotLayout` class is used to standardize the plotting various parameters\n",
    "(i.e. temperature), keeping track of the location, formatting, and even the units for use in\n",
    "the station plot. This makes it easy (if using standardized names) to re-use a given layout\n",
    "of a station plot.\n"
   ]
  },
  {
   "cell_type": "code",
   "execution_count": null,
   "metadata": {},
   "outputs": [],
   "source": [
    "import cartopy.crs as ccrs\n",
    "import cartopy.feature as cfeature\n",
    "import matplotlib.pyplot as plt\n",
    "import pandas as pd\n",
    "\n",
    "from metpy.calc import wind_components\n",
    "from metpy.cbook import get_test_data\n",
    "from metpy.plots import (add_metpy_logo, simple_layout, StationPlot, StationPlotLayout,\n",
    "                         wx_code_map)\n",
    "from metpy.units import units"
   ]
  },
  {
   "cell_type": "markdown",
   "metadata": {},
   "source": [
    "## The setup\n",
    "\n",
    "First read in the data. We use `numpy.loadtxt` to read in the data and use a structured\n",
    "`numpy.dtype` to allow different types for the various columns. This allows us to handle\n",
    "the columns with string data.\n",
    "\n"
   ]
  },
  {
   "cell_type": "code",
   "execution_count": null,
   "metadata": {},
   "outputs": [],
   "source": [
    "with get_test_data('station_data.txt') as f:\n",
    "    data_arr = pd.read_csv(f, header=0, usecols=(1, 2, 3, 4, 5, 6, 7, 17, 18, 19),\n",
    "                           names=['stid', 'lat', 'lon', 'slp', 'air_temperature',\n",
    "                                  'cloud_fraction', 'dew_point_temperature', 'weather',\n",
    "                                  'wind_dir', 'wind_speed'],\n",
    "                           na_values=-99999)\n",
    "\n",
    "    data_arr.set_index('stid', inplace=True)"
   ]
  },
  {
   "cell_type": "markdown",
   "metadata": {},
   "source": [
    "This sample data has *way* too many stations to plot all of them. Instead, we just select\n",
    "a few from around the U.S. and pull those out of the data file.\n",
    "\n"
   ]
  },
  {
   "cell_type": "code",
   "execution_count": null,
   "metadata": {},
   "outputs": [],
   "source": [
    "# Pull out these specific stations\n",
    "selected = ['OKC', 'ICT', 'GLD', 'MEM', 'BOS', 'MIA', 'MOB', 'ABQ', 'PHX', 'TTF',\n",
    "            'ORD', 'BIL', 'BIS', 'CPR', 'LAX', 'ATL', 'MSP', 'SLC', 'DFW', 'NYC', 'PHL',\n",
    "            'PIT', 'IND', 'OLY', 'SYR', 'LEX', 'CHS', 'TLH', 'HOU', 'GJT', 'LBB', 'LSV',\n",
    "            'GRB', 'CLT', 'LNK', 'DSM', 'BOI', 'FSD', 'RAP', 'RIC', 'JAN', 'HSV', 'CRW',\n",
    "            'SAT', 'BUY', '0CO', 'ZPC', 'VIH']\n",
    "\n",
    "# Loop over all the whitelisted sites, grab the first data, and concatenate them\n",
    "data_arr = data_arr.loc[selected]\n",
    "\n",
    "# Drop rows with missing winds\n",
    "data_arr = data_arr.dropna(how='any', subset=['wind_dir', 'wind_speed'])\n",
    "\n",
    "# First, look at the names of variables that the layout is expecting:\n",
    "simple_layout.names()"
   ]
  },
  {
   "cell_type": "markdown",
   "metadata": {},
   "source": [
    "Next grab the simple variables out of the data we have (attaching correct units), and\n",
    "put them into a dictionary that we will hand the plotting function later:\n",
    "\n"
   ]
  },
  {
   "cell_type": "code",
   "execution_count": null,
   "metadata": {},
   "outputs": [],
   "source": [
    "# This is our container for the data\n",
    "data = {}\n",
    "\n",
    "# Copy out to stage everything together. In an ideal world, this would happen on\n",
    "# the data reading side of things, but we're not there yet.\n",
    "data['longitude'] = data_arr['lon'].values\n",
    "data['latitude'] = data_arr['lat'].values\n",
    "data['air_temperature'] = data_arr['air_temperature'].values * units.degC\n",
    "data['dew_point_temperature'] = data_arr['dew_point_temperature'].values * units.degC\n",
    "data['air_pressure_at_sea_level'] = data_arr['slp'].values * units('mbar')"
   ]
  },
  {
   "cell_type": "markdown",
   "metadata": {},
   "source": [
    "Notice that the names (the keys) in the dictionary are the same as those that the\n",
    "layout is expecting.\n",
    "\n",
    "Now perform a few conversions:\n",
    "\n",
    "- Get wind components from speed and direction\n",
    "- Convert cloud fraction values to integer codes [0 - 8]\n",
    "- Map METAR weather codes to WMO codes for weather symbols\n",
    "\n"
   ]
  },
  {
   "cell_type": "code",
   "execution_count": null,
   "metadata": {},
   "outputs": [],
   "source": [
    "# Get the wind components, converting from m/s to knots as will be appropriate\n",
    "# for the station plot\n",
    "u, v = wind_components(data_arr['wind_speed'].values * units('m/s'),\n",
    "                       data_arr['wind_dir'].values * units.degree)\n",
    "data['eastward_wind'], data['northward_wind'] = u, v\n",
    "\n",
    "# Convert the fraction value into a code of 0-8, which can be used to pull out\n",
    "# the appropriate symbol\n",
    "data['cloud_coverage'] = (8 * data_arr['cloud_fraction']).fillna(10).values.astype(int)\n",
    "\n",
    "# Map weather strings to WMO codes, which we can use to convert to symbols\n",
    "# Only use the first symbol if there are multiple\n",
    "wx_text = data_arr['weather'].fillna('')\n",
    "data['current_wx1_symbol'] = [wx_code_map[s.split()[0] if ' ' in s else s] for s in wx_text]"
   ]
  },
  {
   "cell_type": "markdown",
   "metadata": {},
   "source": [
    "All the data wrangling is finished, just need to set up plotting and go:\n",
    "Set up the map projection and set up a cartopy feature for state borders\n",
    "\n"
   ]
  },
  {
   "cell_type": "code",
   "execution_count": null,
   "metadata": {},
   "outputs": [],
   "source": [
    "proj = ccrs.LambertConformal(central_longitude=-95, central_latitude=35,\n",
    "                             standard_parallels=[35])"
   ]
  },
  {
   "cell_type": "markdown",
   "metadata": {},
   "source": [
    "## The payoff\n",
    "\n"
   ]
  },
  {
   "cell_type": "code",
   "execution_count": null,
   "metadata": {},
   "outputs": [],
   "source": [
    "# Change the DPI of the resulting figure. Higher DPI drastically improves the\n",
    "# look of the text rendering\n",
    "plt.rcParams['savefig.dpi'] = 255\n",
    "\n",
    "# Create the figure and an axes set to the projection\n",
    "fig = plt.figure(figsize=(20, 10))\n",
    "add_metpy_logo(fig, 1080, 290, size='large')\n",
    "ax = fig.add_subplot(1, 1, 1, projection=proj)\n",
    "\n",
    "# Add some various map elements to the plot to make it recognizable\n",
    "ax.add_feature(cfeature.LAND)\n",
    "ax.add_feature(cfeature.OCEAN)\n",
    "ax.add_feature(cfeature.LAKES)\n",
    "ax.add_feature(cfeature.COASTLINE)\n",
    "ax.add_feature(cfeature.STATES)\n",
    "ax.add_feature(cfeature.BORDERS, linewidth=2)\n",
    "\n",
    "# Set plot bounds\n",
    "ax.set_extent((-118, -73, 23, 50))\n",
    "\n",
    "#\n",
    "# Here's the actual station plot\n",
    "#\n",
    "\n",
    "# Start the station plot by specifying the axes to draw on, as well as the\n",
    "# lon/lat of the stations (with transform). We also the fontsize to 12 pt.\n",
    "stationplot = StationPlot(ax, data['longitude'], data['latitude'],\n",
    "                          transform=ccrs.PlateCarree(), fontsize=12)\n",
    "\n",
    "# The layout knows where everything should go, and things are standardized using\n",
    "# the names of variables. So the layout pulls arrays out of `data` and plots them\n",
    "# using `stationplot`.\n",
    "simple_layout.plot(stationplot, data)\n",
    "\n",
    "plt.show()"
   ]
  },
  {
   "cell_type": "markdown",
   "metadata": {},
   "source": [
    "or instead, a custom layout can be used:\n",
    "\n"
   ]
  },
  {
   "cell_type": "code",
   "execution_count": null,
   "metadata": {},
   "outputs": [],
   "source": [
    "# Just winds, temps, and dewpoint, with colors. Dewpoint and temp will be plotted\n",
    "# out to Fahrenheit tenths. Extra data will be ignored\n",
    "custom_layout = StationPlotLayout()\n",
    "custom_layout.add_barb('eastward_wind', 'northward_wind', units='knots')\n",
    "custom_layout.add_value('NW', 'air_temperature', fmt='.1f', units='degF', color='darkred')\n",
    "custom_layout.add_value('SW', 'dew_point_temperature', fmt='.1f', units='degF',\n",
    "                        color='darkgreen')\n",
    "\n",
    "# Also, we'll add a field that we don't have in our dataset. This will be ignored\n",
    "custom_layout.add_value('E', 'precipitation', fmt='0.2f', units='inch', color='blue')\n",
    "\n",
    "# Create the figure and an axes set to the projection\n",
    "fig = plt.figure(figsize=(20, 10))\n",
    "add_metpy_logo(fig, 1080, 290, size='large')\n",
    "ax = fig.add_subplot(1, 1, 1, projection=proj)\n",
    "\n",
    "# Add some various map elements to the plot to make it recognizable\n",
    "ax.add_feature(cfeature.LAND)\n",
    "ax.add_feature(cfeature.OCEAN)\n",
    "ax.add_feature(cfeature.LAKES)\n",
    "ax.add_feature(cfeature.COASTLINE)\n",
    "ax.add_feature(cfeature.STATES)\n",
    "ax.add_feature(cfeature.BORDERS, linewidth=2)\n",
    "\n",
    "# Set plot bounds\n",
    "ax.set_extent((-118, -73, 23, 50))\n",
    "\n",
    "#\n",
    "# Here's the actual station plot\n",
    "#\n",
    "\n",
    "# Start the station plot by specifying the axes to draw on, as well as the\n",
    "# lon/lat of the stations (with transform). We also the fontsize to 12 pt.\n",
    "stationplot = StationPlot(ax, data['longitude'], data['latitude'],\n",
    "                          transform=ccrs.PlateCarree(), fontsize=12)\n",
    "\n",
    "# The layout knows where everything should go, and things are standardized using\n",
    "# the names of variables. So the layout pulls arrays out of `data` and plots them\n",
    "# using `stationplot`.\n",
    "custom_layout.plot(stationplot, data)\n",
    "\n",
    "plt.show()"
   ]
  }
 ],
 "metadata": {
  "kernelspec": {
   "display_name": "Python 3 (ipykernel)",
   "language": "python",
   "name": "python3"
  },
  "language_info": {
   "codemirror_mode": {
    "name": "ipython",
    "version": 3
   },
   "file_extension": ".py",
   "mimetype": "text/x-python",
   "name": "python",
   "nbconvert_exporter": "python",
   "pygments_lexer": "ipython3",
   "version": "3.9.13"
  }
 },
 "nbformat": 4,
 "nbformat_minor": 1
}
