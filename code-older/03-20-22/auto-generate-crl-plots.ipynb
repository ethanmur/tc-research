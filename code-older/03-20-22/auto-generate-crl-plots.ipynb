{
 "cells": [
  {
   "cell_type": "code",
   "execution_count": 1,
   "id": "72c8c492",
   "metadata": {
    "scrolled": true
   },
   "outputs": [],
   "source": [
    "# ctrl+/ -> multi line comments\n",
    "\n",
    "import numpy as np\n",
    "import os\n",
    "import matplotlib.pyplot as plt\n",
    "import xarray as xr"
   ]
  },
  {
   "cell_type": "code",
   "execution_count": 2,
   "id": "87ce475a",
   "metadata": {
    "scrolled": true
   },
   "outputs": [
    {
     "name": "stdout",
     "output_type": "stream",
     "text": [
      "P3_20210811H1_200000-224759.cdf\n",
      "P3_20210812H1_095513-125927.cdf\n",
      "P3_20210812H2_212248-235510.cdf\n",
      "P3_20210813H1_091801-113558.cdf\n",
      "P3_20210816H1_085245-123459.cdf\n",
      "P3_20210816H1_090000-102359.cdf\n",
      "P3_20210817H1_094204-132058.cdf\n",
      "P3_20210818H1_211425-244159.cdf\n",
      "P3_20210819H1_213003-244159.cdf\n",
      "P3_20210820H1_212402-245958.cdf\n",
      "P3_20210821H2_213903-225658.cdf\n",
      "P3_20210821H2_213903-262058.cdf\n",
      "P3_20210827H1_203112-275220.cdf\n",
      "P3_20210828H1_200115-221321.cdf\n",
      "P3_20210829H1_171201-223719.cdf\n",
      "P3_20210925H1_211201-243558.cdf\n",
      "P3_20210926H1_220900-255058.cdf\n",
      "P3_20210927H1_213003-253558.cdf\n",
      "P3_20210929H2_211201-261159.cdf\n",
      "\n",
      "\n",
      "P3_20210829H1_171201-223719.cdf\n",
      "P3_20210925H1_211201-243558.cdf\n",
      "P3_20210926H1_220900-255058.cdf\n",
      "P3_20210927H1_213003-253558.cdf\n"
     ]
    }
   ],
   "source": [
    "# choose inputs here to view different data sets\n",
    "path1 = \"/Users/etmu9498/Desktop/research/CRL_data/2021\"\n",
    "path2 = \"/Users/etmu9498/Desktop/research/CRL_data/2021_Sam\"\n",
    "\n",
    "# change paths to look at the folder with data\n",
    "os.chdir( path1)\n",
    "\n",
    "nc_data1 = []\n",
    "for (dirpath, dirnames, filenames) in os.walk( path1):\n",
    "    nc_data1.extend(filenames)\n",
    "    break\n",
    "    \n",
    "# print(nc_data)\n",
    "print(\"\\n\".join( nc_data1) + \"\\n\\n\")\n",
    "\n",
    "os.chdir( path2)\n",
    "nc_data2 = []\n",
    "for (dirpath, dirnames, filenames) in os.walk( path2):\n",
    "    nc_data2.extend(filenames)\n",
    "    break\n",
    "    \n",
    "# print(nc_data)\n",
    "print(\"\\n\".join( nc_data2))\n",
    "\n",
    "# print( nc_data1[-1])"
   ]
  },
  {
   "cell_type": "code",
   "execution_count": 3,
   "id": "54759b9e",
   "metadata": {},
   "outputs": [
    {
     "name": "stdout",
     "output_type": "stream",
     "text": [
      "P3_20210927H1_213003-253558.cdf\n"
     ]
    }
   ],
   "source": [
    "# change paths to look at the folder with data\n",
    "file_name = nc_data1[ -2]\n",
    "\n",
    "os.chdir( path1)\n",
    "print( file_name)\n",
    "crl_data = xr.open_dataset( file_name)\n",
    "\n",
    "#os.chdir( path2)\n",
    "#print( nc_data2[ 3])\n",
    "#crl_data_2 = xr.open_dataset( nc_data2[3])\n",
    "\n",
    "# crl_data"
   ]
  },
  {
   "cell_type": "code",
   "execution_count": 4,
   "id": "c0e6675f",
   "metadata": {
    "scrolled": true
   },
   "outputs": [
    {
     "name": "stdout",
     "output_type": "stream",
     "text": [
      "21.5004\n",
      "25.59965\n"
     ]
    }
   ],
   "source": [
    "\n",
    "# alt_in = inbound_data.variables['altitude']\n",
    "# max_alt_in = alt_in.max().values\n",
    "\n",
    "# alt_out = outbound_data.variables['altitude']\n",
    "# max_alt_out = alt_out.max().values\n",
    "\n",
    "# time changes as an X variable\n",
    "# print( len( crl_data_2.T[ :, 0]))\n",
    "# print( len( crl_data_2.time))\n",
    "\n",
    "# height changes as a Y variable\n",
    "# print( len( crl_data_2.T[ 0, :]))\n",
    "# print( len( crl_data_2.H))\n",
    "\n",
    "# print( crl_data.T[ 0, :].values )\n",
    "\n",
    "# change all incorrectly large values (T = 999 C) to nans\n",
    "# crl_data_test = crl_data.T.where( crl_data.T.values < 50 )\n",
    "\n",
    "print( crl_data.time[0].values)\n",
    "print( crl_data.time[-1].values)"
   ]
  },
  {
   "cell_type": "code",
   "execution_count": 5,
   "id": "2557b2ae",
   "metadata": {
    "scrolled": true
   },
   "outputs": [
    {
     "ename": "TypeError",
     "evalue": "Dimensions of C (7322, 594) are incompatible with X (7322) and/or Y (594); see help(pcolormesh)",
     "output_type": "error",
     "traceback": [
      "\u001b[1;31m---------------------------------------------------------------------------\u001b[0m",
      "\u001b[1;31mTypeError\u001b[0m                                 Traceback (most recent call last)",
      "\u001b[1;32m~\\AppData\\Local\\Temp/ipykernel_4596/818879997.py\u001b[0m in \u001b[0;36m<module>\u001b[1;34m\u001b[0m\n\u001b[0;32m      2\u001b[0m \u001b[0mcolor_map\u001b[0m \u001b[1;33m=\u001b[0m \u001b[0mplt\u001b[0m\u001b[1;33m.\u001b[0m\u001b[0mcm\u001b[0m\u001b[1;33m.\u001b[0m\u001b[0mget_cmap\u001b[0m\u001b[1;33m(\u001b[0m \u001b[1;34m\"RdYlBu\"\u001b[0m\u001b[1;33m)\u001b[0m\u001b[1;33m.\u001b[0m\u001b[0mreversed\u001b[0m\u001b[1;33m(\u001b[0m\u001b[1;33m)\u001b[0m\u001b[1;33m\u001b[0m\u001b[1;33m\u001b[0m\u001b[0m\n\u001b[0;32m      3\u001b[0m \u001b[1;33m\u001b[0m\u001b[0m\n\u001b[1;32m----> 4\u001b[1;33m \u001b[0mplt\u001b[0m\u001b[1;33m.\u001b[0m\u001b[0mpcolormesh\u001b[0m\u001b[1;33m(\u001b[0m \u001b[0mcrl_data\u001b[0m\u001b[1;33m.\u001b[0m\u001b[0mtime\u001b[0m\u001b[1;33m,\u001b[0m \u001b[1;33m-\u001b[0m \u001b[0mcrl_data\u001b[0m\u001b[1;33m.\u001b[0m\u001b[0mH\u001b[0m\u001b[1;33m,\u001b[0m \u001b[0mcrl_data\u001b[0m\u001b[1;33m.\u001b[0m\u001b[0mT\u001b[0m\u001b[1;33m.\u001b[0m\u001b[0mwhere\u001b[0m\u001b[1;33m(\u001b[0m \u001b[0mcrl_data\u001b[0m\u001b[1;33m.\u001b[0m\u001b[0mT\u001b[0m\u001b[1;33m.\u001b[0m\u001b[0mvalues\u001b[0m \u001b[1;33m<\u001b[0m \u001b[1;36m50\u001b[0m\u001b[1;33m)\u001b[0m\u001b[1;33m,\u001b[0m \u001b[0mcmap\u001b[0m \u001b[1;33m=\u001b[0m \u001b[0mcolor_map\u001b[0m \u001b[1;33m)\u001b[0m\u001b[1;33m\u001b[0m\u001b[1;33m\u001b[0m\u001b[0m\n\u001b[0m\u001b[0;32m      5\u001b[0m \u001b[1;31m# plt.title( 'CRL Temperature Measurements in Hurricane Sam, 9/27/21')\u001b[0m\u001b[1;33m\u001b[0m\u001b[1;33m\u001b[0m\u001b[0m\n\u001b[0;32m      6\u001b[0m \u001b[0mplt\u001b[0m\u001b[1;33m.\u001b[0m\u001b[0mtitle\u001b[0m\u001b[1;33m(\u001b[0m \u001b[1;34m'CRL Temperature Measurements for '\u001b[0m \u001b[1;33m+\u001b[0m \u001b[0mfile_name\u001b[0m\u001b[1;33m[\u001b[0m\u001b[1;36m7\u001b[0m\u001b[1;33m:\u001b[0m\u001b[1;36m11\u001b[0m\u001b[1;33m]\u001b[0m\u001b[1;33m)\u001b[0m\u001b[1;33m\u001b[0m\u001b[1;33m\u001b[0m\u001b[0m\n",
      "\u001b[1;32m~\\Anaconda3\\lib\\site-packages\\matplotlib\\pyplot.py\u001b[0m in \u001b[0;36mpcolormesh\u001b[1;34m(alpha, norm, cmap, vmin, vmax, shading, antialiased, data, *args, **kwargs)\u001b[0m\n\u001b[0;32m   2978\u001b[0m         \u001b[0mvmax\u001b[0m\u001b[1;33m=\u001b[0m\u001b[1;32mNone\u001b[0m\u001b[1;33m,\u001b[0m \u001b[0mshading\u001b[0m\u001b[1;33m=\u001b[0m\u001b[1;32mNone\u001b[0m\u001b[1;33m,\u001b[0m \u001b[0mantialiased\u001b[0m\u001b[1;33m=\u001b[0m\u001b[1;32mFalse\u001b[0m\u001b[1;33m,\u001b[0m \u001b[0mdata\u001b[0m\u001b[1;33m=\u001b[0m\u001b[1;32mNone\u001b[0m\u001b[1;33m,\u001b[0m\u001b[1;33m\u001b[0m\u001b[1;33m\u001b[0m\u001b[0m\n\u001b[0;32m   2979\u001b[0m         **kwargs):\n\u001b[1;32m-> 2980\u001b[1;33m     __ret = gca().pcolormesh(\n\u001b[0m\u001b[0;32m   2981\u001b[0m         \u001b[1;33m*\u001b[0m\u001b[0margs\u001b[0m\u001b[1;33m,\u001b[0m \u001b[0malpha\u001b[0m\u001b[1;33m=\u001b[0m\u001b[0malpha\u001b[0m\u001b[1;33m,\u001b[0m \u001b[0mnorm\u001b[0m\u001b[1;33m=\u001b[0m\u001b[0mnorm\u001b[0m\u001b[1;33m,\u001b[0m \u001b[0mcmap\u001b[0m\u001b[1;33m=\u001b[0m\u001b[0mcmap\u001b[0m\u001b[1;33m,\u001b[0m \u001b[0mvmin\u001b[0m\u001b[1;33m=\u001b[0m\u001b[0mvmin\u001b[0m\u001b[1;33m,\u001b[0m\u001b[1;33m\u001b[0m\u001b[1;33m\u001b[0m\u001b[0m\n\u001b[0;32m   2982\u001b[0m         \u001b[0mvmax\u001b[0m\u001b[1;33m=\u001b[0m\u001b[0mvmax\u001b[0m\u001b[1;33m,\u001b[0m \u001b[0mshading\u001b[0m\u001b[1;33m=\u001b[0m\u001b[0mshading\u001b[0m\u001b[1;33m,\u001b[0m \u001b[0mantialiased\u001b[0m\u001b[1;33m=\u001b[0m\u001b[0mantialiased\u001b[0m\u001b[1;33m,\u001b[0m\u001b[1;33m\u001b[0m\u001b[1;33m\u001b[0m\u001b[0m\n",
      "\u001b[1;32m~\\Anaconda3\\lib\\site-packages\\matplotlib\\__init__.py\u001b[0m in \u001b[0;36minner\u001b[1;34m(ax, data, *args, **kwargs)\u001b[0m\n\u001b[0;32m   1359\u001b[0m     \u001b[1;32mdef\u001b[0m \u001b[0minner\u001b[0m\u001b[1;33m(\u001b[0m\u001b[0max\u001b[0m\u001b[1;33m,\u001b[0m \u001b[1;33m*\u001b[0m\u001b[0margs\u001b[0m\u001b[1;33m,\u001b[0m \u001b[0mdata\u001b[0m\u001b[1;33m=\u001b[0m\u001b[1;32mNone\u001b[0m\u001b[1;33m,\u001b[0m \u001b[1;33m**\u001b[0m\u001b[0mkwargs\u001b[0m\u001b[1;33m)\u001b[0m\u001b[1;33m:\u001b[0m\u001b[1;33m\u001b[0m\u001b[1;33m\u001b[0m\u001b[0m\n\u001b[0;32m   1360\u001b[0m         \u001b[1;32mif\u001b[0m \u001b[0mdata\u001b[0m \u001b[1;32mis\u001b[0m \u001b[1;32mNone\u001b[0m\u001b[1;33m:\u001b[0m\u001b[1;33m\u001b[0m\u001b[1;33m\u001b[0m\u001b[0m\n\u001b[1;32m-> 1361\u001b[1;33m             \u001b[1;32mreturn\u001b[0m \u001b[0mfunc\u001b[0m\u001b[1;33m(\u001b[0m\u001b[0max\u001b[0m\u001b[1;33m,\u001b[0m \u001b[1;33m*\u001b[0m\u001b[0mmap\u001b[0m\u001b[1;33m(\u001b[0m\u001b[0msanitize_sequence\u001b[0m\u001b[1;33m,\u001b[0m \u001b[0margs\u001b[0m\u001b[1;33m)\u001b[0m\u001b[1;33m,\u001b[0m \u001b[1;33m**\u001b[0m\u001b[0mkwargs\u001b[0m\u001b[1;33m)\u001b[0m\u001b[1;33m\u001b[0m\u001b[1;33m\u001b[0m\u001b[0m\n\u001b[0m\u001b[0;32m   1362\u001b[0m \u001b[1;33m\u001b[0m\u001b[0m\n\u001b[0;32m   1363\u001b[0m         \u001b[0mbound\u001b[0m \u001b[1;33m=\u001b[0m \u001b[0mnew_sig\u001b[0m\u001b[1;33m.\u001b[0m\u001b[0mbind\u001b[0m\u001b[1;33m(\u001b[0m\u001b[0max\u001b[0m\u001b[1;33m,\u001b[0m \u001b[1;33m*\u001b[0m\u001b[0margs\u001b[0m\u001b[1;33m,\u001b[0m \u001b[1;33m**\u001b[0m\u001b[0mkwargs\u001b[0m\u001b[1;33m)\u001b[0m\u001b[1;33m\u001b[0m\u001b[1;33m\u001b[0m\u001b[0m\n",
      "\u001b[1;32m~\\Anaconda3\\lib\\site-packages\\matplotlib\\axes\\_axes.py\u001b[0m in \u001b[0;36mpcolormesh\u001b[1;34m(self, alpha, norm, cmap, vmin, vmax, shading, antialiased, *args, **kwargs)\u001b[0m\n\u001b[0;32m   6181\u001b[0m         \u001b[0mkwargs\u001b[0m\u001b[1;33m.\u001b[0m\u001b[0msetdefault\u001b[0m\u001b[1;33m(\u001b[0m\u001b[1;34m'edgecolors'\u001b[0m\u001b[1;33m,\u001b[0m \u001b[1;34m'none'\u001b[0m\u001b[1;33m)\u001b[0m\u001b[1;33m\u001b[0m\u001b[1;33m\u001b[0m\u001b[0m\n\u001b[0;32m   6182\u001b[0m \u001b[1;33m\u001b[0m\u001b[0m\n\u001b[1;32m-> 6183\u001b[1;33m         X, Y, C, shading = self._pcolorargs('pcolormesh', *args,\n\u001b[0m\u001b[0;32m   6184\u001b[0m                                             shading=shading, kwargs=kwargs)\n\u001b[0;32m   6185\u001b[0m         \u001b[0mNy\u001b[0m\u001b[1;33m,\u001b[0m \u001b[0mNx\u001b[0m \u001b[1;33m=\u001b[0m \u001b[0mX\u001b[0m\u001b[1;33m.\u001b[0m\u001b[0mshape\u001b[0m\u001b[1;33m\u001b[0m\u001b[1;33m\u001b[0m\u001b[0m\n",
      "\u001b[1;32m~\\Anaconda3\\lib\\site-packages\\matplotlib\\axes\\_axes.py\u001b[0m in \u001b[0;36m_pcolorargs\u001b[1;34m(self, funcname, shading, *args, **kwargs)\u001b[0m\n\u001b[0;32m   5695\u001b[0m         \u001b[1;32mif\u001b[0m \u001b[0mshading\u001b[0m \u001b[1;33m==\u001b[0m \u001b[1;34m'flat'\u001b[0m\u001b[1;33m:\u001b[0m\u001b[1;33m\u001b[0m\u001b[1;33m\u001b[0m\u001b[0m\n\u001b[0;32m   5696\u001b[0m             \u001b[1;32mif\u001b[0m \u001b[1;32mnot\u001b[0m \u001b[1;33m(\u001b[0m\u001b[0mncols\u001b[0m \u001b[1;32min\u001b[0m \u001b[1;33m(\u001b[0m\u001b[0mNx\u001b[0m\u001b[1;33m,\u001b[0m \u001b[0mNx\u001b[0m \u001b[1;33m-\u001b[0m \u001b[1;36m1\u001b[0m\u001b[1;33m)\u001b[0m \u001b[1;32mand\u001b[0m \u001b[0mnrows\u001b[0m \u001b[1;32min\u001b[0m \u001b[1;33m(\u001b[0m\u001b[0mNy\u001b[0m\u001b[1;33m,\u001b[0m \u001b[0mNy\u001b[0m \u001b[1;33m-\u001b[0m \u001b[1;36m1\u001b[0m\u001b[1;33m)\u001b[0m\u001b[1;33m)\u001b[0m\u001b[1;33m:\u001b[0m\u001b[1;33m\u001b[0m\u001b[1;33m\u001b[0m\u001b[0m\n\u001b[1;32m-> 5697\u001b[1;33m                 raise TypeError('Dimensions of C %s are incompatible with'\n\u001b[0m\u001b[0;32m   5698\u001b[0m                                 ' X (%d) and/or Y (%d); see help(%s)' % (\n\u001b[0;32m   5699\u001b[0m                                     C.shape, Nx, Ny, funcname))\n",
      "\u001b[1;31mTypeError\u001b[0m: Dimensions of C (7322, 594) are incompatible with X (7322) and/or Y (594); see help(pcolormesh)"
     ]
    },
    {
     "data": {
      "image/png": "[encoded data removed]",
      "text/plain": [
       "<Figure size 1440x144 with 1 Axes>"
      ]
     },
     "metadata": {
      "needs_background": "light"
     },
     "output_type": "display_data"
    }
   ],
   "source": [
    "fig = plt.figure( figsize=(20, 2))\n",
    "color_map = plt.cm.get_cmap( \"RdYlBu\").reversed()\n",
    "\n",
    "plt.pcolormesh( crl_data.time, - crl_data.H, crl_data.T.where( crl_data.T.values < 50), cmap = color_map ) \n",
    "# plt.title( 'CRL Temperature Measurements in Hurricane Sam, 9/27/21')\n",
    "plt.title( 'CRL Temperature Measurements for ' + file_name[7:11])\n",
    "plt.ylabel( 'Distance From Surface (km)')\n",
    "plt.xlabel( 'Time of Flight (hours)')\n",
    "plt.xlim( [22.8, 23.75 ])\n",
    "plt.grid( 'on')\n",
    "\n",
    "ax = plt.gca()\n",
    "ax.set_facecolor('k')\n",
    "\n",
    "plt.colorbar(label=\"Temperature ( C)\")\n",
    "# fig.tight_layout()\n",
    "plt.show()\n"
   ]
  },
  {
   "cell_type": "code",
   "execution_count": null,
   "id": "fb628d90",
   "metadata": {},
   "outputs": [],
   "source": []
  }
 ],
 "metadata": {
  "kernelspec": {
   "display_name": "Python 3 (ipykernel)",
   "language": "python",
   "name": "python3"
  },
  "language_info": {
   "codemirror_mode": {
    "name": "ipython",
    "version": 3
   },
   "file_extension": ".py",
   "mimetype": "text/x-python",
   "name": "python",
   "nbconvert_exporter": "python",
   "pygments_lexer": "ipython3",
   "version": "3.9.7"
  }
 },
 "nbformat": 4,
 "nbformat_minor": 5
}
