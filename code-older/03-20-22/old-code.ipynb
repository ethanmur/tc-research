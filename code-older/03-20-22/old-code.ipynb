{
 "cells": [
  {
   "cell_type": "code",
   "execution_count": null,
   "id": "384dad57",
   "metadata": {},
   "outputs": [],
   "source": [
    "# with gzip.open('210827H1_2118_vert_inbound.nc.gz', 'rb') as f:\n",
    "  #  file_content = f.read()\n",
    "\n",
    "#with gzip.open('210827H1_2118_vert_inbound.nc.gz', 'rb') as f_in:\n",
    " #   with open('210827H1_2118_vert_inbound.nc', 'wb') as f_out:\n",
    "  #      shutil.copyfileobj(f_in, f_out)\n",
    "        \n",
    "# 210827H1_2118_vert_inbound.nc\n",
    "\n",
    "# data = netCDF4.Dataset(\"210827H1_2118_vert_inbound.nc\")\n",
    "\n",
    "#with gzip.open('210827H1_2118_vert_inbound_fall.nc.gz') as gz:\n",
    " #   with netCDF4.Dataset('dummy', mode='r', memory=gz.read()) as nc:\n",
    "  #      print(nc.variables)"
   ]
  }
 ],
 "metadata": {
  "kernelspec": {
   "display_name": "Python 3 (ipykernel)",
   "language": "python",
   "name": "python3"
  },
  "language_info": {
   "codemirror_mode": {
    "name": "ipython",
    "version": 3
   },
   "file_extension": ".py",
   "mimetype": "text/x-python",
   "name": "python",
   "nbconvert_exporter": "python",
   "pygments_lexer": "ipython3",
   "version": "3.8.12"
  }
 },
 "nbformat": 4,
 "nbformat_minor": 5
}
