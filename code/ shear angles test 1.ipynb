{
 "cells": [
  {
   "cell_type": "code",
   "execution_count": 1,
   "id": "e7adba1d",
   "metadata": {
    "scrolled": false
   },
   "outputs": [
    {
     "name": "stdout",
     "output_type": "stream",
     "text": [
      "in-situ-sam-09-26-eye-1.nc\n",
      "25.9067\n",
      "Dataset 0:\n",
      "shear dir: 64\n",
      "p3 dir: 89.9067\n",
      "early quadrant: UL\n",
      "late quadrant: DR\n",
      "\n",
      "in-situ-sam-09-26-eye-2.nc\n",
      "145.5818\n",
      "Dataset 1:\n",
      "shear dir: 64\n",
      "p3 dir: 209.5818\n",
      "early quadrant: DL\n",
      "late quadrant: UR\n",
      "\n",
      "in-situ-sam-09-26-eye-3.nc\n",
      "245.76170000000002\n",
      "Dataset 2:\n",
      "shear dir: 64\n",
      "p3 dir: 309.7617\n",
      "early quadrant: DR\n",
      "late quadrant: UL\n",
      "\n",
      "in-situ-sam-09-27-eye-2.nc\n",
      "149.4874\n",
      "Dataset 3:\n",
      "shear dir: 44\n",
      "p3 dir: 193.4874\n",
      "early quadrant: DL\n",
      "late quadrant: UR\n",
      "\n",
      "in-situ-sam-09-27-eye-3.nc\n",
      "284.2431\n",
      "Dataset 4:\n",
      "shear dir: 44\n",
      "p3 dir: 328.2431\n",
      "early quadrant: UR\n",
      "late quadrant: DL\n",
      "\n",
      "in-situ-sam-09-29-eye-1.nc\n",
      "259.6541\n",
      "Dataset 5:\n",
      "shear dir: 57\n",
      "p3 dir: 316.6541\n",
      "early quadrant: DR\n",
      "late quadrant: UL\n",
      "\n",
      "in-situ-sam-09-29-eye-2.nc\n",
      "11.889300000000006\n",
      "Dataset 6:\n",
      "shear dir: 57\n",
      "p3 dir: 68.8893\n",
      "early quadrant: UL\n",
      "late quadrant: DR\n",
      "\n"
     ]
    },
    {
     "ename": "IndexError",
     "evalue": "list index out of range",
     "output_type": "error",
     "traceback": [
      "\u001b[1;31m---------------------------------------------------------------------------\u001b[0m",
      "\u001b[1;31mIndexError\u001b[0m                                Traceback (most recent call last)",
      "Input \u001b[1;32mIn [1]\u001b[0m, in \u001b[0;36m<cell line: 7>\u001b[1;34m()\u001b[0m\n\u001b[0;32m      5\u001b[0m tc \u001b[38;5;241m=\u001b[39m \u001b[38;5;124m'\u001b[39m\u001b[38;5;124msam\u001b[39m\u001b[38;5;124m'\u001b[39m\n\u001b[0;32m      7\u001b[0m \u001b[38;5;28;01mfor\u001b[39;00m i \u001b[38;5;129;01min\u001b[39;00m \u001b[38;5;28mrange\u001b[39m( \u001b[38;5;241m9\u001b[39m):\n\u001b[1;32m----> 8\u001b[0m     q1, q2 \u001b[38;5;241m=\u001b[39m \u001b[43mshear_angles\u001b[49m\u001b[38;5;241;43m.\u001b[39;49m\u001b[43mtwo_shear_quadrants\u001b[49m\u001b[43m(\u001b[49m\u001b[43m \u001b[49m\u001b[43mtc\u001b[49m\u001b[43m,\u001b[49m\u001b[43m \u001b[49m\u001b[43mi\u001b[49m\u001b[43m,\u001b[49m\u001b[43m \u001b[49m\u001b[43mclose_warn\u001b[49m\u001b[38;5;241;43m=\u001b[39;49m\u001b[38;5;28;43;01mTrue\u001b[39;49;00m\u001b[43m)\u001b[49m\n\u001b[0;32m      9\u001b[0m     shear_dir \u001b[38;5;241m=\u001b[39m shear_angles\u001b[38;5;241m.\u001b[39mmetadata_shear_dir( tc, i)\n\u001b[0;32m     10\u001b[0m     p3_dir \u001b[38;5;241m=\u001b[39m shear_angles\u001b[38;5;241m.\u001b[39min_situ_p3_dir( tc, i)\n",
      "File \u001b[1;32m~\\research\\code\\scripts\\shear\\shear_angles.py:16\u001b[0m, in \u001b[0;36mtwo_shear_quadrants\u001b[1;34m(tcname, dataset, close_warn)\u001b[0m\n\u001b[0;32m     13\u001b[0m \u001b[38;5;28;01mdef\u001b[39;00m \u001b[38;5;21mtwo_shear_quadrants\u001b[39m( tcname, dataset, close_warn\u001b[38;5;241m=\u001b[39m\u001b[38;5;28;01mFalse\u001b[39;00m):\n\u001b[0;32m     14\u001b[0m     \u001b[38;5;66;03m# load metadata and dataset names for this case\u001b[39;00m\n\u001b[0;32m     15\u001b[0m     metadata \u001b[38;5;241m=\u001b[39m tc_metadata\u001b[38;5;241m.\u001b[39mall_data( tcname)\n\u001b[1;32m---> 16\u001b[0m     tdr_name, crl_name \u001b[38;5;241m=\u001b[39m \u001b[43mtc_metadata\u001b[49m\u001b[38;5;241;43m.\u001b[39;49m\u001b[43mchoose_new_data\u001b[49m\u001b[43m(\u001b[49m\u001b[43m \u001b[49m\u001b[43mtcname\u001b[49m\u001b[43m,\u001b[49m\u001b[43m \u001b[49m\u001b[43mdataset\u001b[49m\u001b[43m)\u001b[49m\n\u001b[0;32m     17\u001b[0m     in_situ_name \u001b[38;5;241m=\u001b[39m tc_metadata\u001b[38;5;241m.\u001b[39mchoose_new_in_situ_name( tcname, dataset)\n\u001b[0;32m     19\u001b[0m     \u001b[38;5;28mprint\u001b[39m( in_situ_name)\n",
      "File \u001b[1;32m~\\research\\code\\scripts\\tc_metadata.py:432\u001b[0m, in \u001b[0;36mchoose_new_data\u001b[1;34m(tc_name, counter)\u001b[0m\n\u001b[0;32m    430\u001b[0m     \u001b[38;5;28mprint\u001b[39m( \u001b[38;5;124m'\u001b[39m\u001b[38;5;124mupdate if statement!\u001b[39m\u001b[38;5;124m'\u001b[39m)\n\u001b[0;32m    431\u001b[0m     \u001b[38;5;28;01mreturn\u001b[39;00m \u001b[38;5;241m1\u001b[39m, \u001b[38;5;241m1\u001b[39m\n\u001b[1;32m--> 432\u001b[0m \u001b[38;5;28;01mreturn\u001b[39;00m \u001b[43mtdr_data\u001b[49m\u001b[43m[\u001b[49m\u001b[43m \u001b[49m\u001b[43mcounter\u001b[49m\u001b[43m]\u001b[49m, crl_data[ counter]\n",
      "\u001b[1;31mIndexError\u001b[0m: list index out of range"
     ]
    }
   ],
   "source": [
    "import os\n",
    "os.chdir( \"/Users/etmu9498/research/code/scripts/shear\")\n",
    "import shear_angles\n",
    "\n",
    "tc = 'sam'\n",
    "\n",
    "for i in range( 9):\n",
    "    q1, q2 = shear_angles.two_shear_quadrants( tc, i, close_warn=True)\n",
    "    shear_dir = shear_angles.metadata_shear_dir( tc, i)\n",
    "    p3_dir = shear_angles.in_situ_p3_dir( tc, i)\n",
    "\n",
    "    print( 'Dataset ' + str( i) + ':')\n",
    "    print( 'shear dir: ' + str( shear_dir))\n",
    "    print( 'p3 dir: ' + str( p3_dir))\n",
    "    print( 'early quadrant: ' + q1)\n",
    "    print( 'late quadrant: ' + q2 + '\\n')"
   ]
  },
  {
   "cell_type": "code",
   "execution_count": null,
   "id": "5e9e3b89",
   "metadata": {},
   "outputs": [],
   "source": []
  },
  {
   "cell_type": "code",
   "execution_count": null,
   "id": "ce8d8603",
   "metadata": {},
   "outputs": [],
   "source": []
  }
 ],
 "metadata": {
  "kernelspec": {
   "display_name": "Python 3 (ipykernel)",
   "language": "python",
   "name": "python3"
  },
  "language_info": {
   "codemirror_mode": {
    "name": "ipython",
    "version": 3
   },
   "file_extension": ".py",
   "mimetype": "text/x-python",
   "name": "python",
   "nbconvert_exporter": "python",
   "pygments_lexer": "ipython3",
   "version": "3.9.13"
  }
 },
 "nbformat": 4,
 "nbformat_minor": 5
}
