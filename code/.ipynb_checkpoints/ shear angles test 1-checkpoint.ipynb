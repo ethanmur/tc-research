{
 "cells": [
  {
   "cell_type": "code",
   "execution_count": 2,
   "id": "e7adba1d",
   "metadata": {
    "scrolled": false
   },
   "outputs": [
    {
     "name": "stdout",
     "output_type": "stream",
     "text": [
      "Dataset 0:\n",
      "shear dir: 64\n",
      "p3 dir: 89.9067\n",
      "early quadrant: UL\n",
      "late quadrant: DR\n",
      "\n",
      "Dataset 1:\n",
      "shear dir: 64\n",
      "p3 dir: 209.5818\n",
      "early quadrant: DL\n",
      "late quadrant: UR\n",
      "\n",
      "Dataset 2:\n",
      "shear dir: 64\n",
      "p3 dir: 309.7617\n",
      "early quadrant: DR\n",
      "late quadrant: UL\n",
      "\n",
      "Dataset 3:\n",
      "shear dir: 44\n",
      "p3 dir: 193.4874\n",
      "early quadrant: DL\n",
      "late quadrant: UR\n",
      "\n",
      "Dataset 4:\n",
      "shear dir: 44\n",
      "p3 dir: 328.2431\n",
      "early quadrant: UR\n",
      "late quadrant: DL\n",
      "\n",
      "Dataset 5:\n",
      "shear dir: 57\n",
      "p3 dir: 316.6541\n",
      "early quadrant: DR\n",
      "late quadrant: UL\n",
      "\n",
      "Dataset 6:\n",
      "shear dir: 57\n",
      "p3 dir: 68.8893\n",
      "early quadrant: UL\n",
      "late quadrant: DR\n",
      "\n"
     ]
    }
   ],
   "source": [
    "import os\n",
    "os.chdir( \"/Users/etmu9498/research/code/scripts/shear\")\n",
    "import shear_angles\n",
    "\n",
    "for i in range( 7):\n",
    "    q1, q2 = shear_angles.two_shear_quadrants( 'sam', i)\n",
    "    shear_dir = shear_angles.metadata_shear_dir( 'sam', i)\n",
    "    p3_dir = shear_angles.in_situ_p3_dir( 'sam', i)\n",
    "\n",
    "    print( 'Dataset ' + str( i) + ':')\n",
    "    print( 'shear dir: ' + str( shear_dir))\n",
    "    print( 'p3 dir: ' + str( p3_dir))\n",
    "    print( 'early quadrant: ' + q1)\n",
    "    print( 'late quadrant: ' + q2 + '\\n')"
   ]
  },
  {
   "cell_type": "code",
   "execution_count": null,
   "id": "5e9e3b89",
   "metadata": {},
   "outputs": [],
   "source": []
  },
  {
   "cell_type": "code",
   "execution_count": null,
   "id": "ce8d8603",
   "metadata": {},
   "outputs": [],
   "source": []
  }
 ],
 "metadata": {
  "kernelspec": {
   "display_name": "Python 3 (ipykernel)",
   "language": "python",
   "name": "python3"
  },
  "language_info": {
   "codemirror_mode": {
    "name": "ipython",
    "version": 3
   },
   "file_extension": ".py",
   "mimetype": "text/x-python",
   "name": "python",
   "nbconvert_exporter": "python",
   "pygments_lexer": "ipython3",
   "version": "3.9.13"
  }
 },
 "nbformat": 4,
 "nbformat_minor": 5
}
