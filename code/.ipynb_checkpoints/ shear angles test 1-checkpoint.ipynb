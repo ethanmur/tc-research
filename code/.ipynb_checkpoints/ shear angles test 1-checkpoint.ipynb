{
 "cells": [
  {
   "cell_type": "code",
   "execution_count": 5,
   "id": "e7adba1d",
   "metadata": {
    "scrolled": false
   },
   "outputs": [
    {
     "name": "stdout",
     "output_type": "stream",
     "text": [
      "in-situ-grace-08-17-eye-1.nc\n",
      "17.32499999999999\n",
      "Dataset 0:\n",
      "shear dir: 142\n",
      "p3 dir: 159.325\n",
      "early quadrant: UL\n",
      "late quadrant: DR\n",
      "\n",
      "in-situ-grace-08-17-eye-2.nc\n",
      "138.0869\n",
      "Dataset 1:\n",
      "shear dir: 142\n",
      "p3 dir: 280.0869\n",
      "early quadrant: DL\n",
      "late quadrant: UR\n",
      "\n",
      "in-situ-grace-08-17-eye-3.nc\n",
      "177.3977\n",
      "Dataset 2:\n",
      "shear dir: 142\n",
      "p3 dir: 319.3977\n",
      "early quadrant: DL\n",
      "late quadrant: UR\n",
      "\n",
      "in-situ-grace-08-18-eye-1.nc\n",
      "25.798100000000005\n",
      "Dataset 3:\n",
      "shear dir: 135\n",
      "p3 dir: 109.2019\n",
      "early quadrant: UR\n",
      "late quadrant: DL\n",
      "\n",
      "in-situ-grace-08-18-eye-2.nc\n",
      "147.7692\n",
      "Dataset 4:\n",
      "shear dir: 135\n",
      "p3 dir: 282.7692\n",
      "early quadrant: DL\n",
      "late quadrant: UR\n",
      "\n",
      "in-situ-grace-08-18-eye-3.nc\n",
      "104.2281\n",
      "Dataset 5:\n",
      "shear dir: 135\n",
      "p3 dir: 30.7719\n",
      "early quadrant: DR\n",
      "late quadrant: UL\n",
      "\n",
      "in-situ-grace-08-19-eye-1.nc\n",
      "33.1199\n",
      "Dataset 6:\n",
      "shear dir: 169\n",
      "p3 dir: 202.1199\n",
      "early quadrant: UL\n",
      "late quadrant: DR\n",
      "\n",
      "in-situ-grace-08-19-eye-2.nc\n",
      "163.4733\n",
      "Dataset 7:\n",
      "shear dir: 169\n",
      "p3 dir: 332.4733\n",
      "early quadrant: DL\n",
      "late quadrant: UR\n",
      "\n",
      "in-situ-grace-08-19-eye-3.nc\n",
      "98.8917\n",
      "Warning: Flight path is within 10 degrees of shear quadrant boundary.\n",
      "Dataset 8:\n",
      "shear dir: 169\n",
      "p3 dir: 70.1083\n",
      "early quadrant: DR\n",
      "late quadrant: UL\n",
      "\n"
     ]
    }
   ],
   "source": [
    "import os\n",
    "os.chdir( \"/Users/etmu9498/research/code/scripts/shear\")\n",
    "import shear_angles\n",
    "\n",
    "tc = 'grace'\n",
    "\n",
    "for i in range( 9):\n",
    "    q1, q2 = shear_angles.two_shear_quadrants( tc, i, close_warn=True)\n",
    "    shear_dir = shear_angles.metadata_shear_dir( tc, i)\n",
    "    p3_dir = shear_angles.in_situ_p3_dir( tc, i)\n",
    "\n",
    "    print( 'Dataset ' + str( i) + ':')\n",
    "    print( 'shear dir: ' + str( shear_dir))\n",
    "    print( 'p3 dir: ' + str( p3_dir))\n",
    "    print( 'early quadrant: ' + q1)\n",
    "    print( 'late quadrant: ' + q2 + '\\n')"
   ]
  },
  {
   "cell_type": "code",
   "execution_count": null,
   "id": "5e9e3b89",
   "metadata": {},
   "outputs": [],
   "source": []
  },
  {
   "cell_type": "code",
   "execution_count": null,
   "id": "ce8d8603",
   "metadata": {},
   "outputs": [],
   "source": []
  }
 ],
 "metadata": {
  "kernelspec": {
   "display_name": "Python 3 (ipykernel)",
   "language": "python",
   "name": "python3"
  },
  "language_info": {
   "codemirror_mode": {
    "name": "ipython",
    "version": 3
   },
   "file_extension": ".py",
   "mimetype": "text/x-python",
   "name": "python",
   "nbconvert_exporter": "python",
   "pygments_lexer": "ipython3",
   "version": "3.9.13"
  }
 },
 "nbformat": 4,
 "nbformat_minor": 5
}
