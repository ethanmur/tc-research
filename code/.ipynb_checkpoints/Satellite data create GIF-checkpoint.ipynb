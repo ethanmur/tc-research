{
 "cells": [
  {
   "cell_type": "code",
   "execution_count": 1,
   "id": "5f42de83",
   "metadata": {
    "scrolled": false
   },
   "outputs": [],
   "source": [
    "## last edited: 6/9/22\n",
    "## status: the goes_ir_gif, etc scripts are all working! They can auto generate images used for gifs.\n",
    "##         but, the ffmpeg command isn't working to actually generate the gifs, so I'm mostly relying on an online\n",
    "##         gif generator.\n",
    "\n",
    "import os\n",
    "os.chdir(  \"/Users/etmu9498/research/code/scripts\")\n",
    "import goes_gifs\n",
    "import make_plots\n",
    "import xarray as xr\n",
    "import numpy as np\n",
    "from datetime import datetime\n",
    "\n",
    "# load goes data\n",
    "goes_data_path = \"/Users/etmu9498/research/data/goes-satellite/0926\"\n",
    "# goes_data_path = \"/Users/etmu9498/research/data/goes-satellite/0829\"\n",
    "goes_names = goes_gifs.load_goes( goes_data_path)\n",
    "\n",
    "# load crl data\n",
    "crl_path = \"/Users/etmu9498/research/data/CRL_data/2021\"\n",
    "crl_list = make_plots.load_crl( crl_path)\n",
    "crl_name = crl_list[ 16]\n",
    "\n",
    "os.chdir( goes_data_path)\n",
    "C = xr.open_dataset( goes_names[ 0])\n",
    "# print( np.max( C['CMI_C13'].data))\n",
    "# C\n"
   ]
  },
  {
   "cell_type": "code",
   "execution_count": 2,
   "id": "b5267a9f",
   "metadata": {},
   "outputs": [
    {
     "name": "stdout",
     "output_type": "stream",
     "text": [
      "Existing folder accessed\n",
      "Starting to make image 1\n",
      "Image 1 complete\n"
     ]
    },
    {
     "data": {
      "text/plain": [
       "<Figure size 1080x864 with 0 Axes>"
      ]
     },
     "metadata": {},
     "output_type": "display_data"
    }
   ],
   "source": [
    "# using the collocation_test script to see if I'm having crl + satellite data matchup issues\n",
    "\n",
    "collocation_path = \"/Users/etmu9498/research/data/goes-satellite/collocation-test\"\n",
    "collocation_names = goes_gifs.load_goes( collocation_path)\n",
    "\n",
    "goes_gifs.collocation_test( collocation_names, collocation_path, crl_name, crl_path)"
   ]
  },
  {
   "cell_type": "code",
   "execution_count": 3,
   "id": "62fa57d8",
   "metadata": {
    "scrolled": true
   },
   "outputs": [
    {
     "name": "stdout",
     "output_type": "stream",
     "text": [
      "Existing folder accessed\n",
      "Starting to make image 1\n",
      "Image 1 complete\n",
      "Starting to make image 2\n",
      "Image 2 complete\n",
      "Starting to make image 3\n",
      "Image 3 complete\n",
      "Starting to make image 4\n",
      "Image 4 complete\n",
      "Starting to make image 5\n",
      "Image 5 complete\n",
      "Starting to make image 6\n",
      "Image 6 complete\n",
      "Starting to make image 7\n",
      "Image 7 complete\n",
      "Starting to make image 8\n",
      "Image 8 complete\n",
      "Starting to make image 9\n",
      "Image 9 complete\n"
     ]
    },
    {
     "data": {
      "text/plain": [
       "<Figure size 1080x864 with 0 Axes>"
      ]
     },
     "metadata": {},
     "output_type": "display_data"
    },
    {
     "data": {
      "text/plain": [
       "<Figure size 1080x864 with 0 Axes>"
      ]
     },
     "metadata": {},
     "output_type": "display_data"
    },
    {
     "data": {
      "text/plain": [
       "<Figure size 1080x864 with 0 Axes>"
      ]
     },
     "metadata": {},
     "output_type": "display_data"
    },
    {
     "data": {
      "text/plain": [
       "<Figure size 1080x864 with 0 Axes>"
      ]
     },
     "metadata": {},
     "output_type": "display_data"
    },
    {
     "data": {
      "text/plain": [
       "<Figure size 1080x864 with 0 Axes>"
      ]
     },
     "metadata": {},
     "output_type": "display_data"
    },
    {
     "data": {
      "text/plain": [
       "<Figure size 1080x864 with 0 Axes>"
      ]
     },
     "metadata": {},
     "output_type": "display_data"
    },
    {
     "data": {
      "text/plain": [
       "<Figure size 1080x864 with 0 Axes>"
      ]
     },
     "metadata": {},
     "output_type": "display_data"
    },
    {
     "data": {
      "text/plain": [
       "<Figure size 1080x864 with 0 Axes>"
      ]
     },
     "metadata": {},
     "output_type": "display_data"
    },
    {
     "data": {
      "text/plain": [
       "<Figure size 1080x864 with 0 Axes>"
      ]
     },
     "metadata": {},
     "output_type": "display_data"
    }
   ],
   "source": [
    "# auto generate goes gif images of satellite data!\n",
    "\n",
    "# goes_gifs.goes_ir_gif( goes_names, goes_data_path, crl_name, crl_path)\n",
    "# goes_gifs.goes_wv_upper_gif( goes_names, goes_data_path, crl_name, crl_path)\n",
    "# goes_gifs.goes_wv_mid_gif( goes_names, goes_data_path, crl_name, crl_path)\n",
    "# goes_gifs.goes_wv_lower_gif( goes_names, goes_data_path, crl_name, crl_path)"
   ]
  },
  {
   "cell_type": "code",
   "execution_count": 29,
   "id": "13794138",
   "metadata": {},
   "outputs": [
    {
     "name": "stdout",
     "output_type": "stream",
     "text": [
      "\n",
      "Creating animation of all output plots...\n",
      "\n"
     ]
    },
    {
     "ename": "CalledProcessError",
     "evalue": "Command 'ffmpeg -r 2 -f image2 -s 1920x1080 -pattern_type glob -i \"*.png\" -vcodec libx264 -crf 15 -pix_fmt yuv420p -vf \"scale=trunc(iw/2)*2:trunc(ih/2)*2\" test2.mp4' returned non-zero exit status 1.",
     "output_type": "error",
     "traceback": [
      "\u001b[1;31m---------------------------------------------------------------------------\u001b[0m",
      "\u001b[1;31mCalledProcessError\u001b[0m                        Traceback (most recent call last)",
      "Input \u001b[1;32mIn [29]\u001b[0m, in \u001b[0;36m<cell line: 16>\u001b[1;34m()\u001b[0m\n\u001b[0;32m     13\u001b[0m \u001b[38;5;66;03m# shell_str = 'ffmpeg -r ' + frmRate + ' -f image2 -s 1920x1080 -pattern_type glob -i \"' + inGlob + '\" -vcodec libx264 -crf ' + crf + ' -pix_fmt yuv420p -vf \"scale=trunc(iw/2)*2:trunc(ih/2)*2\" ' + outAnimFn\u001b[39;00m\n\u001b[0;32m     14\u001b[0m shell_str \u001b[38;5;241m=\u001b[39m \u001b[38;5;124m'\u001b[39m\u001b[38;5;124mffmpeg -r 2 -f image2 -s 1920x1080 -pattern_type glob -i \u001b[39m\u001b[38;5;124m\"\u001b[39m\u001b[38;5;124m*.png\u001b[39m\u001b[38;5;124m\"\u001b[39m\u001b[38;5;124m -vcodec libx264 -crf 15 -pix_fmt yuv420p -vf \u001b[39m\u001b[38;5;124m\"\u001b[39m\u001b[38;5;124mscale=trunc(iw/2)*2:trunc(ih/2)*2\u001b[39m\u001b[38;5;124m\"\u001b[39m\u001b[38;5;124m test2.mp4\u001b[39m\u001b[38;5;124m'\u001b[39m\n\u001b[1;32m---> 16\u001b[0m \u001b[43mrun\u001b[49m\u001b[43m(\u001b[49m\u001b[43m \u001b[49m\u001b[43mshell_str\u001b[49m\u001b[43m,\u001b[49m\u001b[43m \u001b[49m\u001b[43mshell\u001b[49m\u001b[38;5;241;43m=\u001b[39;49m\u001b[38;5;28;43;01mTrue\u001b[39;49;00m\u001b[43m,\u001b[49m\u001b[43m \u001b[49m\u001b[43mcheck\u001b[49m\u001b[38;5;241;43m=\u001b[39;49m\u001b[38;5;28;43;01mTrue\u001b[39;49;00m\u001b[43m)\u001b[49m\n",
      "File \u001b[1;32m~\\Anaconda3\\lib\\subprocess.py:528\u001b[0m, in \u001b[0;36mrun\u001b[1;34m(input, capture_output, timeout, check, *popenargs, **kwargs)\u001b[0m\n\u001b[0;32m    526\u001b[0m     retcode \u001b[38;5;241m=\u001b[39m process\u001b[38;5;241m.\u001b[39mpoll()\n\u001b[0;32m    527\u001b[0m     \u001b[38;5;28;01mif\u001b[39;00m check \u001b[38;5;129;01mand\u001b[39;00m retcode:\n\u001b[1;32m--> 528\u001b[0m         \u001b[38;5;28;01mraise\u001b[39;00m CalledProcessError(retcode, process\u001b[38;5;241m.\u001b[39margs,\n\u001b[0;32m    529\u001b[0m                                  output\u001b[38;5;241m=\u001b[39mstdout, stderr\u001b[38;5;241m=\u001b[39mstderr)\n\u001b[0;32m    530\u001b[0m \u001b[38;5;28;01mreturn\u001b[39;00m CompletedProcess(process\u001b[38;5;241m.\u001b[39margs, retcode, stdout, stderr)\n",
      "\u001b[1;31mCalledProcessError\u001b[0m: Command 'ffmpeg -r 2 -f image2 -s 1920x1080 -pattern_type glob -i \"*.png\" -vcodec libx264 -crf 15 -pix_fmt yuv420p -vf \"scale=trunc(iw/2)*2:trunc(ih/2)*2\" test2.mp4' returned non-zero exit status 1."
     ]
    }
   ],
   "source": [
    "# testing code snippet to use ffmpeg to auto generate gifs\n",
    "\n",
    "# make gif or mp4 file!\n",
    "from subprocess import run\n",
    "\n",
    "os.chdir( \"/Users/etmu9498/research/figures/goes-gifs/09262021_wv_mid\")\n",
    "print('\\nCreating animation of all output plots...\\n')\n",
    "frmRate  = str(2)\n",
    "inGlob  = \"*.png\" # '{}/*.{}'.format(saveDir,fType)\n",
    "crf  = str(15)\n",
    "outAnimFn  = \"test.mp4\" # '{}/{:%Y%m%d}_mSHSR.mp4'.format(saveDir,pltT)\n",
    "\n",
    "# shell_str = 'ffmpeg -r ' + frmRate + ' -f image2 -s 1920x1080 -pattern_type glob -i \"' + inGlob + '\" -vcodec libx264 -crf ' + crf + ' -pix_fmt yuv420p -vf \"scale=trunc(iw/2)*2:trunc(ih/2)*2\" ' + outAnimFn\n",
    "shell_str = 'ffmpeg -r 2 -f image2 -s 1920x1080 -pattern_type glob -i \"*.png\" -vcodec libx264 -crf 15 -pix_fmt yuv420p -vf \"scale=trunc(iw/2)*2:trunc(ih/2)*2\" test2.mp4'\n",
    "\n",
    "run( shell_str, shell=True, check=True)\n",
    "\n",
    "# print( 'Animation created')"
   ]
  },
  {
   "cell_type": "code",
   "execution_count": null,
   "id": "df507d5f",
   "metadata": {},
   "outputs": [],
   "source": []
  }
 ],
 "metadata": {
  "kernelspec": {
   "display_name": "Python 3 (ipykernel)",
   "language": "python",
   "name": "python3"
  },
  "language_info": {
   "codemirror_mode": {
    "name": "ipython",
    "version": 3
   },
   "file_extension": ".py",
   "mimetype": "text/x-python",
   "name": "python",
   "nbconvert_exporter": "python",
   "pygments_lexer": "ipython3",
   "version": "3.9.13"
  }
 },
 "nbformat": 4,
 "nbformat_minor": 5
}
