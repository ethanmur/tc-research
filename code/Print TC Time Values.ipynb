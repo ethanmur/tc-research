{
 "cells": [
  {
   "cell_type": "code",
   "execution_count": 1,
   "id": "fb1d35ab",
   "metadata": {},
   "outputs": [
    {
     "name": "stdout",
     "output_type": "stream",
     "text": [
      "crl data files:\n",
      "0) P3_20210811H1_200000-224759.cdf\n",
      "1) P3_20210812H1_095513-125927.cdf\n",
      "2) P3_20210812H2_212248-235510.cdf\n",
      "3) P3_20210813H1_091801-113558.cdf\n",
      "4) P3_20210816H1_085245-123459.cdf\n",
      "5) P3_20210816H1_090000-102359.cdf\n",
      "6) P3_20210817H1_094204-132058.cdf\n",
      "7) P3_20210818H1_211425-244159.cdf\n",
      "8) P3_20210819H1_213003-244159.cdf\n",
      "9) P3_20210820H1_212402-245958.cdf\n",
      "10) P3_20210821H2_213903-225658.cdf\n",
      "11) P3_20210821H2_213903-262058.cdf\n",
      "12) P3_20210827H1_203112-275220.cdf\n",
      "13) P3_20210828H1_200115-221321.cdf\n",
      "14) P3_20210829H1_171201-223719.cdf\n",
      "15) P3_20210925H1_211201-243558.cdf\n",
      "16) P3_20210926H1_220900-255058.cdf\n",
      "17) P3_20210927H1_213003-253558.cdf\n",
      "18) P3_20210929H2_211201-261159.cdf\n"
     ]
    }
   ],
   "source": [
    "import os\n",
    "import xarray as xr\n",
    "os.chdir( \"/Users/etmu9498/research/code/scripts\")\n",
    "import make_plots\n",
    "\n",
    "crl_path = \"/Users/etmu9498/research/data/CRL_data/2021\"\n",
    "crl_list = make_plots.load_crl( crl_path)\n",
    "os.chdir( crl_path)\n"
   ]
  },
  {
   "cell_type": "code",
   "execution_count": 2,
   "id": "240aa7bf",
   "metadata": {},
   "outputs": [
    {
     "name": "stdout",
     "output_type": "stream",
     "text": [
      "\n",
      "P3_20210811H1_200000-224759.cdf\n",
      "Starting time (UTC): 20.0003\n",
      "Ending time (UTC): 22.7998\n",
      "\n",
      "P3_20210812H1_095513-125927.cdf\n",
      "Starting time (UTC): 9.92039\n",
      "Ending time (UTC): 12.991\n",
      "\n",
      "P3_20210812H2_212248-235510.cdf\n",
      "Starting time (UTC): 21.3802\n",
      "Ending time (UTC): 23.9197\n",
      "\n",
      "P3_20210813H1_091801-113558.cdf\n",
      "Starting time (UTC): 9.30009\n",
      "Ending time (UTC): 11.5996\n",
      "\n",
      "P3_20210816H1_085245-123459.cdf\n",
      "Starting time (UTC): 8.87927\n",
      "Ending time (UTC): 12.5833\n",
      "\n",
      "P3_20210816H1_090000-102359.cdf\n",
      "Starting time (UTC): 9.00044\n",
      "Ending time (UTC): 10.3999\n",
      "\n",
      "P3_20210817H1_094204-132058.cdf\n",
      "Starting time (UTC): 9.70012\n",
      "Ending time (UTC): 13.3496\n",
      "\n",
      "P3_20210818H1_211425-244159.cdf\n",
      "Starting time (UTC): 21.2404\n",
      "Ending time (UTC): 24.699728\n",
      "\n",
      "P3_20210819H1_213003-244159.cdf\n",
      "Starting time (UTC): 21.5001\n",
      "Ending time (UTC): 24.699856\n",
      "\n",
      "P3_20210820H1_212402-245958.cdf\n",
      "Starting time (UTC): 21.4004\n",
      "Ending time (UTC): 24.999605\n",
      "\n",
      "P3_20210821H2_213903-225658.cdf\n",
      "Starting time (UTC): 21.6502\n",
      "Ending time (UTC): 22.9497\n",
      "\n",
      "P3_20210821H2_213903-262058.cdf\n",
      "Starting time (UTC): 21.6502\n",
      "Ending time (UTC): 26.34947\n",
      "\n",
      "P3_20210827H1_203112-275220.cdf\n",
      "Starting time (UTC): 20.5201\n",
      "Ending time (UTC): 27.87224\n",
      "\n",
      "P3_20210828H1_200115-221321.cdf\n",
      "Starting time (UTC): 20.021\n",
      "Ending time (UTC): 22.2227\n",
      "\n",
      "P3_20210829H1_171201-223719.cdf\n",
      "Starting time (UTC): 17.2004\n",
      "Ending time (UTC): 22.6221\n",
      "\n",
      "P3_20210925H1_211201-243558.cdf\n",
      "Starting time (UTC): 21.2001\n",
      "Ending time (UTC): 24.59945\n",
      "\n",
      "P3_20210926H1_220900-255058.cdf\n",
      "Starting time (UTC): 22.1504\n",
      "Ending time (UTC): 25.84955\n",
      "\n",
      "P3_20210927H1_213003-253558.cdf\n",
      "Starting time (UTC): 21.5004\n",
      "Ending time (UTC): 25.59965\n",
      "\n",
      "P3_20210929H2_211201-261159.cdf\n",
      "Starting time (UTC): 21.2004\n",
      "Ending time (UTC): 26.19998\n"
     ]
    }
   ],
   "source": [
    "for i in range( len( crl_list)):\n",
    "    \n",
    "    crl_name = crl_list[ i]\n",
    "    crl_data = xr.open_dataset( crl_name)\n",
    "    time_start = crl_data.time[0].values\n",
    "    time_end = crl_data.time[-1].values\n",
    "    \n",
    "    print( \"\\n\" + str( crl_name))\n",
    "    print( \"Starting time (UTC): \" + str( time_start))\n",
    "    print( \"Ending time (UTC): \" + str( time_end))"
   ]
  },
  {
   "cell_type": "code",
   "execution_count": null,
   "id": "b529bfb6",
   "metadata": {},
   "outputs": [],
   "source": []
  },
  {
   "cell_type": "code",
   "execution_count": null,
   "id": "1c5d2ffe",
   "metadata": {},
   "outputs": [],
   "source": []
  }
 ],
 "metadata": {
  "kernelspec": {
   "display_name": "Python 3 (ipykernel)",
   "language": "python",
   "name": "python3"
  },
  "language_info": {
   "codemirror_mode": {
    "name": "ipython",
    "version": 3
   },
   "file_extension": ".py",
   "mimetype": "text/x-python",
   "name": "python",
   "nbconvert_exporter": "python",
   "pygments_lexer": "ipython3",
   "version": "3.10.5"
  }
 },
 "nbformat": 4,
 "nbformat_minor": 5
}
