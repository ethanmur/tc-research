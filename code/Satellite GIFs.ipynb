{
 "cells": [
  {
   "cell_type": "code",
   "execution_count": 2,
   "id": "5240cf64",
   "metadata": {
    "scrolled": false
   },
   "outputs": [
    {
     "name": "stdout",
     "output_type": "stream",
     "text": [
      "Existing folder accessed: 08122021am_in_situ\n",
      "Number of GOES Images to be Created: 3\n",
      "\n",
      "Starting to make image 1\n",
      "GOES Image 1 Created\n",
      "goes time:10.043333333333333\n",
      "P-3 Location Added\n",
      "Image 1 complete\n",
      "\n",
      "Starting to make image 2\n",
      "GOES Image 2 Created\n",
      "goes time:11.043333333333333\n",
      "P-3 Location Added\n",
      "Image 2 complete\n",
      "\n",
      "Starting to make image 3\n",
      "GOES Image 3 Created\n",
      "goes time:12.043333333333333\n",
      "P-3 Location Added\n",
      "Image 3 complete\n"
     ]
    },
    {
     "data": {
      "text/plain": [
       "<Figure size 1080x864 with 0 Axes>"
      ]
     },
     "metadata": {},
     "output_type": "display_data"
    },
    {
     "data": {
      "text/plain": [
       "<Figure size 1080x864 with 0 Axes>"
      ]
     },
     "metadata": {},
     "output_type": "display_data"
    },
    {
     "data": {
      "text/plain": [
       "<Figure size 1080x864 with 0 Axes>"
      ]
     },
     "metadata": {},
     "output_type": "display_data"
    }
   ],
   "source": [
    "import os\n",
    "os.chdir(  \"/Users/etmu9498/research/code/scripts\")\n",
    "import goes_gifs\n",
    "\n",
    "# print out case options\n",
    "# goes_gifs.print_dates()\n",
    "\n",
    "# run one case automatically\n",
    "goes_gifs.one_in_situ_plot( dataset = 0)\n",
    "\n",
    "# run all cases automatically! \n",
    "# goes_gifs.all_in_situ_plots()"
   ]
  },
  {
   "cell_type": "code",
   "execution_count": 5,
   "id": "5f42de83",
   "metadata": {
    "scrolled": false
   },
   "outputs": [
    {
     "name": "stdout",
     "output_type": "stream",
     "text": [
      "GOES satellite data files:\n",
      "0) OR_ABI-L2-MCMIPM1-M6_G16_s20212702130281_e20212702130344_c20212702130423.nc\n",
      "1) OR_ABI-L2-MCMIPM1-M6_G16_s20212702145252_e20212702145315_c20212702145394.nc\n",
      "2) OR_ABI-L2-MCMIPM1-M6_G16_s20212702200281_e20212702200338_c20212702200414.nc\n",
      "3) OR_ABI-L2-MCMIPM1-M6_G16_s20212702215252_e20212702215309_c20212702215407.nc\n",
      "4) OR_ABI-L2-MCMIPM1-M6_G16_s20212702230281_e20212702230349_c20212702230412.nc\n",
      "5) OR_ABI-L2-MCMIPM1-M6_G16_s20212702245252_e20212702245309_c20212702245395.nc\n",
      "6) OR_ABI-L2-MCMIPM1-M6_G16_s20212702300281_e20212702300349_c20212702300419.nc\n",
      "7) OR_ABI-L2-MCMIPM1-M6_G16_s20212702315252_e20212702315315_c20212702315394.nc\n",
      "8) OR_ABI-L2-MCMIPM1-M6_G16_s20212702330281_e20212702330344_c20212702330423.nc\n",
      "9) OR_ABI-L2-MCMIPM1-M6_G16_s20212702345252_e20212702345321_c20212702345388.nc\n",
      "10) OR_ABI-L2-MCMIPM1-M6_G16_s20212710000281_e20212710000338_c20212710000422.nc\n",
      "11) OR_ABI-L2-MCMIPM1-M6_G16_s20212710015252_e20212710015309_c20212710015390.nc\n",
      "12) OR_ABI-L2-MCMIPM1-M6_G16_s20212710030281_e20212710030344_c20212710030423.nc\n",
      "13) OR_ABI-L2-MCMIPM1-M6_G16_s20212710045252_e20212710045315_c20212710045396.nc\n",
      "14) OR_ABI-L2-MCMIPM1-M6_G16_s20212710100281_e20212710100343_c20212710100412.nc\n",
      "15) OR_ABI-L2-MCMIPM1-M6_G16_s20212710115252_e20212710115309_c20212710115395.nc\n",
      "16) OR_ABI-L2-MCMIPM1-M6_G16_s20212710130281_e20212710130344_c20212710130422.nc\n",
      "crl data files:\n",
      "0) P3_20210811H1_200000-224759.cdf\n",
      "1) P3_20210812H1_095513-125927.cdf\n",
      "2) P3_20210812H2_212248-235510.cdf\n",
      "3) P3_20210813H1_091801-113558.cdf\n",
      "4) P3_20210816H1_085245-123459.cdf\n",
      "5) P3_20210816H1_090000-102359.cdf\n",
      "6) P3_20210817H1_094204-132058.cdf\n",
      "7) P3_20210818H1_211425-244159.cdf\n",
      "8) P3_20210819H1_213003-244159.cdf\n",
      "9) P3_20210820H1_212402-245958.cdf\n",
      "10) P3_20210821H2_213903-225658.cdf\n",
      "11) P3_20210821H2_213903-262058.cdf\n",
      "12) P3_20210827H1_203112-275220.cdf\n",
      "13) P3_20210828H1_200115-221321.cdf\n",
      "14) P3_20210829H1_171201-223719.cdf\n",
      "15) P3_20210925H1_211201-243558.cdf\n",
      "16) P3_20210926H1_220900-255058.cdf\n",
      "17) P3_20210927H1_213003-253558.cdf\n",
      "18) P3_20210929H2_211201-261159.cdf\n"
     ]
    }
   ],
   "source": [
    "## last edited: 6/9/22\n",
    "## status: the goes_ir_gif, etc scripts are all working! They can auto generate images used for gifs.\n",
    "##         but, the ffmpeg command isn't working to actually generate the gifs, so I'm mostly relying on an online\n",
    "##         gif generator.\n",
    "\n",
    "import os\n",
    "os.chdir(  \"/Users/etmu9498/research/code/scripts\")\n",
    "import goes_gifs\n",
    "import make_plots\n",
    "import xarray as xr\n",
    "import numpy as np\n",
    "from datetime import datetime\n",
    "\n",
    "# load goes data\n",
    "goes_data_path = \"/Users/etmu9498/research/data/goes-satellite/0927\"\n",
    "# goes_data_path = \"/Users/etmu9498/research/data/goes-satellite/0829\"\n",
    "goes_names = goes_gifs.load_goes( goes_data_path)\n",
    "\n",
    "# load crl data\n",
    "crl_path = \"/Users/etmu9498/research/data/CRL_data/2021\"\n",
    "crl_list = make_plots.load_crl( crl_path, print_files=True)\n",
    "crl_name = crl_list[ 17]"
   ]
  },
  {
   "cell_type": "code",
   "execution_count": 2,
   "id": "b5267a9f",
   "metadata": {},
   "outputs": [],
   "source": [
    "# using the collocation_test script to see if I'm having crl + satellite data matchup issues\n",
    "\n",
    "# collocation_path = \"/Users/etmu9498/research/data/goes-satellite/collocation-test\"\n",
    "# collocation_names = goes_gifs.load_goes( collocation_path)\n",
    "# goes_gifs.collocation_test( collocation_names, collocation_path, crl_name, crl_path)"
   ]
  },
  {
   "cell_type": "code",
   "execution_count": 6,
   "id": "367fdada",
   "metadata": {
    "scrolled": false
   },
   "outputs": [
    {
     "name": "stdout",
     "output_type": "stream",
     "text": [
      "in situ data files:\n",
      "0) 20210527H1_iwg1.txt\n",
      "1) 20210713H1_iwg1.txt\n",
      "2) 20210716H1_iwg1.txt\n",
      "3) 20210811H1_iwg1.txt\n",
      "4) 20210812H1_iwg1.txt\n",
      "5) 20210812H2_iwg1.txt\n",
      "6) 20210813H1_iwg1.txt\n",
      "7) 20210816H1_iwg1.txt\n",
      "8) 20210817H1_iwg1.txt\n",
      "9) 20210818H1_iwg1.txt\n",
      "10) 20210818I1_iwg1.txt\n",
      "11) 20210818N1_iwg1.txt\n",
      "12) 20210819H1_iwg1.txt\n",
      "13) 20210819N1_iwg1.txt\n",
      "14) 20210820H1_iwg1.txt\n",
      "15) 20210821H1_iwg1.txt\n",
      "16) 20210821H2_iwg1.txt\n",
      "17) 20210827H1_iwg1.txt\n",
      "18) 20210828H1_iwg1.txt\n",
      "19) 20210828I1_iwg1.txt\n",
      "20) 20210829H1_iwg1.txt\n",
      "21) 20210829I1_iwg1.txt\n",
      "22) 20210905H1_iwg1.txt\n",
      "23) 20210905I1_iwg1.txt\n",
      "24) 20210906I1_iwg1.txt\n",
      "25) 20210913H1_iwg1.txt\n",
      "26) 20210915H1_iwg1.txt\n",
      "27) 20210917H1_iwg1.txt\n",
      "28) 20210923H1_iwg1.txt\n",
      "29) 20210925H1_iwg1.txt\n",
      "30) 20210925I1_iwg1.txt\n",
      "31) 20210926H1_iwg1.txt\n",
      "32) 20210927H1_iwg1.txt\n",
      "33) 20210929H1_iwg1.txt\n",
      "34) 20210929H2_iwg1.txt\n",
      "35) 20210930H1_iwg1.txt\n"
     ]
    }
   ],
   "source": [
    "in_situ_path = \"/Users/etmu9498/research/data/in-situ\"\n",
    "in_situ_list = make_plots.load_flight_level(in_situ_path, print_files=True)\n",
    "in_situ_name = in_situ_list[ 32]\n",
    "\n",
    "# dataset for shear selection\n",
    "dataset = 3\n",
    "name = 'sam'\n",
    "\n",
    "# extent = [ -77, -73, 20, 24] # fred 8/12\n",
    "# extent = [ -80, -74, 20, 25] # fred 8/13\n",
    "# extent = [ -76, -68, 15, 20] # grace 8/16\n",
    "# extent = [ -80, -72, 15, 21] # grace 8/17\n",
    "# extent = [ -89, -80, 17, 23] # grace 8/18\n",
    "# extent = [ -95, -85, 18, 25] # grace 8/19\n",
    "# extent = [ -77, -71, 28, 35] # henri 8/20\n",
    "# extent = [ -75, -67, 34, 40] # henri 8/21\n",
    "\n",
    "# extent = [ -87, -81, 19.5, 25.5] # ida 8/27\n",
    "\n",
    "# extent = [ -53, -48, 13, 16] # sam 9/26\n",
    "# extent = [ -55, -46, 12, 18] # sam 9/26 zoom out\n",
    "\n",
    "extent = [ -57, -49, 13, 19] # sam 9/27 zoom out\n",
    "# extent = [ -60, -55, 17, 23] # sam 9/29 zoom out\n",
    "\n",
    "# extent = None"
   ]
  },
  {
   "cell_type": "code",
   "execution_count": 7,
   "id": "62fa57d8",
   "metadata": {
    "scrolled": false
   },
   "outputs": [
    {
     "name": "stdout",
     "output_type": "stream",
     "text": [
      "Existing folder accessed: 09272021_in_situ\n",
      "Number of GOES Images to be Created: 17\n",
      "\n",
      "Starting to make image 1\n",
      "GOES Image 1 Created\n",
      "goes time:21.50861111111111\n",
      "in situ data loaded\n",
      "Flight Track Added\n",
      "P-3 Location Added\n",
      "Image 1 complete\n",
      "\n",
      "Starting to make image 2\n",
      "GOES Image 2 Created\n",
      "goes time:21.75777777777778\n",
      "in situ data loaded\n",
      "Flight Track Added\n",
      "P-3 Location Added\n",
      "Image 2 complete\n",
      "\n",
      "Starting to make image 3\n",
      "GOES Image 3 Created\n",
      "goes time:22.008333333333333\n",
      "in situ data loaded\n",
      "Flight Track Added\n",
      "P-3 Location Added\n",
      "Image 3 complete\n",
      "\n",
      "Starting to make image 4\n",
      "GOES Image 4 Created\n",
      "goes time:22.25777777777778\n",
      "in situ data loaded\n",
      "Flight Track Added\n",
      "P-3 Location Added\n",
      "Image 4 complete\n",
      "\n",
      "Starting to make image 5\n",
      "GOES Image 5 Created\n",
      "goes time:22.50861111111111\n",
      "in situ data loaded\n",
      "Flight Track Added\n",
      "P-3 Location Added\n",
      "Image 5 complete\n",
      "\n",
      "Starting to make image 6\n",
      "GOES Image 6 Created\n",
      "goes time:22.75777777777778\n",
      "in situ data loaded\n",
      "Flight Track Added\n",
      "P-3 Location Added\n",
      "Image 6 complete\n",
      "\n",
      "Starting to make image 7\n",
      "GOES Image 7 Created\n",
      "goes time:23.00861111111111\n",
      "in situ data loaded\n",
      "Flight Track Added\n",
      "P-3 Location Added\n",
      "Image 7 complete\n",
      "\n",
      "Starting to make image 8\n",
      "GOES Image 8 Created\n",
      "goes time:23.25777777777778\n",
      "in situ data loaded\n",
      "Flight Track Added\n",
      "P-3 Location Added\n",
      "Image 8 complete\n",
      "\n",
      "Starting to make image 9\n",
      "GOES Image 9 Created\n",
      "goes time:23.50861111111111\n",
      "in situ data loaded\n",
      "Flight Track Added\n",
      "P-3 Location Added\n",
      "Image 9 complete\n",
      "\n",
      "Starting to make image 10\n",
      "GOES Image 10 Created\n",
      "goes time:23.75777777777778\n",
      "in situ data loaded\n",
      "Flight Track Added\n",
      "P-3 Location Added\n",
      "Image 10 complete\n",
      "\n",
      "Starting to make image 11\n",
      "GOES Image 11 Created\n",
      "goes time:0.008333333333333333\n",
      "in situ data loaded\n",
      "Flight Track Added\n",
      "P-3 Location Added\n",
      "Image 11 complete\n",
      "\n",
      "Starting to make image 12\n",
      "GOES Image 12 Created\n",
      "goes time:0.2577777777777778\n",
      "in situ data loaded\n",
      "Flight Track Added\n",
      "P-3 Location Added\n",
      "Image 12 complete\n",
      "\n",
      "Starting to make image 13\n",
      "GOES Image 13 Created\n",
      "goes time:0.5086111111111111\n",
      "in situ data loaded\n",
      "Flight Track Added\n",
      "P-3 Location Added\n",
      "Image 13 complete\n",
      "\n",
      "Starting to make image 14\n",
      "GOES Image 14 Created\n",
      "goes time:0.7577777777777778\n",
      "in situ data loaded\n",
      "Flight Track Added\n",
      "P-3 Location Added\n",
      "Image 14 complete\n",
      "\n",
      "Starting to make image 15\n",
      "GOES Image 15 Created\n",
      "goes time:1.0086111111111111\n",
      "in situ data loaded\n",
      "Flight Track Added\n",
      "P-3 Location Added\n",
      "Image 15 complete\n",
      "\n",
      "Starting to make image 16\n",
      "GOES Image 16 Created\n",
      "goes time:1.2577777777777779\n",
      "in situ data loaded\n",
      "Flight Track Added\n",
      "P-3 Location Added\n",
      "Image 16 complete\n",
      "\n",
      "Starting to make image 17\n",
      "GOES Image 17 Created\n",
      "goes time:1.5086111111111111\n",
      "in situ data loaded\n",
      "Flight Track Added\n",
      "P-3 Location Added\n",
      "Image 17 complete\n",
      "CPU times: total: 1min 11s\n",
      "Wall time: 1min 11s\n"
     ]
    },
    {
     "data": {
      "text/plain": [
       "<Figure size 1080x864 with 0 Axes>"
      ]
     },
     "metadata": {},
     "output_type": "display_data"
    },
    {
     "data": {
      "text/plain": [
       "<Figure size 1080x864 with 0 Axes>"
      ]
     },
     "metadata": {},
     "output_type": "display_data"
    },
    {
     "data": {
      "text/plain": [
       "<Figure size 1080x864 with 0 Axes>"
      ]
     },
     "metadata": {},
     "output_type": "display_data"
    },
    {
     "data": {
      "text/plain": [
       "<Figure size 1080x864 with 0 Axes>"
      ]
     },
     "metadata": {},
     "output_type": "display_data"
    },
    {
     "data": {
      "text/plain": [
       "<Figure size 1080x864 with 0 Axes>"
      ]
     },
     "metadata": {},
     "output_type": "display_data"
    },
    {
     "data": {
      "text/plain": [
       "<Figure size 1080x864 with 0 Axes>"
      ]
     },
     "metadata": {},
     "output_type": "display_data"
    },
    {
     "data": {
      "text/plain": [
       "<Figure size 1080x864 with 0 Axes>"
      ]
     },
     "metadata": {},
     "output_type": "display_data"
    },
    {
     "data": {
      "text/plain": [
       "<Figure size 1080x864 with 0 Axes>"
      ]
     },
     "metadata": {},
     "output_type": "display_data"
    },
    {
     "data": {
      "text/plain": [
       "<Figure size 1080x864 with 0 Axes>"
      ]
     },
     "metadata": {},
     "output_type": "display_data"
    },
    {
     "data": {
      "text/plain": [
       "<Figure size 1080x864 with 0 Axes>"
      ]
     },
     "metadata": {},
     "output_type": "display_data"
    },
    {
     "data": {
      "text/plain": [
       "<Figure size 1080x864 with 0 Axes>"
      ]
     },
     "metadata": {},
     "output_type": "display_data"
    },
    {
     "data": {
      "text/plain": [
       "<Figure size 1080x864 with 0 Axes>"
      ]
     },
     "metadata": {},
     "output_type": "display_data"
    },
    {
     "data": {
      "text/plain": [
       "<Figure size 1080x864 with 0 Axes>"
      ]
     },
     "metadata": {},
     "output_type": "display_data"
    },
    {
     "data": {
      "text/plain": [
       "<Figure size 1080x864 with 0 Axes>"
      ]
     },
     "metadata": {},
     "output_type": "display_data"
    },
    {
     "data": {
      "text/plain": [
       "<Figure size 1080x864 with 0 Axes>"
      ]
     },
     "metadata": {},
     "output_type": "display_data"
    },
    {
     "data": {
      "text/plain": [
       "<Figure size 1080x864 with 0 Axes>"
      ]
     },
     "metadata": {},
     "output_type": "display_data"
    },
    {
     "data": {
      "text/plain": [
       "<Figure size 1080x864 with 0 Axes>"
      ]
     },
     "metadata": {},
     "output_type": "display_data"
    }
   ],
   "source": [
    "%%time\n",
    "# auto generate goes gif images of satellite data!\n",
    "\n",
    "# goes_gifs.goes_ir_gif( goes_names, goes_data_path, crl_name, crl_path)\n",
    "# goes_gifs.goes_wv_upper_gif( goes_names, goes_data_path, crl_name, crl_path)\n",
    "# goes_gifs.goes_wv_mid_gif( goes_names, goes_data_path, crl_name, crl_path)\n",
    "# goes_gifs.goes_wv_lower_gif( goes_names, goes_data_path, crl_name, crl_path)\n",
    "\n",
    "goes_gifs.goes_in_situ( goes_names, goes_data_path, crl_name, crl_path, extent, in_situ_path, in_situ_name, tcname=name, dataset=dataset)"
   ]
  },
  {
   "cell_type": "code",
   "execution_count": null,
   "id": "3404dec6",
   "metadata": {
    "scrolled": false
   },
   "outputs": [],
   "source": [
    "# loop that makes satellite plots for all tcs automatically! with proper naming, etc\n",
    "\n",
    "sat_path = ['0811', '0812pm', '0813', '0816', '0817', '0818', '0819', '0820', '0821'] # '0812am'\n",
    "crl_number = [ 0, 2, 3, 4, 6, 7, 8, 9, 11] # 1\n",
    "in_situ_number = [ 3, 5, 6, 7, 8, 9, 12, 14, 16] # 4\n",
    "extent_list = [ [-75.2, -67.5, 16, 24], [ -78, -72, 19, 25], [ -80, -74, 20, 25], [ -76, -68, 15, 20], [ -80, -72, 15, 21], \n",
    "              [ -89, -80, 17, 23], [ -95, -85, 18, 25], [ -77, -71, 28, 35], [ -75, -67, 34, 40]] # [ -77, -73, 20, 24],\n",
    "\n",
    "for i in [1]: # range( len( sat_path)):\n",
    "    # load goes data\n",
    "    goes_data_path = \"/Users/etmu9498/research/data/goes-satellite/\" + sat_path[i]\n",
    "    goes_names = goes_gifs.load_goes( goes_data_path, print_files=False)\n",
    "\n",
    "    # load crl data\n",
    "    crl_path = \"/Users/etmu9498/research/data/CRL_data/2021\"\n",
    "    crl_list = make_plots.load_crl( crl_path, print_files=False)\n",
    "    crl_name = crl_list[ crl_number[ i]]\n",
    "\n",
    "    in_situ_path = \"/Users/etmu9498/research/data/in-situ\"\n",
    "    in_situ_list = make_plots.load_flight_level(in_situ_path, print_files=False)\n",
    "    in_situ_name = in_situ_list[ in_situ_number[ i]]\n",
    "\n",
    "    extent = extent_list[ i]\n",
    "\n",
    "    goes_gifs.goes_in_situ( goes_names, goes_data_path, crl_name, crl_path, extent, in_situ_path, in_situ_name)"
   ]
  },
  {
   "cell_type": "code",
   "execution_count": 5,
   "id": "13794138",
   "metadata": {},
   "outputs": [
    {
     "data": {
      "text/plain": [
       "'\\n\\n# make gif or mp4 file!\\nfrom subprocess import run\\n\\nos.chdir( \"/Users/etmu9498/research/figures/goes-gifs/09262021_wv_mid\")\\nprint(\\'\\nCreating animation of all output plots...\\n\\')\\nfrmRate  = str(2)\\ninGlob  = \"*.png\" # \\'{}/*.{}\\'.format(saveDir,fType)\\ncrf  = str(15)\\noutAnimFn  = \"test.mp4\" # \\'{}/{:%Y%m%d}_mSHSR.mp4\\'.format(saveDir,pltT)\\n\\n# shell_str = \\'ffmpeg -r \\' + frmRate + \\' -f image2 -s 1920x1080 -pattern_type glob -i \"\\' + inGlob + \\'\" -vcodec libx264 -crf \\' + crf + \\' -pix_fmt yuv420p -vf \"scale=trunc(iw/2)*2:trunc(ih/2)*2\" \\' + outAnimFn\\nshell_str = \\'ffmpeg -r 2 -f image2 -s 1920x1080 -pattern_type glob -i \"*.png\" -vcodec libx264 -crf 15 -pix_fmt yuv420p -vf \"scale=trunc(iw/2)*2:trunc(ih/2)*2\" test2.mp4\\'\\n\\nrun( shell_str, shell=True, check=True)\\n\\n# print( \\'Animation created\\')\\n\\n'"
      ]
     },
     "execution_count": 5,
     "metadata": {},
     "output_type": "execute_result"
    }
   ],
   "source": [
    "# testing code snippet to use ffmpeg to auto generate gifs\n",
    "\n",
    "'''\n",
    "\n",
    "# make gif or mp4 file!\n",
    "from subprocess import run\n",
    "\n",
    "os.chdir( \"/Users/etmu9498/research/figures/goes-gifs/09262021_wv_mid\")\n",
    "print('\\nCreating animation of all output plots...\\n')\n",
    "frmRate  = str(2)\n",
    "inGlob  = \"*.png\" # '{}/*.{}'.format(saveDir,fType)\n",
    "crf  = str(15)\n",
    "outAnimFn  = \"test.mp4\" # '{}/{:%Y%m%d}_mSHSR.mp4'.format(saveDir,pltT)\n",
    "\n",
    "# shell_str = 'ffmpeg -r ' + frmRate + ' -f image2 -s 1920x1080 -pattern_type glob -i \"' + inGlob + '\" -vcodec libx264 -crf ' + crf + ' -pix_fmt yuv420p -vf \"scale=trunc(iw/2)*2:trunc(ih/2)*2\" ' + outAnimFn\n",
    "shell_str = 'ffmpeg -r 2 -f image2 -s 1920x1080 -pattern_type glob -i \"*.png\" -vcodec libx264 -crf 15 -pix_fmt yuv420p -vf \"scale=trunc(iw/2)*2:trunc(ih/2)*2\" test2.mp4'\n",
    "\n",
    "run( shell_str, shell=True, check=True)\n",
    "\n",
    "# print( 'Animation created')\n",
    "\n",
    "'''"
   ]
  },
  {
   "cell_type": "code",
   "execution_count": null,
   "id": "df507d5f",
   "metadata": {},
   "outputs": [],
   "source": []
  }
 ],
 "metadata": {
  "kernelspec": {
   "display_name": "Python 3 (ipykernel)",
   "language": "python",
   "name": "python3"
  },
  "language_info": {
   "codemirror_mode": {
    "name": "ipython",
    "version": 3
   },
   "file_extension": ".py",
   "mimetype": "text/x-python",
   "name": "python",
   "nbconvert_exporter": "python",
   "pygments_lexer": "ipython3",
   "version": "3.9.13"
  }
 },
 "nbformat": 4,
 "nbformat_minor": 5
}
