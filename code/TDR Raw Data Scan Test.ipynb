{
 "cells": [
  {
   "cell_type": "code",
   "execution_count": 1,
   "id": "a85d2479",
   "metadata": {},
   "outputs": [],
   "source": [
    "## last edited: 5/27/22\n",
    "## Status: Fixed path names to match new directory structure. \n",
    "##         Really rough results here, nothing actually usable. Mostly just a test of lrose to see if raw files can be \n",
    "##         converted to nc files, which mostly works!\n",
    "\n",
    "import numpy as np\n",
    "import os\n",
    "import matplotlib.pyplot as plt\n",
    "import xarray as xr\n",
    "import datetime \n",
    "import warnings\n",
    "\n",
    "os.chdir(  \"/Users/etmu9498/research/code/scripts/\")\n",
    "import make_plots"
   ]
  },
  {
   "cell_type": "code",
   "execution_count": 4,
   "id": "8d87152f",
   "metadata": {
    "scrolled": false
   },
   "outputs": [
    {
     "name": "stdout",
     "output_type": "stream",
     "text": [
      "(20,)\n",
      "<xarray.DataArray 'z0' (z0: 20)>\n",
      "array([ 0.5,  1.5,  2.5,  3.5,  4.5,  5.5,  6.5,  7.5,  8.5,  9.5, 10.5, 11.5,\n",
      "       12.5, 13.5, 14.5, 15.5, 16.5, 17.5, 18.5, 19.5], dtype=float32)\n",
      "Coordinates:\n",
      "  * z0       (z0) float32 0.5 1.5 2.5 3.5 4.5 5.5 ... 15.5 16.5 17.5 18.5 19.5\n",
      "Attributes:\n",
      "    standard_name:  altitude\n",
      "    long_name:      constant altitude levels\n",
      "    units:          km\n",
      "    positive:       up\n",
      "    axis:           Z\n",
      "(400,)\n",
      "(1, 20, 400, 400)\n",
      "(20, 400, 400)\n",
      "(400, 400)\n"
     ]
    }
   ],
   "source": [
    "# view datasets\n",
    "\n",
    "# paths to data\n",
    "tdr_raw_path = \"/Users/etmu9498/research/tdr-detailed-analysis/lrose-tests/regridded-data/20210929\"\n",
    "os.chdir(  tdr_raw_path)\n",
    "\n",
    "data = xr.open_dataset( \"ncf_20210929_194120.nc\")\n",
    "\n",
    "print( np.shape( data.z0))\n",
    "print( data.z0)\n",
    "print( np.shape( data.x0))\n",
    "print( np.shape( data.DBZ))\n",
    "\n",
    "data\n",
    "reflectivity = data.DBZ.isel(time=0)\n",
    "print( np.shape( reflectivity))\n",
    "\n",
    "dbz_0 = reflectivity.isel(z0=6)\n",
    "print( np.shape( dbz_0))"
   ]
  },
  {
   "cell_type": "code",
   "execution_count": 5,
   "id": "7f6a3015",
   "metadata": {},
   "outputs": [
    {
     "name": "stderr",
     "output_type": "stream",
     "text": [
      "C:\\Users\\etmu9498\\AppData\\Local\\Temp/ipykernel_25532/1082593984.py:1: MatplotlibDeprecationWarning: shading='flat' when X and Y have the same dimensions as C is deprecated since 3.3.  Either specify the corners of the quadrilaterals with X and Y, or pass shading='auto', 'nearest' or 'gouraud', or set rcParams['pcolor.shading'].  This will become an error two minor releases later.\n",
      "  plt.pcolormesh( data.x0, data.y0, dbz_0)\n"
     ]
    },
    {
     "data": {
      "text/plain": [
       "(-50.0, 50.0)"
      ]
     },
     "execution_count": 5,
     "metadata": {},
     "output_type": "execute_result"
    },
    {
     "data": {
      "image/png": "[encoded data removed]",
      "text/plain": [
       "<Figure size 432x288 with 1 Axes>"
      ]
     },
     "metadata": {
      "needs_background": "light"
     },
     "output_type": "display_data"
    }
   ],
   "source": [
    "plt.pcolormesh( data.x0, data.y0, dbz_0)\n",
    "plt.xlim([-50, 50])\n",
    "plt.ylim([-50, 50])"
   ]
  },
  {
   "cell_type": "code",
   "execution_count": null,
   "id": "0b6c45bd",
   "metadata": {},
   "outputs": [],
   "source": []
  }
 ],
 "metadata": {
  "kernelspec": {
   "display_name": "Python 3 (ipykernel)",
   "language": "python",
   "name": "python3"
  },
  "language_info": {
   "codemirror_mode": {
    "name": "ipython",
    "version": 3
   },
   "file_extension": ".py",
   "mimetype": "text/x-python",
   "name": "python",
   "nbconvert_exporter": "python",
   "pygments_lexer": "ipython3",
   "version": "3.9.7"
  }
 },
 "nbformat": 4,
 "nbformat_minor": 5
}
