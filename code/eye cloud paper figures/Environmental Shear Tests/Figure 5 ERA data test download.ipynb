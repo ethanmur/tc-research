{
 "cells": [
  {
   "cell_type": "code",
   "execution_count": 1,
   "id": "17a64e7c",
   "metadata": {
    "scrolled": false
   },
   "outputs": [
    {
     "name": "stdout",
     "output_type": "stream",
     "text": [
      "Loading SHIPS dataset\n",
      "SHIPS dataset created\n",
      "Number of lines in dataset: 1884145\n",
      "Number of timesteps: 50\n",
      "2021-09-22 18:00:00\n",
      "enter helper fn\n",
      "Case 0 complete\n",
      "Case 20 complete\n",
      "Case 40 complete\n",
      "Case 60 complete\n",
      "Case 80 complete\n",
      "distances found\n",
      "wind speeds found\n",
      "exit helper fn\n",
      "\n",
      "\n",
      "2021-09-23 00:00:00\n",
      "enter helper fn\n",
      "Case 0 complete\n",
      "Case 20 complete\n",
      "Case 40 complete\n",
      "Case 60 complete\n",
      "distances found\n",
      "wind speeds found\n",
      "exit helper fn\n",
      "\n",
      "\n",
      "2021-09-23 06:00:00\n",
      "enter helper fn\n",
      "Case 0 complete\n",
      "Case 20 complete\n",
      "Case 40 complete\n",
      "Case 60 complete\n",
      "distances found\n",
      "wind speeds found\n",
      "exit helper fn\n",
      "\n",
      "\n",
      "2021-09-23 12:00:00\n",
      "enter helper fn\n",
      "Case 0 complete\n",
      "Case 20 complete\n",
      "Case 40 complete\n",
      "Case 60 complete\n",
      "distances found\n",
      "wind speeds found\n",
      "exit helper fn\n",
      "\n",
      "\n",
      "2021-09-23 18:00:00\n",
      "enter helper fn\n",
      "Case 0 complete\n",
      "Case 20 complete\n",
      "Case 40 complete\n",
      "Case 60 complete\n",
      "distances found\n",
      "wind speeds found\n",
      "exit helper fn\n",
      "\n",
      "\n",
      "2021-09-24 00:00:00\n",
      "enter helper fn\n",
      "Case 0 complete\n",
      "Case 20 complete\n",
      "Case 40 complete\n",
      "Case 60 complete\n",
      "distances found\n",
      "wind speeds found\n",
      "exit helper fn\n",
      "\n",
      "\n",
      "2021-09-24 06:00:00\n",
      "enter helper fn\n",
      "Case 0 complete\n",
      "Case 20 complete\n",
      "Case 40 complete\n",
      "Case 60 complete\n",
      "distances found\n",
      "wind speeds found\n",
      "exit helper fn\n",
      "\n",
      "\n",
      "2021-09-24 12:00:00\n",
      "enter helper fn\n",
      "Case 0 complete\n",
      "Case 20 complete\n",
      "Case 40 complete\n",
      "Case 60 complete\n",
      "distances found\n",
      "wind speeds found\n",
      "exit helper fn\n",
      "\n",
      "\n",
      "2021-09-24 18:00:00\n",
      "enter helper fn\n",
      "Case 0 complete\n",
      "Case 20 complete\n",
      "Case 40 complete\n",
      "Case 60 complete\n",
      "distances found\n",
      "wind speeds found\n",
      "exit helper fn\n",
      "\n",
      "\n",
      "2021-09-25 00:00:00\n",
      "enter helper fn\n",
      "Case 0 complete\n",
      "Case 20 complete\n",
      "Case 40 complete\n",
      "Case 60 complete\n",
      "distances found\n",
      "wind speeds found\n",
      "exit helper fn\n",
      "\n",
      "\n",
      "2021-09-25 06:00:00\n",
      "enter helper fn\n",
      "Case 0 complete\n",
      "Case 20 complete\n",
      "Case 40 complete\n",
      "Case 60 complete\n",
      "distances found\n",
      "wind speeds found\n",
      "exit helper fn\n",
      "\n",
      "\n",
      "2021-09-25 12:00:00\n",
      "enter helper fn\n",
      "Case 0 complete\n",
      "Case 20 complete\n",
      "Case 40 complete\n",
      "Case 60 complete\n",
      "distances found\n",
      "wind speeds found\n",
      "exit helper fn\n",
      "\n",
      "\n",
      "2021-09-25 18:00:00\n",
      "enter helper fn\n",
      "Case 0 complete\n",
      "Case 20 complete\n",
      "Case 40 complete\n",
      "Case 60 complete\n",
      "distances found\n",
      "wind speeds found\n",
      "exit helper fn\n",
      "\n",
      "\n",
      "2021-09-26 00:00:00\n",
      "enter helper fn\n",
      "Case 0 complete\n",
      "Case 20 complete\n",
      "Case 40 complete\n",
      "Case 60 complete\n",
      "distances found\n",
      "wind speeds found\n",
      "exit helper fn\n",
      "\n",
      "\n",
      "2021-09-26 06:00:00\n",
      "enter helper fn\n",
      "Case 0 complete\n",
      "Case 20 complete\n",
      "Case 40 complete\n",
      "Case 60 complete\n",
      "distances found\n",
      "wind speeds found\n",
      "exit helper fn\n",
      "\n",
      "\n",
      "2021-09-26 12:00:00\n",
      "enter helper fn\n",
      "Case 0 complete\n",
      "Case 20 complete\n",
      "Case 40 complete\n",
      "Case 60 complete\n",
      "distances found\n",
      "wind speeds found\n",
      "exit helper fn\n",
      "\n",
      "\n",
      "2021-09-26 18:00:00\n",
      "enter helper fn\n",
      "Case 0 complete\n",
      "Case 20 complete\n",
      "Case 40 complete\n",
      "Case 60 complete\n",
      "distances found\n",
      "wind speeds found\n",
      "exit helper fn\n",
      "\n",
      "\n",
      "2021-09-27 00:00:00\n",
      "enter helper fn\n",
      "Case 0 complete\n",
      "Case 20 complete\n",
      "Case 40 complete\n",
      "Case 60 complete\n",
      "Case 80 complete\n",
      "distances found\n",
      "wind speeds found\n",
      "exit helper fn\n",
      "\n",
      "\n",
      "2021-09-27 06:00:00\n",
      "enter helper fn\n",
      "Case 0 complete\n",
      "Case 20 complete\n",
      "Case 40 complete\n",
      "Case 60 complete\n",
      "Case 80 complete\n",
      "distances found\n",
      "wind speeds found\n",
      "exit helper fn\n",
      "\n",
      "\n",
      "2021-09-27 12:00:00\n",
      "enter helper fn\n",
      "Case 0 complete\n",
      "Case 20 complete\n",
      "Case 40 complete\n",
      "Case 60 complete\n",
      "distances found\n",
      "wind speeds found\n",
      "exit helper fn\n",
      "\n",
      "\n",
      "2021-09-27 18:00:00\n",
      "enter helper fn\n",
      "Case 0 complete\n",
      "Case 20 complete\n",
      "Case 40 complete\n",
      "Case 60 complete\n",
      "distances found\n",
      "wind speeds found\n",
      "exit helper fn\n",
      "\n",
      "\n",
      "2021-09-28 00:00:00\n",
      "enter helper fn\n",
      "Case 0 complete\n",
      "Case 20 complete\n",
      "Case 40 complete\n",
      "Case 60 complete\n",
      "Case 80 complete\n",
      "distances found\n",
      "wind speeds found\n",
      "exit helper fn\n",
      "\n",
      "\n",
      "2021-09-28 06:00:00\n",
      "enter helper fn\n",
      "Case 0 complete\n",
      "Case 20 complete\n",
      "Case 40 complete\n",
      "Case 60 complete\n",
      "distances found\n",
      "wind speeds found\n",
      "exit helper fn\n",
      "\n",
      "\n",
      "2021-09-28 12:00:00\n",
      "enter helper fn\n",
      "Case 0 complete\n",
      "Case 20 complete\n",
      "Case 40 complete\n",
      "Case 60 complete\n",
      "distances found\n",
      "wind speeds found\n",
      "exit helper fn\n",
      "\n",
      "\n",
      "2021-09-28 18:00:00\n",
      "enter helper fn\n",
      "Case 0 complete\n",
      "Case 20 complete\n",
      "Case 40 complete\n",
      "Case 60 complete\n",
      "distances found\n",
      "wind speeds found\n",
      "exit helper fn\n",
      "\n",
      "\n",
      "2021-09-29 00:00:00\n",
      "enter helper fn\n",
      "Case 0 complete\n",
      "Case 20 complete\n",
      "Case 40 complete\n",
      "Case 60 complete\n",
      "distances found\n",
      "wind speeds found\n",
      "exit helper fn\n",
      "\n",
      "\n",
      "2021-09-29 06:00:00\n",
      "enter helper fn\n",
      "Case 0 complete\n",
      "Case 20 complete\n",
      "Case 40 complete\n",
      "Case 60 complete\n",
      "distances found\n",
      "wind speeds found\n",
      "exit helper fn\n",
      "\n",
      "\n",
      "2021-09-29 12:00:00\n",
      "enter helper fn\n",
      "Case 0 complete\n",
      "Case 20 complete\n",
      "Case 40 complete\n",
      "Case 60 complete\n",
      "distances found\n",
      "wind speeds found\n",
      "exit helper fn\n",
      "\n",
      "\n",
      "2021-09-29 18:00:00\n",
      "enter helper fn\n",
      "Case 0 complete\n",
      "Case 20 complete\n",
      "Case 40 complete\n",
      "Case 60 complete\n",
      "distances found\n",
      "wind speeds found\n",
      "exit helper fn\n",
      "\n",
      "\n",
      "2021-09-30 00:00:00\n",
      "enter helper fn\n",
      "Case 0 complete\n",
      "Case 20 complete\n",
      "Case 40 complete\n",
      "Case 60 complete\n",
      "distances found\n",
      "wind speeds found\n",
      "exit helper fn\n",
      "\n",
      "\n",
      "2021-09-30 06:00:00\n",
      "enter helper fn\n",
      "Case 0 complete\n",
      "Case 20 complete\n",
      "Case 40 complete\n",
      "Case 60 complete\n",
      "Case 80 complete\n",
      "distances found\n",
      "wind speeds found\n",
      "exit helper fn\n",
      "\n",
      "\n",
      "2021-09-30 12:00:00\n",
      "enter helper fn\n",
      "Case 0 complete\n",
      "Case 20 complete\n",
      "Case 40 complete\n",
      "Case 60 complete\n",
      "Case 80 complete\n",
      "distances found\n",
      "wind speeds found\n",
      "exit helper fn\n",
      "\n",
      "\n",
      "2021-09-30 18:00:00\n",
      "enter helper fn\n",
      "Case 0 complete\n",
      "Case 20 complete\n",
      "Case 40 complete\n",
      "Case 60 complete\n",
      "Case 80 complete\n",
      "distances found\n",
      "wind speeds found\n",
      "exit helper fn\n",
      "\n",
      "\n",
      "2021-10-01 00:00:00\n",
      "enter helper fn\n",
      "Case 0 complete\n",
      "Case 20 complete\n",
      "Case 40 complete\n",
      "Case 60 complete\n",
      "distances found\n",
      "wind speeds found\n",
      "exit helper fn\n",
      "\n",
      "\n",
      "2021-10-01 06:00:00\n",
      "enter helper fn\n",
      "Case 0 complete\n",
      "Case 20 complete\n",
      "Case 40 complete\n",
      "Case 60 complete\n",
      "distances found\n",
      "wind speeds found\n",
      "exit helper fn\n",
      "\n",
      "\n",
      "2021-10-01 12:00:00\n",
      "enter helper fn\n",
      "Case 0 complete\n",
      "Case 20 complete\n",
      "Case 40 complete\n",
      "Case 60 complete\n",
      "distances found\n",
      "wind speeds found\n",
      "exit helper fn\n",
      "\n",
      "\n",
      "2021-10-01 18:00:00\n",
      "enter helper fn\n",
      "Case 0 complete\n",
      "Case 20 complete\n",
      "Case 40 complete\n",
      "Case 60 complete\n",
      "distances found\n",
      "wind speeds found\n",
      "exit helper fn\n",
      "\n",
      "\n",
      "2021-10-02 00:00:00\n",
      "enter helper fn\n",
      "Case 0 complete\n",
      "Case 20 complete\n",
      "Case 40 complete\n",
      "Case 60 complete\n",
      "distances found\n",
      "wind speeds found\n",
      "exit helper fn\n",
      "\n",
      "\n",
      "2021-10-02 06:00:00\n",
      "enter helper fn\n",
      "Case 0 complete\n",
      "Case 20 complete\n",
      "Case 40 complete\n",
      "Case 60 complete\n",
      "distances found\n",
      "wind speeds found\n",
      "exit helper fn\n",
      "\n",
      "\n",
      "2021-10-02 12:00:00\n",
      "enter helper fn\n",
      "Case 0 complete\n",
      "Case 20 complete\n",
      "Case 40 complete\n",
      "Case 60 complete\n",
      "distances found\n",
      "wind speeds found\n",
      "exit helper fn\n",
      "\n",
      "\n",
      "2021-10-02 18:00:00\n",
      "enter helper fn\n",
      "Case 0 complete\n",
      "Case 20 complete\n",
      "Case 40 complete\n",
      "Case 60 complete\n",
      "distances found\n",
      "wind speeds found\n",
      "exit helper fn\n",
      "\n",
      "\n",
      "2021-10-03 00:00:00\n",
      "enter helper fn\n",
      "Case 0 complete\n",
      "Case 20 complete\n",
      "Case 40 complete\n",
      "Case 60 complete\n",
      "distances found\n",
      "wind speeds found\n",
      "exit helper fn\n",
      "\n",
      "\n",
      "2021-10-03 06:00:00\n",
      "enter helper fn\n",
      "Case 0 complete\n",
      "Case 20 complete\n",
      "Case 40 complete\n",
      "Case 60 complete\n",
      "distances found\n",
      "wind speeds found\n",
      "exit helper fn\n",
      "\n",
      "\n",
      "2021-10-03 12:00:00\n",
      "enter helper fn\n",
      "Case 0 complete\n",
      "Case 20 complete\n",
      "Case 40 complete\n",
      "Case 60 complete\n",
      "distances found\n",
      "wind speeds found\n",
      "exit helper fn\n",
      "\n",
      "\n",
      "2021-10-03 18:00:00\n",
      "enter helper fn\n",
      "Case 0 complete\n",
      "Case 20 complete\n",
      "Case 40 complete\n",
      "Case 60 complete\n",
      "Case 80 complete\n",
      "distances found\n",
      "wind speeds found\n",
      "exit helper fn\n",
      "\n",
      "\n",
      "2021-10-04 00:00:00\n",
      "enter helper fn\n",
      "Case 0 complete\n",
      "Case 20 complete\n",
      "Case 40 complete\n",
      "Case 60 complete\n",
      "distances found\n",
      "wind speeds found\n",
      "exit helper fn\n",
      "\n",
      "\n",
      "2021-10-04 06:00:00\n",
      "enter helper fn\n",
      "Case 0 complete\n",
      "Case 20 complete\n",
      "Case 40 complete\n",
      "Case 60 complete\n",
      "distances found\n",
      "wind speeds found\n",
      "exit helper fn\n",
      "\n",
      "\n",
      "2021-10-04 12:00:00\n",
      "enter helper fn\n",
      "Case 0 complete\n",
      "Case 20 complete\n",
      "Case 40 complete\n",
      "Case 60 complete\n",
      "distances found\n",
      "wind speeds found\n",
      "exit helper fn\n",
      "\n",
      "\n",
      "2021-10-04 18:00:00\n",
      "enter helper fn\n",
      "Case 0 complete\n",
      "Case 20 complete\n",
      "Case 40 complete\n",
      "Case 60 complete\n",
      "distances found\n",
      "wind speeds found\n",
      "exit helper fn\n",
      "\n",
      "\n",
      "2021-10-05 00:00:00\n",
      "enter helper fn\n",
      "Case 0 complete\n",
      "Case 20 complete\n",
      "Case 40 complete\n",
      "Case 60 complete\n",
      "Case 80 complete\n",
      "distances found\n",
      "wind speeds found\n",
      "exit helper fn\n",
      "\n",
      "\n"
     ]
    }
   ],
   "source": [
    "import sys\n",
    "sys.path.append(  \"/Users/etmu9498/research/code/scripts-winter2023/era5-processing\")\n",
    "import era_data_processing\n",
    "\n",
    "shear_cdf = era_data_processing.save_mean_shears( year='2021', lat_spacing=10, lon_spacing=10, name = 'sam', smoothval=1)"
   ]
  },
  {
   "cell_type": "code",
   "execution_count": 4,
   "id": "57982125",
   "metadata": {},
   "outputs": [
    {
     "data": {
      "text/html": [
       "<div><svg style=\"position: absolute; width: 0; height: 0; overflow: hidden\">\n",
       "<defs>\n",
       "<symbol id=\"icon-database\" viewBox=\"0 0 32 32\">\n",
       "<path d=\"M16 0c-8.837 0-16 2.239-16 5v4c0 2.761 7.163 5 16 5s16-2.239 16-5v-4c0-2.761-7.163-5-16-5z\"></path>\n",
       "<path d=\"M16 17c-8.837 0-16-2.239-16-5v6c0 2.761 7.163 5 16 5s16-2.239 16-5v-6c0 2.761-7.163 5-16 5z\"></path>\n",
       "<path d=\"M16 26c-8.837 0-16-2.239-16-5v6c0 2.761 7.163 5 16 5s16-2.239 16-5v-6c0 2.761-7.163 5-16 5z\"></path>\n",
       "</symbol>\n",
       "<symbol id=\"icon-file-text2\" viewBox=\"0 0 32 32\">\n",
       "<path d=\"M28.681 7.159c-0.694-0.947-1.662-2.053-2.724-3.116s-2.169-2.030-3.116-2.724c-1.612-1.182-2.393-1.319-2.841-1.319h-15.5c-1.378 0-2.5 1.121-2.5 2.5v27c0 1.378 1.122 2.5 2.5 2.5h23c1.378 0 2.5-1.122 2.5-2.5v-19.5c0-0.448-0.137-1.23-1.319-2.841zM24.543 5.457c0.959 0.959 1.712 1.825 2.268 2.543h-4.811v-4.811c0.718 0.556 1.584 1.309 2.543 2.268zM28 29.5c0 0.271-0.229 0.5-0.5 0.5h-23c-0.271 0-0.5-0.229-0.5-0.5v-27c0-0.271 0.229-0.5 0.5-0.5 0 0 15.499-0 15.5 0v7c0 0.552 0.448 1 1 1h7v19.5z\"></path>\n",
       "<path d=\"M23 26h-14c-0.552 0-1-0.448-1-1s0.448-1 1-1h14c0.552 0 1 0.448 1 1s-0.448 1-1 1z\"></path>\n",
       "<path d=\"M23 22h-14c-0.552 0-1-0.448-1-1s0.448-1 1-1h14c0.552 0 1 0.448 1 1s-0.448 1-1 1z\"></path>\n",
       "<path d=\"M23 18h-14c-0.552 0-1-0.448-1-1s0.448-1 1-1h14c0.552 0 1 0.448 1 1s-0.448 1-1 1z\"></path>\n",
       "</symbol>\n",
       "</defs>\n",
       "</svg>\n",
       "<style>/* CSS stylesheet for displaying xarray objects in jupyterlab.\n",
       " *\n",
       " */\n",
       "\n",
       ":root {\n",
       "  --xr-font-color0: var(--jp-content-font-color0, rgba(0, 0, 0, 1));\n",
       "  --xr-font-color2: var(--jp-content-font-color2, rgba(0, 0, 0, 0.54));\n",
       "  --xr-font-color3: var(--jp-content-font-color3, rgba(0, 0, 0, 0.38));\n",
       "  --xr-border-color: var(--jp-border-color2, #e0e0e0);\n",
       "  --xr-disabled-color: var(--jp-layout-color3, #bdbdbd);\n",
       "  --xr-background-color: var(--jp-layout-color0, white);\n",
       "  --xr-background-color-row-even: var(--jp-layout-color1, white);\n",
       "  --xr-background-color-row-odd: var(--jp-layout-color2, #eeeeee);\n",
       "}\n",
       "\n",
       "html[theme=dark],\n",
       "body[data-theme=dark],\n",
       "body.vscode-dark {\n",
       "  --xr-font-color0: rgba(255, 255, 255, 1);\n",
       "  --xr-font-color2: rgba(255, 255, 255, 0.54);\n",
       "  --xr-font-color3: rgba(255, 255, 255, 0.38);\n",
       "  --xr-border-color: #1F1F1F;\n",
       "  --xr-disabled-color: #515151;\n",
       "  --xr-background-color: #111111;\n",
       "  --xr-background-color-row-even: #111111;\n",
       "  --xr-background-color-row-odd: #313131;\n",
       "}\n",
       "\n",
       ".xr-wrap {\n",
       "  display: block !important;\n",
       "  min-width: 300px;\n",
       "  max-width: 700px;\n",
       "}\n",
       "\n",
       ".xr-text-repr-fallback {\n",
       "  /* fallback to plain text repr when CSS is not injected (untrusted notebook) */\n",
       "  display: none;\n",
       "}\n",
       "\n",
       ".xr-header {\n",
       "  padding-top: 6px;\n",
       "  padding-bottom: 6px;\n",
       "  margin-bottom: 4px;\n",
       "  border-bottom: solid 1px var(--xr-border-color);\n",
       "}\n",
       "\n",
       ".xr-header > div,\n",
       ".xr-header > ul {\n",
       "  display: inline;\n",
       "  margin-top: 0;\n",
       "  margin-bottom: 0;\n",
       "}\n",
       "\n",
       ".xr-obj-type,\n",
       ".xr-array-name {\n",
       "  margin-left: 2px;\n",
       "  margin-right: 10px;\n",
       "}\n",
       "\n",
       ".xr-obj-type {\n",
       "  color: var(--xr-font-color2);\n",
       "}\n",
       "\n",
       ".xr-sections {\n",
       "  padding-left: 0 !important;\n",
       "  display: grid;\n",
       "  grid-template-columns: 150px auto auto 1fr 20px 20px;\n",
       "}\n",
       "\n",
       ".xr-section-item {\n",
       "  display: contents;\n",
       "}\n",
       "\n",
       ".xr-section-item input {\n",
       "  display: none;\n",
       "}\n",
       "\n",
       ".xr-section-item input + label {\n",
       "  color: var(--xr-disabled-color);\n",
       "}\n",
       "\n",
       ".xr-section-item input:enabled + label {\n",
       "  cursor: pointer;\n",
       "  color: var(--xr-font-color2);\n",
       "}\n",
       "\n",
       ".xr-section-item input:enabled + label:hover {\n",
       "  color: var(--xr-font-color0);\n",
       "}\n",
       "\n",
       ".xr-section-summary {\n",
       "  grid-column: 1;\n",
       "  color: var(--xr-font-color2);\n",
       "  font-weight: 500;\n",
       "}\n",
       "\n",
       ".xr-section-summary > span {\n",
       "  display: inline-block;\n",
       "  padding-left: 0.5em;\n",
       "}\n",
       "\n",
       ".xr-section-summary-in:disabled + label {\n",
       "  color: var(--xr-font-color2);\n",
       "}\n",
       "\n",
       ".xr-section-summary-in + label:before {\n",
       "  display: inline-block;\n",
       "  content: '►';\n",
       "  font-size: 11px;\n",
       "  width: 15px;\n",
       "  text-align: center;\n",
       "}\n",
       "\n",
       ".xr-section-summary-in:disabled + label:before {\n",
       "  color: var(--xr-disabled-color);\n",
       "}\n",
       "\n",
       ".xr-section-summary-in:checked + label:before {\n",
       "  content: '▼';\n",
       "}\n",
       "\n",
       ".xr-section-summary-in:checked + label > span {\n",
       "  display: none;\n",
       "}\n",
       "\n",
       ".xr-section-summary,\n",
       ".xr-section-inline-details {\n",
       "  padding-top: 4px;\n",
       "  padding-bottom: 4px;\n",
       "}\n",
       "\n",
       ".xr-section-inline-details {\n",
       "  grid-column: 2 / -1;\n",
       "}\n",
       "\n",
       ".xr-section-details {\n",
       "  display: none;\n",
       "  grid-column: 1 / -1;\n",
       "  margin-bottom: 5px;\n",
       "}\n",
       "\n",
       ".xr-section-summary-in:checked ~ .xr-section-details {\n",
       "  display: contents;\n",
       "}\n",
       "\n",
       ".xr-array-wrap {\n",
       "  grid-column: 1 / -1;\n",
       "  display: grid;\n",
       "  grid-template-columns: 20px auto;\n",
       "}\n",
       "\n",
       ".xr-array-wrap > label {\n",
       "  grid-column: 1;\n",
       "  vertical-align: top;\n",
       "}\n",
       "\n",
       ".xr-preview {\n",
       "  color: var(--xr-font-color3);\n",
       "}\n",
       "\n",
       ".xr-array-preview,\n",
       ".xr-array-data {\n",
       "  padding: 0 5px !important;\n",
       "  grid-column: 2;\n",
       "}\n",
       "\n",
       ".xr-array-data,\n",
       ".xr-array-in:checked ~ .xr-array-preview {\n",
       "  display: none;\n",
       "}\n",
       "\n",
       ".xr-array-in:checked ~ .xr-array-data,\n",
       ".xr-array-preview {\n",
       "  display: inline-block;\n",
       "}\n",
       "\n",
       ".xr-dim-list {\n",
       "  display: inline-block !important;\n",
       "  list-style: none;\n",
       "  padding: 0 !important;\n",
       "  margin: 0;\n",
       "}\n",
       "\n",
       ".xr-dim-list li {\n",
       "  display: inline-block;\n",
       "  padding: 0;\n",
       "  margin: 0;\n",
       "}\n",
       "\n",
       ".xr-dim-list:before {\n",
       "  content: '(';\n",
       "}\n",
       "\n",
       ".xr-dim-list:after {\n",
       "  content: ')';\n",
       "}\n",
       "\n",
       ".xr-dim-list li:not(:last-child):after {\n",
       "  content: ',';\n",
       "  padding-right: 5px;\n",
       "}\n",
       "\n",
       ".xr-has-index {\n",
       "  font-weight: bold;\n",
       "}\n",
       "\n",
       ".xr-var-list,\n",
       ".xr-var-item {\n",
       "  display: contents;\n",
       "}\n",
       "\n",
       ".xr-var-item > div,\n",
       ".xr-var-item label,\n",
       ".xr-var-item > .xr-var-name span {\n",
       "  background-color: var(--xr-background-color-row-even);\n",
       "  margin-bottom: 0;\n",
       "}\n",
       "\n",
       ".xr-var-item > .xr-var-name:hover span {\n",
       "  padding-right: 5px;\n",
       "}\n",
       "\n",
       ".xr-var-list > li:nth-child(odd) > div,\n",
       ".xr-var-list > li:nth-child(odd) > label,\n",
       ".xr-var-list > li:nth-child(odd) > .xr-var-name span {\n",
       "  background-color: var(--xr-background-color-row-odd);\n",
       "}\n",
       "\n",
       ".xr-var-name {\n",
       "  grid-column: 1;\n",
       "}\n",
       "\n",
       ".xr-var-dims {\n",
       "  grid-column: 2;\n",
       "}\n",
       "\n",
       ".xr-var-dtype {\n",
       "  grid-column: 3;\n",
       "  text-align: right;\n",
       "  color: var(--xr-font-color2);\n",
       "}\n",
       "\n",
       ".xr-var-preview {\n",
       "  grid-column: 4;\n",
       "}\n",
       "\n",
       ".xr-var-name,\n",
       ".xr-var-dims,\n",
       ".xr-var-dtype,\n",
       ".xr-preview,\n",
       ".xr-attrs dt {\n",
       "  white-space: nowrap;\n",
       "  overflow: hidden;\n",
       "  text-overflow: ellipsis;\n",
       "  padding-right: 10px;\n",
       "}\n",
       "\n",
       ".xr-var-name:hover,\n",
       ".xr-var-dims:hover,\n",
       ".xr-var-dtype:hover,\n",
       ".xr-attrs dt:hover {\n",
       "  overflow: visible;\n",
       "  width: auto;\n",
       "  z-index: 1;\n",
       "}\n",
       "\n",
       ".xr-var-attrs,\n",
       ".xr-var-data {\n",
       "  display: none;\n",
       "  background-color: var(--xr-background-color) !important;\n",
       "  padding-bottom: 5px !important;\n",
       "}\n",
       "\n",
       ".xr-var-attrs-in:checked ~ .xr-var-attrs,\n",
       ".xr-var-data-in:checked ~ .xr-var-data {\n",
       "  display: block;\n",
       "}\n",
       "\n",
       ".xr-var-data > table {\n",
       "  float: right;\n",
       "}\n",
       "\n",
       ".xr-var-name span,\n",
       ".xr-var-data,\n",
       ".xr-attrs {\n",
       "  padding-left: 25px !important;\n",
       "}\n",
       "\n",
       ".xr-attrs,\n",
       ".xr-var-attrs,\n",
       ".xr-var-data {\n",
       "  grid-column: 1 / -1;\n",
       "}\n",
       "\n",
       "dl.xr-attrs {\n",
       "  padding: 0;\n",
       "  margin: 0;\n",
       "  display: grid;\n",
       "  grid-template-columns: 125px auto;\n",
       "}\n",
       "\n",
       ".xr-attrs dt,\n",
       ".xr-attrs dd {\n",
       "  padding: 0;\n",
       "  margin: 0;\n",
       "  float: left;\n",
       "  padding-right: 10px;\n",
       "  width: auto;\n",
       "}\n",
       "\n",
       ".xr-attrs dt {\n",
       "  font-weight: normal;\n",
       "  grid-column: 1;\n",
       "}\n",
       "\n",
       ".xr-attrs dt:hover span {\n",
       "  display: inline-block;\n",
       "  background: var(--xr-background-color);\n",
       "  padding-right: 10px;\n",
       "}\n",
       "\n",
       ".xr-attrs dd {\n",
       "  grid-column: 2;\n",
       "  white-space: pre-wrap;\n",
       "  word-break: break-all;\n",
       "}\n",
       "\n",
       ".xr-icon-database,\n",
       ".xr-icon-file-text2 {\n",
       "  display: inline-block;\n",
       "  vertical-align: middle;\n",
       "  width: 1em;\n",
       "  height: 1.5em !important;\n",
       "  stroke-width: 0;\n",
       "  stroke: currentColor;\n",
       "  fill: currentColor;\n",
       "}\n",
       "</style><pre class='xr-text-repr-fallback'>&lt;xarray.Dataset&gt;\n",
       "Dimensions:           (date: 50)\n",
       "Coordinates:\n",
       "  * date              (date) datetime64[ns] 2021-09-22T18:00:00 ... 2021-10-05\n",
       "Data variables:\n",
       "    shear_spd         (date) float64 3.475 2.259 1.021 ... 5.212 7.303 9.941\n",
       "    shear_dir_change  (date) float64 -36.41 -11.1 0.02785 ... 9.281 10.82 11.48\n",
       "    shear_dir_avg     (date) float64 112.8 105.3 110.1 ... 236.9 228.9 213.2</pre><div class='xr-wrap' style='display:none'><div class='xr-header'><div class='xr-obj-type'>xarray.Dataset</div></div><ul class='xr-sections'><li class='xr-section-item'><input id='section-d6cf1339-69ca-4481-94e3-62d559f09eb1' class='xr-section-summary-in' type='checkbox' disabled ><label for='section-d6cf1339-69ca-4481-94e3-62d559f09eb1' class='xr-section-summary'  title='Expand/collapse section'>Dimensions:</label><div class='xr-section-inline-details'><ul class='xr-dim-list'><li><span class='xr-has-index'>date</span>: 50</li></ul></div><div class='xr-section-details'></div></li><li class='xr-section-item'><input id='section-6b00d4d3-8ff6-44eb-aaa8-e001deb1fdaf' class='xr-section-summary-in' type='checkbox'  checked><label for='section-6b00d4d3-8ff6-44eb-aaa8-e001deb1fdaf' class='xr-section-summary' >Coordinates: <span>(1)</span></label><div class='xr-section-inline-details'></div><div class='xr-section-details'><ul class='xr-var-list'><li class='xr-var-item'><div class='xr-var-name'><span class='xr-has-index'>date</span></div><div class='xr-var-dims'>(date)</div><div class='xr-var-dtype'>datetime64[ns]</div><div class='xr-var-preview xr-preview'>2021-09-22T18:00:00 ... 2021-10-05</div><input id='attrs-020b58bd-58b9-4756-8783-390663d4921e' class='xr-var-attrs-in' type='checkbox' ><label for='attrs-020b58bd-58b9-4756-8783-390663d4921e' title='Show/Hide attributes'><svg class='icon xr-icon-file-text2'><use xlink:href='#icon-file-text2'></use></svg></label><input id='data-dab4a4ce-d935-42c3-8b7b-182fb1a593cf' class='xr-var-data-in' type='checkbox'><label for='data-dab4a4ce-d935-42c3-8b7b-182fb1a593cf' title='Show/Hide data repr'><svg class='icon xr-icon-database'><use xlink:href='#icon-database'></use></svg></label><div class='xr-var-attrs'><dl class='xr-attrs'><dt><span>Units :</span></dt><dd>Date / Time (UTC)</dd></dl></div><div class='xr-var-data'><pre>array([&#x27;2021-09-22T18:00:00.000000000&#x27;, &#x27;2021-09-23T00:00:00.000000000&#x27;,\n",
       "       &#x27;2021-09-23T06:00:00.000000000&#x27;, &#x27;2021-09-23T12:00:00.000000000&#x27;,\n",
       "       &#x27;2021-09-23T18:00:00.000000000&#x27;, &#x27;2021-09-24T00:00:00.000000000&#x27;,\n",
       "       &#x27;2021-09-24T06:00:00.000000000&#x27;, &#x27;2021-09-24T12:00:00.000000000&#x27;,\n",
       "       &#x27;2021-09-24T18:00:00.000000000&#x27;, &#x27;2021-09-25T00:00:00.000000000&#x27;,\n",
       "       &#x27;2021-09-25T06:00:00.000000000&#x27;, &#x27;2021-09-25T12:00:00.000000000&#x27;,\n",
       "       &#x27;2021-09-25T18:00:00.000000000&#x27;, &#x27;2021-09-26T00:00:00.000000000&#x27;,\n",
       "       &#x27;2021-09-26T06:00:00.000000000&#x27;, &#x27;2021-09-26T12:00:00.000000000&#x27;,\n",
       "       &#x27;2021-09-26T18:00:00.000000000&#x27;, &#x27;2021-09-27T00:00:00.000000000&#x27;,\n",
       "       &#x27;2021-09-27T06:00:00.000000000&#x27;, &#x27;2021-09-27T12:00:00.000000000&#x27;,\n",
       "       &#x27;2021-09-27T18:00:00.000000000&#x27;, &#x27;2021-09-28T00:00:00.000000000&#x27;,\n",
       "       &#x27;2021-09-28T06:00:00.000000000&#x27;, &#x27;2021-09-28T12:00:00.000000000&#x27;,\n",
       "       &#x27;2021-09-28T18:00:00.000000000&#x27;, &#x27;2021-09-29T00:00:00.000000000&#x27;,\n",
       "       &#x27;2021-09-29T06:00:00.000000000&#x27;, &#x27;2021-09-29T12:00:00.000000000&#x27;,\n",
       "       &#x27;2021-09-29T18:00:00.000000000&#x27;, &#x27;2021-09-30T00:00:00.000000000&#x27;,\n",
       "       &#x27;2021-09-30T06:00:00.000000000&#x27;, &#x27;2021-09-30T12:00:00.000000000&#x27;,\n",
       "       &#x27;2021-09-30T18:00:00.000000000&#x27;, &#x27;2021-10-01T00:00:00.000000000&#x27;,\n",
       "       &#x27;2021-10-01T06:00:00.000000000&#x27;, &#x27;2021-10-01T12:00:00.000000000&#x27;,\n",
       "       &#x27;2021-10-01T18:00:00.000000000&#x27;, &#x27;2021-10-02T00:00:00.000000000&#x27;,\n",
       "       &#x27;2021-10-02T06:00:00.000000000&#x27;, &#x27;2021-10-02T12:00:00.000000000&#x27;,\n",
       "       &#x27;2021-10-02T18:00:00.000000000&#x27;, &#x27;2021-10-03T00:00:00.000000000&#x27;,\n",
       "       &#x27;2021-10-03T06:00:00.000000000&#x27;, &#x27;2021-10-03T12:00:00.000000000&#x27;,\n",
       "       &#x27;2021-10-03T18:00:00.000000000&#x27;, &#x27;2021-10-04T00:00:00.000000000&#x27;,\n",
       "       &#x27;2021-10-04T06:00:00.000000000&#x27;, &#x27;2021-10-04T12:00:00.000000000&#x27;,\n",
       "       &#x27;2021-10-04T18:00:00.000000000&#x27;, &#x27;2021-10-05T00:00:00.000000000&#x27;],\n",
       "      dtype=&#x27;datetime64[ns]&#x27;)</pre></div></li></ul></div></li><li class='xr-section-item'><input id='section-97926868-729a-41e2-b146-88730699dcbe' class='xr-section-summary-in' type='checkbox'  checked><label for='section-97926868-729a-41e2-b146-88730699dcbe' class='xr-section-summary' >Data variables: <span>(3)</span></label><div class='xr-section-inline-details'></div><div class='xr-section-details'><ul class='xr-var-list'><li class='xr-var-item'><div class='xr-var-name'><span>shear_spd</span></div><div class='xr-var-dims'>(date)</div><div class='xr-var-dtype'>float64</div><div class='xr-var-preview xr-preview'>...</div><input id='attrs-8973688f-b6ed-4dd2-b263-cb2ce55807c5' class='xr-var-attrs-in' type='checkbox' ><label for='attrs-8973688f-b6ed-4dd2-b263-cb2ce55807c5' title='Show/Hide attributes'><svg class='icon xr-icon-file-text2'><use xlink:href='#icon-file-text2'></use></svg></label><input id='data-fac0fe34-71e8-480f-9257-58c9869bb9bb' class='xr-var-data-in' type='checkbox'><label for='data-fac0fe34-71e8-480f-9257-58c9869bb9bb' title='Show/Hide data repr'><svg class='icon xr-icon-database'><use xlink:href='#icon-database'></use></svg></label><div class='xr-var-attrs'><dl class='xr-attrs'><dt><span>Units :</span></dt><dd>m/s</dd><dt><span>Long Name :</span></dt><dd>Environmental Shear Wind Speed</dd><dt><span>Description :</span></dt><dd>Averaged (within 200 km to 800 km from the TC center) winds at 250 hPa - averaged winds at 850 hPa.</dd></dl></div><div class='xr-var-data'><pre>array([ 3.475083,  2.258803,  1.02115 , -0.276228, -0.24861 ,  0.12054 ,\n",
       "       -0.099665, -1.313875, -1.752937, -0.09487 ,  0.423217, -0.729687,\n",
       "       -1.105414,  0.26505 , -0.094925, -0.690077,  0.599539,  1.473693,\n",
       "        1.088312,  0.080504,  0.721054,  1.234668,  1.314341,  1.613692,\n",
       "        2.056385,  2.498063,  1.860066,  0.497988,  0.418648,  1.418485,\n",
       "        1.486063,  1.812217,  3.09679 ,  3.551558,  5.044319,  3.486059,\n",
       "        3.965175,  6.791547,  7.039687,  4.430104,  4.192022,  2.508016,\n",
       "        0.149453, -1.70897 ,  1.357551,  2.103842,  3.971003,  5.211642,\n",
       "        7.302585,  9.941409])</pre></div></li><li class='xr-var-item'><div class='xr-var-name'><span>shear_dir_change</span></div><div class='xr-var-dims'>(date)</div><div class='xr-var-dtype'>float64</div><div class='xr-var-preview xr-preview'>...</div><input id='attrs-70f79c27-e298-46bc-8019-bae7519bdb37' class='xr-var-attrs-in' type='checkbox' ><label for='attrs-70f79c27-e298-46bc-8019-bae7519bdb37' title='Show/Hide attributes'><svg class='icon xr-icon-file-text2'><use xlink:href='#icon-file-text2'></use></svg></label><input id='data-76201a3f-b482-4da3-99c3-171821faeaa2' class='xr-var-data-in' type='checkbox'><label for='data-76201a3f-b482-4da3-99c3-171821faeaa2' title='Show/Hide data repr'><svg class='icon xr-icon-database'><use xlink:href='#icon-database'></use></svg></label><div class='xr-var-attrs'><dl class='xr-attrs'><dt><span>Units :</span></dt><dd>Degrees</dd><dt><span>Long Name :</span></dt><dd>Change in Environmental Shear Wind Direction</dd><dt><span>Description :</span></dt><dd>Averaged (within 200 km to 800 km from the TC center) wind direction at 250 hPa - averaged wind direction at 850 hPa.</dd></dl></div><div class='xr-var-data'><pre>array([-3.640717e+01, -1.110192e+01,  2.784539e-02,  1.794217e+00,\n",
       "        9.860890e+00,  1.638150e+01,  2.201994e+01,  2.425795e+01,\n",
       "        3.621242e+01,  4.437198e+01,  5.855914e+01,  6.245542e+01,\n",
       "        4.885403e+01,  5.531920e+01,  6.949471e+01,  6.365055e+01,\n",
       "        6.434515e+01,  6.562677e+01,  8.203096e+01,  8.092925e+01,\n",
       "        6.818767e+01,  8.042589e+01,  8.441062e+01,  9.728208e+01,\n",
       "        8.798502e+01,  9.576318e+01,  7.804550e+01,  1.015203e+02,\n",
       "        6.842869e+01,  3.846958e+01,  5.069957e+01,  4.488479e+01,\n",
       "        3.470267e+01,  2.541077e+01,  3.637083e+01,  1.255785e+01,\n",
       "       -4.637139e-01, -7.182530e+00, -3.044018e-01, -2.749787e+00,\n",
       "       -1.720068e+01, -2.359042e+01, -1.444981e+01, -1.581923e+01,\n",
       "       -4.564743e+00,  2.921638e+01,  1.585994e+01,  9.280750e+00,\n",
       "        1.082358e+01,  1.147925e+01])</pre></div></li><li class='xr-var-item'><div class='xr-var-name'><span>shear_dir_avg</span></div><div class='xr-var-dims'>(date)</div><div class='xr-var-dtype'>float64</div><div class='xr-var-preview xr-preview'>...</div><input id='attrs-9e585bb0-d9bd-45aa-ad8a-afe1e82f496c' class='xr-var-attrs-in' type='checkbox' ><label for='attrs-9e585bb0-d9bd-45aa-ad8a-afe1e82f496c' title='Show/Hide attributes'><svg class='icon xr-icon-file-text2'><use xlink:href='#icon-file-text2'></use></svg></label><input id='data-0f38bedb-8295-4448-a40a-54f5423b0805' class='xr-var-data-in' type='checkbox'><label for='data-0f38bedb-8295-4448-a40a-54f5423b0805' title='Show/Hide data repr'><svg class='icon xr-icon-database'><use xlink:href='#icon-database'></use></svg></label><div class='xr-var-attrs'><dl class='xr-attrs'><dt><span>Units :</span></dt><dd>Degrees from North</dd><dt><span>Long Name :</span></dt><dd>Average Environmental Shear Wind Direction</dd><dt><span>Description :</span></dt><dd>Averaged (within 200 km to 800 km from the TC center) [ wind direction at 250 hPa + averaged wind direction at 850 hPa] / 2.</dd></dl></div><div class='xr-var-data'><pre>array([112.762507, 105.288691, 110.144093, 104.775367, 110.035545, 109.204911,\n",
       "       115.791355, 112.114876, 133.394061, 135.851157, 146.700558, 164.927408,\n",
       "       166.836245, 163.443713, 172.863565, 168.331941, 173.885298, 163.707506,\n",
       "       172.243309, 166.851628, 172.348289, 170.506267, 169.243131, 171.763185,\n",
       "       180.518463, 176.204756, 166.97677 , 176.518397, 169.192478, 141.478724,\n",
       "       147.515405, 146.526704, 150.690747, 149.330438, 151.796888, 164.413185,\n",
       "       169.821252, 175.635948, 180.096151, 184.319978, 207.854362, 220.654156,\n",
       "       235.157629, 237.179243, 246.016875, 242.797385, 247.26845 , 236.861751,\n",
       "       228.88118 , 213.248576])</pre></div></li></ul></div></li><li class='xr-section-item'><input id='section-8235d013-f5d9-4ffa-9caf-7d8205452312' class='xr-section-summary-in' type='checkbox' disabled ><label for='section-8235d013-f5d9-4ffa-9caf-7d8205452312' class='xr-section-summary'  title='Expand/collapse section'>Attributes: <span>(0)</span></label><div class='xr-section-inline-details'></div><div class='xr-section-details'><dl class='xr-attrs'></dl></div></li></ul></div></div>"
      ],
      "text/plain": [
       "<xarray.Dataset>\n",
       "Dimensions:           (date: 50)\n",
       "Coordinates:\n",
       "  * date              (date) datetime64[ns] 2021-09-22T18:00:00 ... 2021-10-05\n",
       "Data variables:\n",
       "    shear_spd         (date) float64 ...\n",
       "    shear_dir_change  (date) float64 ...\n",
       "    shear_dir_avg     (date) float64 ..."
      ]
     },
     "execution_count": 4,
     "metadata": {},
     "output_type": "execute_result"
    }
   ],
   "source": [
    "# testing: load a shear output dataset\n",
    "import os\n",
    "import xarray\n",
    "os.chdir(\"/Users/etmu9498/research/data/era5-shear/\")\n",
    "shear_cdf = xarray.open_dataset(\"shear_sam.nc\")\n",
    "shear_cdf"
   ]
  },
  {
   "cell_type": "code",
   "execution_count": 2,
   "id": "dda811c0",
   "metadata": {},
   "outputs": [
    {
     "name": "stderr",
     "output_type": "stream",
     "text": [
      "2023-05-17 13:06:54,813 INFO Welcome to the CDS\n",
      "2023-05-17 13:06:54,813 INFO Sending request to https://cds.climate.copernicus.eu/api/v2/resources/reanalysis-era5-pressure-levels\n",
      "2023-05-17 13:06:55,048 INFO Request is completed\n",
      "2023-05-17 13:06:55,051 INFO Downloading https://download-0013-clone.copernicus-climate.eu/cache-compute-0013/cache/data2/adaptor.mars.internal-1684349769.774199-9929-1-41adff69-48bc-4a38-94d9-98cc604fd1fe.nc to winds_20220914_06.nc (7.9M)\n",
      "2023-05-17 13:07:00,361 INFO Download rate 1.5M/s                                                                      \n",
      "2023-05-17 13:07:00,761 INFO Welcome to the CDS\n"
     ]
    },
    {
     "name": "stdout",
     "output_type": "stream",
     "text": [
      "winds_20220914_06.nc\n",
      "Dataset 1/56 downloaded\n"
     ]
    },
    {
     "name": "stderr",
     "output_type": "stream",
     "text": [
      "2023-05-17 13:07:00,763 INFO Sending request to https://cds.climate.copernicus.eu/api/v2/resources/reanalysis-era5-pressure-levels\n",
      "2023-05-17 13:07:00,984 INFO Request is completed\n",
      "2023-05-17 13:07:00,985 INFO Downloading https://download-0006-clone.copernicus-climate.eu/cache-compute-0006/cache/data8/adaptor.mars.internal-1684349780.0438569-12543-16-66af3e54-d21c-4528-b18b-b3d42e961d70.nc to winds_20220914_12.nc (7.9M)\n",
      "2023-05-17 13:07:05,880 INFO Download rate 1.6M/s                                                                      \n",
      "2023-05-17 13:07:06,256 INFO Welcome to the CDS\n"
     ]
    },
    {
     "name": "stdout",
     "output_type": "stream",
     "text": [
      "winds_20220914_12.nc\n",
      "Dataset 2/56 downloaded\n"
     ]
    },
    {
     "name": "stderr",
     "output_type": "stream",
     "text": [
      "2023-05-17 13:07:06,256 INFO Sending request to https://cds.climate.copernicus.eu/api/v2/resources/reanalysis-era5-pressure-levels\n",
      "2023-05-17 13:07:06,498 INFO Request is completed\n",
      "2023-05-17 13:07:06,498 INFO Downloading https://download-0008-clone.copernicus-climate.eu/cache-compute-0008/cache/data9/adaptor.mars.internal-1684349789.8763363-2403-7-e4a49047-7a44-46f0-8fc5-9ef877fe2e5e.nc to winds_20220914_18.nc (7.9M)\n",
      "2023-05-17 13:07:11,026 INFO Download rate 1.8M/s                                                                      \n",
      "2023-05-17 13:07:11,339 INFO Welcome to the CDS\n",
      "2023-05-17 13:07:11,339 INFO Sending request to https://cds.climate.copernicus.eu/api/v2/resources/reanalysis-era5-pressure-levels\n"
     ]
    },
    {
     "name": "stdout",
     "output_type": "stream",
     "text": [
      "winds_20220914_18.nc\n",
      "Dataset 3/56 downloaded\n"
     ]
    },
    {
     "name": "stderr",
     "output_type": "stream",
     "text": [
      "2023-05-17 13:07:11,597 INFO Request is completed\n",
      "2023-05-17 13:07:11,605 INFO Downloading https://download-0001-clone.copernicus-climate.eu/cache-compute-0001/cache/data3/adaptor.mars.internal-1684349796.658681-12236-20-87486bd8-102d-4415-8835-60e64b44f9ab.nc to winds_20220915_00.nc (7.9M)\n",
      "2023-05-17 13:07:15,857 INFO Download rate 1.9M/s                                                                      \n"
     ]
    },
    {
     "name": "stdout",
     "output_type": "stream",
     "text": [
      "winds_20220915_00.nc\n",
      "Dataset 4/56 downloaded\n"
     ]
    },
    {
     "name": "stderr",
     "output_type": "stream",
     "text": [
      "2023-05-17 13:07:16,289 INFO Welcome to the CDS\n",
      "2023-05-17 13:07:16,289 INFO Sending request to https://cds.climate.copernicus.eu/api/v2/resources/reanalysis-era5-pressure-levels\n",
      "2023-05-17 13:07:16,512 INFO Request is completed\n",
      "2023-05-17 13:07:16,512 INFO Downloading https://download-0017.copernicus-climate.eu/cache-compute-0017/cache/data1/adaptor.mars.internal-1684349806.8654854-15040-3-9c1a8d66-3f4f-4a2d-af57-81184f081810.nc to winds_20220915_06.nc (7.9M)\n",
      "2023-05-17 13:07:20,236 INFO Download rate 2.1M/s                                                                      \n",
      "2023-05-17 13:07:20,580 INFO Welcome to the CDS\n",
      "2023-05-17 13:07:20,582 INFO Sending request to https://cds.climate.copernicus.eu/api/v2/resources/reanalysis-era5-pressure-levels\n"
     ]
    },
    {
     "name": "stdout",
     "output_type": "stream",
     "text": [
      "winds_20220915_06.nc\n",
      "Dataset 5/56 downloaded\n"
     ]
    },
    {
     "name": "stderr",
     "output_type": "stream",
     "text": [
      "2023-05-17 13:07:20,801 INFO Request is completed\n",
      "2023-05-17 13:07:20,809 INFO Downloading https://download-0021.copernicus-climate.eu/cache-compute-0021/cache/data4/adaptor.mars.internal-1684349814.4965963-16096-15-d53b2442-275d-4d84-bbfa-772cecf82dcb.nc to winds_20220915_12.nc (7.9M)\n",
      "2023-05-17 13:07:24,654 INFO Download rate 2.1M/s                                                                      \n",
      "2023-05-17 13:07:24,952 INFO Welcome to the CDS\n",
      "2023-05-17 13:07:24,952 INFO Sending request to https://cds.climate.copernicus.eu/api/v2/resources/reanalysis-era5-pressure-levels\n"
     ]
    },
    {
     "name": "stdout",
     "output_type": "stream",
     "text": [
      "winds_20220915_12.nc\n",
      "Dataset 6/56 downloaded\n"
     ]
    },
    {
     "name": "stderr",
     "output_type": "stream",
     "text": [
      "2023-05-17 13:07:25,148 INFO Request is completed\n",
      "2023-05-17 13:07:25,148 INFO Downloading https://download-0003-clone.copernicus-climate.eu/cache-compute-0003/cache/data4/adaptor.mars.internal-1684349823.463797-22816-17-ee9253de-310d-41d6-a968-0ee2c75e09fd.nc to winds_20220915_18.nc (7.9M)\n",
      "2023-05-17 13:07:28,577 INFO Download rate 2.3M/s                                                                      \n",
      "2023-05-17 13:07:28,967 INFO Welcome to the CDS\n",
      "2023-05-17 13:07:28,968 INFO Sending request to https://cds.climate.copernicus.eu/api/v2/resources/reanalysis-era5-pressure-levels\n"
     ]
    },
    {
     "name": "stdout",
     "output_type": "stream",
     "text": [
      "winds_20220915_18.nc\n",
      "Dataset 7/56 downloaded\n"
     ]
    },
    {
     "name": "stderr",
     "output_type": "stream",
     "text": [
      "2023-05-17 13:07:29,168 INFO Request is queued\n",
      "2023-05-17 13:07:30,319 INFO Request is running\n",
      "2023-05-17 13:07:31,962 INFO Request is completed\n",
      "2023-05-17 13:07:31,962 INFO Downloading https://download-0018.copernicus-climate.eu/cache-compute-0018/cache/data3/adaptor.mars.internal-1684350430.3528547-13736-19-0847af9c-6a9b-42b5-a818-8603598746fb.nc to winds_20220916_00.nc (7.9M)\n",
      "2023-05-17 13:07:36,085 INFO Download rate 1.9M/s                                                                      \n",
      "2023-05-17 13:07:36,455 INFO Welcome to the CDS\n"
     ]
    },
    {
     "name": "stdout",
     "output_type": "stream",
     "text": [
      "winds_20220916_00.nc\n",
      "Dataset 8/56 downloaded\n"
     ]
    },
    {
     "name": "stderr",
     "output_type": "stream",
     "text": [
      "2023-05-17 13:07:36,455 INFO Sending request to https://cds.climate.copernicus.eu/api/v2/resources/reanalysis-era5-pressure-levels\n",
      "2023-05-17 13:07:36,658 INFO Request is queued\n",
      "2023-05-17 13:07:37,908 INFO Request is running\n",
      "2023-05-17 13:07:39,707 INFO Request is completed\n",
      "2023-05-17 13:07:39,707 INFO Downloading https://download-0011-clone.copernicus-climate.eu/cache-compute-0011/cache/data5/adaptor.mars.internal-1684350437.9852393-26144-1-b7efe04f-7cb1-4d9e-94d2-ce9d37ea10c2.nc to winds_20220916_06.nc (7.9M)\n",
      "2023-05-17 13:07:43,747 INFO Download rate 2M/s                                                                        \n",
      "2023-05-17 13:07:44,230 INFO Welcome to the CDS\n",
      "2023-05-17 13:07:44,231 INFO Sending request to https://cds.climate.copernicus.eu/api/v2/resources/reanalysis-era5-pressure-levels\n"
     ]
    },
    {
     "name": "stdout",
     "output_type": "stream",
     "text": [
      "winds_20220916_06.nc\n",
      "Dataset 9/56 downloaded\n"
     ]
    },
    {
     "name": "stderr",
     "output_type": "stream",
     "text": [
      "2023-05-17 13:07:44,408 INFO Request is queued\n",
      "2023-05-17 13:07:45,646 INFO Request is running\n",
      "2023-05-17 13:07:47,371 INFO Request is completed\n",
      "2023-05-17 13:07:47,371 INFO Downloading https://download-0018.copernicus-climate.eu/cache-compute-0018/cache/data2/adaptor.mars.internal-1684350445.707347-16774-17-9ca78492-9668-4ab4-90bd-6379405c0de1.nc to winds_20220916_12.nc (7.9M)\n",
      "2023-05-17 13:07:50,675 INFO Download rate 2.4M/s                                                                      \n"
     ]
    },
    {
     "name": "stdout",
     "output_type": "stream",
     "text": [
      "winds_20220916_12.nc\n",
      "Dataset 10/56 downloaded\n"
     ]
    },
    {
     "name": "stderr",
     "output_type": "stream",
     "text": [
      "2023-05-17 13:07:51,128 INFO Welcome to the CDS\n",
      "2023-05-17 13:07:51,128 INFO Sending request to https://cds.climate.copernicus.eu/api/v2/resources/reanalysis-era5-pressure-levels\n",
      "2023-05-17 13:07:51,952 INFO Request is queued\n",
      "2023-05-17 13:07:53,161 INFO Request is running\n",
      "2023-05-17 13:07:54,933 INFO Request is completed\n",
      "2023-05-17 13:07:54,933 INFO Downloading https://download-0014-clone.copernicus-climate.eu/cache-compute-0014/cache/data5/adaptor.mars.internal-1684350453.1953614-4269-1-e7e53776-9f7a-4370-9200-4eb4f47c8415.nc to winds_20220916_18.nc (7.9M)\n",
      "2023-05-17 13:08:02,158 INFO Download rate 1.1M/s                                                                      \n"
     ]
    },
    {
     "name": "stdout",
     "output_type": "stream",
     "text": [
      "winds_20220916_18.nc\n",
      "Dataset 11/56 downloaded\n"
     ]
    },
    {
     "name": "stderr",
     "output_type": "stream",
     "text": [
      "2023-05-17 13:08:02,701 INFO Welcome to the CDS\n",
      "2023-05-17 13:08:02,716 INFO Sending request to https://cds.climate.copernicus.eu/api/v2/resources/reanalysis-era5-pressure-levels\n",
      "2023-05-17 13:08:03,061 INFO Request is queued\n",
      "2023-05-17 13:08:04,337 INFO Request is running\n",
      "2023-05-17 13:08:06,056 INFO Request is completed\n",
      "2023-05-17 13:08:06,056 INFO Downloading https://download-0017.copernicus-climate.eu/cache-compute-0017/cache/data3/adaptor.mars.internal-1684350464.5268621-15528-18-7078ebda-ebe2-458b-b13e-1b368c4444b4.nc to winds_20220917_00.nc (7.9M)\n",
      "2023-05-17 13:08:09,782 INFO Download rate 2.1M/s                                                                      \n"
     ]
    },
    {
     "name": "stdout",
     "output_type": "stream",
     "text": [
      "winds_20220917_00.nc\n",
      "Dataset 12/56 downloaded\n"
     ]
    },
    {
     "name": "stderr",
     "output_type": "stream",
     "text": [
      "2023-05-17 13:08:10,296 INFO Welcome to the CDS\n",
      "2023-05-17 13:08:10,296 INFO Sending request to https://cds.climate.copernicus.eu/api/v2/resources/reanalysis-era5-pressure-levels\n",
      "2023-05-17 13:08:10,913 INFO Request is queued\n",
      "2023-05-17 13:08:12,145 INFO Request is running\n",
      "2023-05-17 13:08:13,798 INFO Request is completed\n",
      "2023-05-17 13:08:13,798 INFO Downloading https://download-0008-clone.copernicus-climate.eu/cache-compute-0008/cache/data3/adaptor.mars.internal-1684350472.148888-12646-4-878bacf2-4ac4-459f-9720-c9d844ea5094.nc to winds_20220917_06.nc (7.9M)\n",
      "2023-05-17 13:08:17,099 INFO Download rate 2.4M/s                                                                      \n"
     ]
    },
    {
     "name": "stdout",
     "output_type": "stream",
     "text": [
      "winds_20220917_06.nc\n",
      "Dataset 13/56 downloaded\n"
     ]
    },
    {
     "name": "stderr",
     "output_type": "stream",
     "text": [
      "2023-05-17 13:08:17,501 INFO Welcome to the CDS\n",
      "2023-05-17 13:08:17,501 INFO Sending request to https://cds.climate.copernicus.eu/api/v2/resources/reanalysis-era5-pressure-levels\n",
      "2023-05-17 13:08:17,745 INFO Request is queued\n",
      "2023-05-17 13:08:18,955 INFO Request is running\n",
      "2023-05-17 13:08:20,627 INFO Request is completed\n",
      "2023-05-17 13:08:20,627 INFO Downloading https://download-0001-clone.copernicus-climate.eu/cache-compute-0001/cache/data4/adaptor.mars.internal-1684350479.0047605-24568-2-ca0a8505-ce61-4128-be4c-af1c5da6787b.nc to winds_20220917_12.nc (7.9M)\n",
      "2023-05-17 13:08:23,961 INFO Download rate 2.4M/s                                                                      \n",
      "2023-05-17 13:08:24,294 INFO Welcome to the CDS\n",
      "2023-05-17 13:08:24,296 INFO Sending request to https://cds.climate.copernicus.eu/api/v2/resources/reanalysis-era5-pressure-levels\n"
     ]
    },
    {
     "name": "stdout",
     "output_type": "stream",
     "text": [
      "winds_20220917_12.nc\n",
      "Dataset 14/56 downloaded\n"
     ]
    },
    {
     "name": "stderr",
     "output_type": "stream",
     "text": [
      "2023-05-17 13:08:24,473 INFO Request is queued\n",
      "2023-05-17 13:08:25,651 INFO Request is running\n",
      "2023-05-17 13:08:27,301 INFO Request is completed\n",
      "2023-05-17 13:08:27,301 INFO Downloading https://download-0016.copernicus-climate.eu/cache-compute-0016/cache/data6/adaptor.mars.internal-1684350485.8591385-14488-17-ff4a427d-06dd-4879-9943-56b459cc534d.nc to winds_20220917_18.nc (7.9M)\n",
      "2023-05-17 13:08:32,004 INFO Download rate 1.7M/s                                                                      \n",
      "2023-05-17 13:08:32,315 INFO Welcome to the CDS\n",
      "2023-05-17 13:08:32,316 INFO Sending request to https://cds.climate.copernicus.eu/api/v2/resources/reanalysis-era5-pressure-levels\n"
     ]
    },
    {
     "name": "stdout",
     "output_type": "stream",
     "text": [
      "winds_20220917_18.nc\n",
      "Dataset 15/56 downloaded\n"
     ]
    },
    {
     "name": "stderr",
     "output_type": "stream",
     "text": [
      "2023-05-17 13:08:32,540 INFO Request is queued\n",
      "2023-05-17 13:08:33,724 INFO Request is running\n",
      "2023-05-17 13:08:35,393 INFO Request is completed\n",
      "2023-05-17 13:08:35,393 INFO Downloading https://download-0001-clone.copernicus-climate.eu/cache-compute-0001/cache/data2/adaptor.mars.internal-1684350493.68112-12994-19-059e0963-cd2b-4e9e-87d6-7030609bd837.nc to winds_20220918_00.nc (7.9M)\n",
      "2023-05-17 13:08:39,602 INFO Download rate 1.9M/s                                                                      \n"
     ]
    },
    {
     "name": "stdout",
     "output_type": "stream",
     "text": [
      "winds_20220918_00.nc\n",
      "Dataset 16/56 downloaded\n"
     ]
    },
    {
     "name": "stderr",
     "output_type": "stream",
     "text": [
      "2023-05-17 13:08:39,971 INFO Welcome to the CDS\n",
      "2023-05-17 13:08:39,974 INFO Sending request to https://cds.climate.copernicus.eu/api/v2/resources/reanalysis-era5-pressure-levels\n",
      "2023-05-17 13:08:40,146 INFO Request is queued\n",
      "2023-05-17 13:08:41,319 INFO Request is running\n",
      "2023-05-17 13:08:42,988 INFO Request is completed\n",
      "2023-05-17 13:08:42,988 INFO Downloading https://download-0007-clone.copernicus-climate.eu/cache-compute-0007/cache/data3/adaptor.mars.internal-1684350501.4681132-30528-3-115f8922-31a8-4d83-a994-055a7623ccc2.nc to winds_20220918_06.nc (7.9M)\n",
      "2023-05-17 13:08:47,293 INFO Download rate 1.8M/s                                                                      \n",
      "2023-05-17 13:08:47,587 INFO Welcome to the CDS\n",
      "2023-05-17 13:08:47,602 INFO Sending request to https://cds.climate.copernicus.eu/api/v2/resources/reanalysis-era5-pressure-levels\n"
     ]
    },
    {
     "name": "stdout",
     "output_type": "stream",
     "text": [
      "winds_20220918_06.nc\n",
      "Dataset 17/56 downloaded\n"
     ]
    },
    {
     "name": "stderr",
     "output_type": "stream",
     "text": [
      "2023-05-17 13:08:47,750 INFO Request is queued\n",
      "2023-05-17 13:08:48,904 INFO Request is running\n",
      "2023-05-17 13:08:50,611 INFO Request is completed\n",
      "2023-05-17 13:08:50,611 INFO Downloading https://download-0013-clone.copernicus-climate.eu/cache-compute-0013/cache/data0/adaptor.mars.internal-1684350509.1767144-11371-18-0def082a-e92b-4a2e-acf4-49182c2d80c4.nc to winds_20220918_12.nc (7.9M)\n",
      "2023-05-17 13:09:06,773 INFO Download rate 502.5K/s                                                                    \n"
     ]
    },
    {
     "name": "stdout",
     "output_type": "stream",
     "text": [
      "winds_20220918_12.nc\n",
      "Dataset 18/56 downloaded\n"
     ]
    },
    {
     "name": "stderr",
     "output_type": "stream",
     "text": [
      "2023-05-17 13:09:07,228 INFO Welcome to the CDS\n",
      "2023-05-17 13:09:07,228 INFO Sending request to https://cds.climate.copernicus.eu/api/v2/resources/reanalysis-era5-pressure-levels\n",
      "2023-05-17 13:09:07,448 INFO Request is queued\n",
      "2023-05-17 13:09:08,780 INFO Request is running\n",
      "2023-05-17 13:09:10,448 INFO Request is completed\n",
      "2023-05-17 13:09:10,464 INFO Downloading https://download-0007-clone.copernicus-climate.eu/cache-compute-0007/cache/data8/adaptor.mars.internal-1684350528.7622426-30297-5-ca34dd5d-9311-4126-9c2f-2372febbda48.nc to winds_20220918_18.nc (7.9M)\n",
      "2023-05-17 13:09:13,996 INFO Download rate 2.2M/s                                                                      \n",
      "2023-05-17 13:09:14,368 INFO Welcome to the CDS\n",
      "2023-05-17 13:09:14,369 INFO Sending request to https://cds.climate.copernicus.eu/api/v2/resources/reanalysis-era5-pressure-levels\n"
     ]
    },
    {
     "name": "stdout",
     "output_type": "stream",
     "text": [
      "winds_20220918_18.nc\n",
      "Dataset 19/56 downloaded\n"
     ]
    },
    {
     "name": "stderr",
     "output_type": "stream",
     "text": [
      "2023-05-17 13:09:14,537 INFO Request is queued\n",
      "2023-05-17 13:09:15,756 INFO Request is running\n",
      "2023-05-17 13:09:17,453 INFO Request is completed\n",
      "2023-05-17 13:09:17,453 INFO Downloading https://download-0001-clone.copernicus-climate.eu/cache-compute-0001/cache/data3/adaptor.mars.internal-1684350535.8627985-23843-9-a7307ea9-1c99-43fd-81f7-6e8ba7ff41da.nc to winds_20220919_00.nc (7.9M)\n",
      "2023-05-17 13:09:20,752 INFO Download rate 2.4M/s                                                                      \n",
      "2023-05-17 13:09:21,104 INFO Welcome to the CDS\n"
     ]
    },
    {
     "name": "stdout",
     "output_type": "stream",
     "text": [
      "winds_20220919_00.nc\n",
      "Dataset 20/56 downloaded\n"
     ]
    },
    {
     "name": "stderr",
     "output_type": "stream",
     "text": [
      "2023-05-17 13:09:21,104 INFO Sending request to https://cds.climate.copernicus.eu/api/v2/resources/reanalysis-era5-pressure-levels\n",
      "2023-05-17 13:09:21,304 INFO Request is queued\n",
      "2023-05-17 13:09:22,463 INFO Request is running\n",
      "2023-05-17 13:09:24,125 INFO Request is completed\n",
      "2023-05-17 13:09:24,126 INFO Downloading https://download-0005-clone.copernicus-climate.eu/cache-compute-0005/cache/data8/adaptor.mars.internal-1684350542.5718164-30305-12-34c553ea-fb57-4761-84d8-2a36314e7a86.nc to winds_20220919_06.nc (7.9M)\n",
      "2023-05-17 13:09:28,431 INFO Download rate 1.8M/s                                                                      \n",
      "2023-05-17 13:09:28,790 INFO Welcome to the CDS\n",
      "2023-05-17 13:09:28,790 INFO Sending request to https://cds.climate.copernicus.eu/api/v2/resources/reanalysis-era5-pressure-levels\n"
     ]
    },
    {
     "name": "stdout",
     "output_type": "stream",
     "text": [
      "winds_20220919_06.nc\n",
      "Dataset 21/56 downloaded\n"
     ]
    },
    {
     "name": "stderr",
     "output_type": "stream",
     "text": [
      "2023-05-17 13:09:29,111 INFO Request is queued\n",
      "2023-05-17 13:09:30,406 INFO Request is running\n",
      "2023-05-17 13:09:32,153 INFO Request is completed\n",
      "2023-05-17 13:09:32,153 INFO Downloading https://download-0017.copernicus-climate.eu/cache-compute-0017/cache/data6/adaptor.mars.internal-1684350550.220504-16687-16-b222a991-4b60-4b0e-8a34-ea2af22e117a.nc to winds_20220919_12.nc (7.9M)\n",
      "2023-05-17 13:09:36,749 INFO Download rate 1.7M/s                                                                      \n",
      "2023-05-17 13:09:37,110 INFO Welcome to the CDS\n",
      "2023-05-17 13:09:37,110 INFO Sending request to https://cds.climate.copernicus.eu/api/v2/resources/reanalysis-era5-pressure-levels\n"
     ]
    },
    {
     "name": "stdout",
     "output_type": "stream",
     "text": [
      "winds_20220919_12.nc\n",
      "Dataset 22/56 downloaded\n"
     ]
    },
    {
     "name": "stderr",
     "output_type": "stream",
     "text": [
      "2023-05-17 13:09:37,308 INFO Request is queued\n",
      "2023-05-17 13:09:38,543 INFO Request is running\n",
      "2023-05-17 13:09:40,209 INFO Request is completed\n",
      "2023-05-17 13:09:40,209 INFO Downloading https://download-0012-clone.copernicus-climate.eu/cache-compute-0012/cache/data6/adaptor.mars.internal-1684350558.8449702-2844-15-65528030-9944-4e9e-92cb-1625f7b40050.nc to winds_20220919_18.nc (7.9M)\n",
      "2023-05-17 13:09:44,133 INFO Download rate 2M/s                                                                        \n"
     ]
    },
    {
     "name": "stdout",
     "output_type": "stream",
     "text": [
      "winds_20220919_18.nc\n",
      "Dataset 23/56 downloaded\n"
     ]
    },
    {
     "name": "stderr",
     "output_type": "stream",
     "text": [
      "2023-05-17 13:09:45,551 INFO Welcome to the CDS\n",
      "2023-05-17 13:09:45,551 INFO Sending request to https://cds.climate.copernicus.eu/api/v2/resources/reanalysis-era5-pressure-levels\n",
      "2023-05-17 13:09:45,872 INFO Request is queued\n",
      "2023-05-17 13:09:47,093 INFO Request is running\n",
      "2023-05-17 13:09:48,794 INFO Request is completed\n",
      "2023-05-17 13:09:48,794 INFO Downloading https://download-0016.copernicus-climate.eu/cache-compute-0016/cache/data2/adaptor.mars.internal-1684350567.5126479-15206-16-19bf0732-5bc4-4264-86f2-fc983e739bf2.nc to winds_20220920_00.nc (7.9M)\n",
      "2023-05-17 13:09:53,472 INFO Download rate 1.7M/s                                                                      \n"
     ]
    },
    {
     "name": "stdout",
     "output_type": "stream",
     "text": [
      "winds_20220920_00.nc\n",
      "Dataset 24/56 downloaded\n"
     ]
    },
    {
     "name": "stderr",
     "output_type": "stream",
     "text": [
      "2023-05-17 13:09:53,909 INFO Welcome to the CDS\n",
      "2023-05-17 13:09:53,909 INFO Sending request to https://cds.climate.copernicus.eu/api/v2/resources/reanalysis-era5-pressure-levels\n",
      "2023-05-17 13:09:54,082 INFO Request is queued\n",
      "2023-05-17 13:09:55,268 INFO Request is running\n",
      "2023-05-17 13:09:56,944 INFO Request is completed\n",
      "2023-05-17 13:09:56,944 INFO Downloading https://download-0017.copernicus-climate.eu/cache-compute-0017/cache/data9/adaptor.mars.internal-1684350575.5611908-23757-8-d346682f-3b43-4066-94ae-a4e6485d4e33.nc to winds_20220920_06.nc (7.9M)\n",
      "2023-05-17 13:09:59,967 INFO Download rate 2.6M/s                                                                      \n"
     ]
    },
    {
     "name": "stdout",
     "output_type": "stream",
     "text": [
      "winds_20220920_06.nc\n",
      "Dataset 25/56 downloaded\n"
     ]
    },
    {
     "name": "stderr",
     "output_type": "stream",
     "text": [
      "2023-05-17 13:10:00,387 INFO Welcome to the CDS\n",
      "2023-05-17 13:10:00,387 INFO Sending request to https://cds.climate.copernicus.eu/api/v2/resources/reanalysis-era5-pressure-levels\n",
      "2023-05-17 13:10:00,597 INFO Request is queued\n",
      "2023-05-17 13:10:01,755 INFO Request is running\n",
      "2023-05-17 13:10:03,509 INFO Request is completed\n",
      "2023-05-17 13:10:03,509 INFO Downloading https://download-0007-clone.copernicus-climate.eu/cache-compute-0007/cache/data8/adaptor.mars.internal-1684350581.5967307-20321-12-19b17dc0-81f5-44fa-ace3-55c72842e33e.nc to winds_20220920_12.nc (7.9M)\n",
      "2023-05-17 13:10:07,104 INFO Download rate 2.2M/s                                                                      \n"
     ]
    },
    {
     "name": "stdout",
     "output_type": "stream",
     "text": [
      "winds_20220920_12.nc\n",
      "Dataset 26/56 downloaded\n"
     ]
    },
    {
     "name": "stderr",
     "output_type": "stream",
     "text": [
      "2023-05-17 13:10:07,667 INFO Welcome to the CDS\n",
      "2023-05-17 13:10:07,667 INFO Sending request to https://cds.climate.copernicus.eu/api/v2/resources/reanalysis-era5-pressure-levels\n",
      "2023-05-17 13:10:07,898 INFO Request is queued\n",
      "2023-05-17 13:10:09,158 INFO Request is running\n",
      "2023-05-17 13:10:10,874 INFO Request is completed\n",
      "2023-05-17 13:10:10,874 INFO Downloading https://download-0012-clone.copernicus-climate.eu/cache-compute-0012/cache/data2/adaptor.mars.internal-1684350589.3085284-4008-9-8d29d8b9-5981-4236-a2fd-aa74ca4b4f56.nc to winds_20220920_18.nc (7.9M)\n",
      "2023-05-17 13:10:14,013 INFO Download rate 2.5M/s                                                                      \n"
     ]
    },
    {
     "name": "stdout",
     "output_type": "stream",
     "text": [
      "winds_20220920_18.nc\n",
      "Dataset 27/56 downloaded\n"
     ]
    },
    {
     "name": "stderr",
     "output_type": "stream",
     "text": [
      "2023-05-17 13:10:14,489 INFO Welcome to the CDS\n",
      "2023-05-17 13:10:14,490 INFO Sending request to https://cds.climate.copernicus.eu/api/v2/resources/reanalysis-era5-pressure-levels\n",
      "2023-05-17 13:10:14,727 INFO Request is queued\n",
      "2023-05-17 13:10:16,044 INFO Request is running\n",
      "2023-05-17 13:10:17,834 INFO Request is completed\n",
      "2023-05-17 13:10:17,834 INFO Downloading https://download-0001-clone.copernicus-climate.eu/cache-compute-0001/cache/data5/adaptor.mars.internal-1684350596.271822-25097-3-a608e95c-a698-4635-8eba-6651650619df.nc to winds_20220921_00.nc (7.9M)\n",
      "2023-05-17 13:10:22,312 INFO Download rate 1.8M/s                                                                      \n"
     ]
    },
    {
     "name": "stdout",
     "output_type": "stream",
     "text": [
      "winds_20220921_00.nc\n",
      "Dataset 28/56 downloaded\n"
     ]
    },
    {
     "name": "stderr",
     "output_type": "stream",
     "text": [
      "2023-05-17 13:10:22,727 INFO Welcome to the CDS\n",
      "2023-05-17 13:10:22,727 INFO Sending request to https://cds.climate.copernicus.eu/api/v2/resources/reanalysis-era5-pressure-levels\n",
      "2023-05-17 13:10:22,935 INFO Request is queued\n",
      "2023-05-17 13:10:24,200 INFO Request is running\n",
      "2023-05-17 13:10:25,866 INFO Request is completed\n",
      "2023-05-17 13:10:25,866 INFO Downloading https://download-0001-clone.copernicus-climate.eu/cache-compute-0001/cache/data4/adaptor.mars.internal-1684350604.2648668-25262-2-f85005be-98eb-4c8c-8f32-941acc136b18.nc to winds_20220921_06.nc (7.9M)\n",
      "2023-05-17 13:10:29,351 INFO Download rate 2.3M/s                                                                      \n",
      "2023-05-17 13:10:29,675 INFO Welcome to the CDS\n",
      "2023-05-17 13:10:29,676 INFO Sending request to https://cds.climate.copernicus.eu/api/v2/resources/reanalysis-era5-pressure-levels\n"
     ]
    },
    {
     "name": "stdout",
     "output_type": "stream",
     "text": [
      "winds_20220921_06.nc\n",
      "Dataset 29/56 downloaded\n"
     ]
    },
    {
     "name": "stderr",
     "output_type": "stream",
     "text": [
      "2023-05-17 13:10:29,843 INFO Request is queued\n",
      "2023-05-17 13:10:31,008 INFO Request is running\n",
      "2023-05-17 13:10:32,761 INFO Request is completed\n",
      "2023-05-17 13:10:32,761 INFO Downloading https://download-0001-clone.copernicus-climate.eu/cache-compute-0001/cache/data3/adaptor.mars.internal-1684350611.2674787-24568-7-8242220e-145d-4c26-9392-81fdabad32ca.nc to winds_20220921_12.nc (7.9M)\n",
      "2023-05-17 13:10:35,888 INFO Download rate 2.5M/s                                                                      \n"
     ]
    },
    {
     "name": "stdout",
     "output_type": "stream",
     "text": [
      "winds_20220921_12.nc\n",
      "Dataset 30/56 downloaded\n"
     ]
    },
    {
     "name": "stderr",
     "output_type": "stream",
     "text": [
      "2023-05-17 13:10:36,424 INFO Welcome to the CDS\n",
      "2023-05-17 13:10:36,426 INFO Sending request to https://cds.climate.copernicus.eu/api/v2/resources/reanalysis-era5-pressure-levels\n",
      "2023-05-17 13:10:36,710 INFO Request is queued\n",
      "2023-05-17 13:10:37,873 INFO Request is running\n",
      "2023-05-17 13:10:39,711 INFO Request is completed\n",
      "2023-05-17 13:10:39,711 INFO Downloading https://download-0017.copernicus-climate.eu/cache-compute-0017/cache/data5/adaptor.mars.internal-1684350617.8515718-19223-12-57f6a2ca-3a33-4df2-ae32-d2e98e88b2f5.nc to winds_20220921_18.nc (7.9M)\n",
      "2023-05-17 13:10:42,722 INFO Download rate 2.6M/s                                                                      \n",
      "2023-05-17 13:10:43,074 INFO Welcome to the CDS\n"
     ]
    },
    {
     "name": "stdout",
     "output_type": "stream",
     "text": [
      "winds_20220921_18.nc\n",
      "Dataset 31/56 downloaded\n"
     ]
    },
    {
     "name": "stderr",
     "output_type": "stream",
     "text": [
      "2023-05-17 13:10:43,074 INFO Sending request to https://cds.climate.copernicus.eu/api/v2/resources/reanalysis-era5-pressure-levels\n",
      "2023-05-17 13:10:43,277 INFO Request is queued\n",
      "2023-05-17 13:10:44,447 INFO Request is running\n",
      "2023-05-17 13:10:46,139 INFO Request is completed\n",
      "2023-05-17 13:10:46,139 INFO Downloading https://download-0016.copernicus-climate.eu/cache-compute-0016/cache/data8/adaptor.mars.internal-1684350624.6665866-21711-9-7461100f-ed66-474c-b4db-60145bcd54cd.nc to winds_20220922_00.nc (7.9M)\n",
      "2023-05-17 13:10:49,658 INFO Download rate 2.3M/s                                                                      \n",
      "2023-05-17 13:10:49,999 INFO Welcome to the CDS\n"
     ]
    },
    {
     "name": "stdout",
     "output_type": "stream",
     "text": [
      "winds_20220922_00.nc\n",
      "Dataset 32/56 downloaded\n"
     ]
    },
    {
     "name": "stderr",
     "output_type": "stream",
     "text": [
      "2023-05-17 13:10:49,999 INFO Sending request to https://cds.climate.copernicus.eu/api/v2/resources/reanalysis-era5-pressure-levels\n",
      "2023-05-17 13:10:50,208 INFO Request is queued\n",
      "2023-05-17 13:10:51,464 INFO Request is running\n",
      "2023-05-17 13:10:53,121 INFO Request is completed\n",
      "2023-05-17 13:10:53,121 INFO Downloading https://download-0010-clone.copernicus-climate.eu/cache-compute-0010/cache/data5/adaptor.mars.internal-1684350631.5606565-32396-7-67da9671-dd09-4462-a7cf-61f8b99d853a.nc to winds_20220922_06.nc (7.9M)\n",
      "2023-05-17 13:10:56,317 INFO Download rate 2.5M/s                                                                      \n"
     ]
    },
    {
     "name": "stdout",
     "output_type": "stream",
     "text": [
      "winds_20220922_06.nc\n",
      "Dataset 33/56 downloaded\n"
     ]
    },
    {
     "name": "stderr",
     "output_type": "stream",
     "text": [
      "2023-05-17 13:10:56,684 INFO Welcome to the CDS\n",
      "2023-05-17 13:10:56,684 INFO Sending request to https://cds.climate.copernicus.eu/api/v2/resources/reanalysis-era5-pressure-levels\n",
      "2023-05-17 13:10:56,871 INFO Request is queued\n",
      "2023-05-17 13:10:58,037 INFO Request is running\n",
      "2023-05-17 13:10:59,704 INFO Request is completed\n",
      "2023-05-17 13:10:59,704 INFO Downloading https://download-0005-clone.copernicus-climate.eu/cache-compute-0005/cache/data4/adaptor.mars.internal-1684350638.0942369-16144-2-462acab8-f55d-493d-aedc-c941c30ecde9.nc to winds_20220922_12.nc (7.9M)\n",
      "2023-05-17 13:11:03,692 INFO Download rate 2M/s                                                                        \n"
     ]
    },
    {
     "name": "stdout",
     "output_type": "stream",
     "text": [
      "winds_20220922_12.nc\n",
      "Dataset 34/56 downloaded\n"
     ]
    },
    {
     "name": "stderr",
     "output_type": "stream",
     "text": [
      "2023-05-17 13:11:04,169 INFO Welcome to the CDS\n",
      "2023-05-17 13:11:04,170 INFO Sending request to https://cds.climate.copernicus.eu/api/v2/resources/reanalysis-era5-pressure-levels\n",
      "2023-05-17 13:11:04,494 INFO Request is completed\n",
      "2023-05-17 13:11:04,495 INFO Downloading https://download-0004-clone.copernicus-climate.eu/cache-compute-0004/cache/data8/adaptor.mars.internal-1684343121.8918607-11309-2-8c99c42c-3691-497c-95a0-7f99bf6954bd.nc to winds_20220922_18.nc (7.9M)\n",
      "2023-05-17 13:11:07,739 INFO Download rate 2.4M/s                                                                      \n",
      "2023-05-17 13:11:08,065 INFO Welcome to the CDS\n",
      "2023-05-17 13:11:08,065 INFO Sending request to https://cds.climate.copernicus.eu/api/v2/resources/reanalysis-era5-pressure-levels\n"
     ]
    },
    {
     "name": "stdout",
     "output_type": "stream",
     "text": [
      "winds_20220922_18.nc\n",
      "Dataset 35/56 downloaded\n"
     ]
    },
    {
     "name": "stderr",
     "output_type": "stream",
     "text": [
      "2023-05-17 13:11:08,486 INFO Request is completed\n",
      "2023-05-17 13:11:08,486 INFO Downloading https://download-0007-clone.copernicus-climate.eu/cache-compute-0007/cache/data3/adaptor.mars.internal-1684343128.083794-31948-3-2d36b089-e60a-46dc-b797-fbe9925e0881.nc to winds_20220923_00.nc (7.9M)\n",
      "2023-05-17 13:11:12,074 INFO Download rate 2.2M/s                                                                      \n"
     ]
    },
    {
     "name": "stdout",
     "output_type": "stream",
     "text": [
      "winds_20220923_00.nc\n",
      "Dataset 36/56 downloaded\n"
     ]
    },
    {
     "name": "stderr",
     "output_type": "stream",
     "text": [
      "2023-05-17 13:11:12,449 INFO Welcome to the CDS\n",
      "2023-05-17 13:11:12,449 INFO Sending request to https://cds.climate.copernicus.eu/api/v2/resources/reanalysis-era5-pressure-levels\n",
      "2023-05-17 13:11:12,766 INFO Request is completed\n",
      "2023-05-17 13:11:12,766 INFO Downloading https://download-0012-clone.copernicus-climate.eu/cache-compute-0012/cache/data2/adaptor.mars.internal-1684343136.3500524-23135-12-e86c9fc7-1e65-4a41-9989-97e55b4e3293.nc to winds_20220923_06.nc (7.9M)\n",
      "2023-05-17 13:11:16,255 INFO Download rate 2.3M/s                                                                      \n",
      "2023-05-17 13:11:16,591 INFO Welcome to the CDS\n",
      "2023-05-17 13:11:16,591 INFO Sending request to https://cds.climate.copernicus.eu/api/v2/resources/reanalysis-era5-pressure-levels\n"
     ]
    },
    {
     "name": "stdout",
     "output_type": "stream",
     "text": [
      "winds_20220923_06.nc\n",
      "Dataset 37/56 downloaded\n"
     ]
    },
    {
     "name": "stderr",
     "output_type": "stream",
     "text": [
      "2023-05-17 13:11:16,885 INFO Request is completed\n",
      "2023-05-17 13:11:16,885 INFO Downloading https://download-0014-clone.copernicus-climate.eu/cache-compute-0014/cache/data6/adaptor.mars.internal-1684343143.724311-334-9-bc271cdf-01da-462b-b8bb-ee413bb91d61.nc to winds_20220923_12.nc (7.9M)\n",
      "2023-05-17 13:11:34,619 INFO Download rate 457.9K/s                                                                    \n"
     ]
    },
    {
     "name": "stdout",
     "output_type": "stream",
     "text": [
      "winds_20220923_12.nc\n",
      "Dataset 38/56 downloaded\n"
     ]
    },
    {
     "name": "stderr",
     "output_type": "stream",
     "text": [
      "2023-05-17 13:11:35,096 INFO Welcome to the CDS\n",
      "2023-05-17 13:11:35,096 INFO Sending request to https://cds.climate.copernicus.eu/api/v2/resources/reanalysis-era5-pressure-levels\n",
      "2023-05-17 13:11:35,371 INFO Request is completed\n",
      "2023-05-17 13:11:35,371 INFO Downloading https://download-0010-clone.copernicus-climate.eu/cache-compute-0010/cache/data4/adaptor.mars.internal-1684343149.865504-26629-10-f60a474e-8fb9-488c-b2df-5e7dd63056b7.nc to winds_20220923_18.nc (7.9M)\n",
      "2023-05-17 13:11:38,135 INFO Download rate 2.9M/s                                                                      \n"
     ]
    },
    {
     "name": "stdout",
     "output_type": "stream",
     "text": [
      "winds_20220923_18.nc\n",
      "Dataset 39/56 downloaded\n"
     ]
    },
    {
     "name": "stderr",
     "output_type": "stream",
     "text": [
      "2023-05-17 13:11:38,570 INFO Welcome to the CDS\n",
      "2023-05-17 13:11:38,570 INFO Sending request to https://cds.climate.copernicus.eu/api/v2/resources/reanalysis-era5-pressure-levels\n",
      "2023-05-17 13:11:38,959 INFO Request is completed\n",
      "2023-05-17 13:11:38,959 INFO Downloading https://download-0004-clone.copernicus-climate.eu/cache-compute-0004/cache/data7/adaptor.mars.internal-1684343156.2566562-9043-7-6540107c-502f-4e4c-b8f6-ab7efd060602.nc to winds_20220924_00.nc (7.9M)\n",
      "2023-05-17 13:11:41,547 INFO Download rate 3.1M/s                                                                      \n",
      "2023-05-17 13:11:41,868 INFO Welcome to the CDS\n",
      "2023-05-17 13:11:41,869 INFO Sending request to https://cds.climate.copernicus.eu/api/v2/resources/reanalysis-era5-pressure-levels\n"
     ]
    },
    {
     "name": "stdout",
     "output_type": "stream",
     "text": [
      "winds_20220924_00.nc\n",
      "Dataset 40/56 downloaded\n"
     ]
    },
    {
     "name": "stderr",
     "output_type": "stream",
     "text": [
      "2023-05-17 13:11:42,157 INFO Request is completed\n",
      "2023-05-17 13:11:42,157 INFO Downloading https://download-0000-clone.copernicus-climate.eu/cache-compute-0000/cache/data1/adaptor.mars.internal-1684343161.460804-10878-17-995828b1-2b0b-49bc-a4e4-e7da5c278046.nc to winds_20220924_06.nc (7.9M)\n",
      "2023-05-17 13:11:49,407 INFO Download rate 1.1M/s                                                                      \n",
      "2023-05-17 13:11:49,718 INFO Welcome to the CDS\n",
      "2023-05-17 13:11:49,718 INFO Sending request to https://cds.climate.copernicus.eu/api/v2/resources/reanalysis-era5-pressure-levels\n"
     ]
    },
    {
     "name": "stdout",
     "output_type": "stream",
     "text": [
      "winds_20220924_06.nc\n",
      "Dataset 41/56 downloaded\n"
     ]
    },
    {
     "name": "stderr",
     "output_type": "stream",
     "text": [
      "2023-05-17 13:11:50,138 INFO Request is completed\n",
      "2023-05-17 13:11:50,138 INFO Downloading https://download-0020.copernicus-climate.eu/cache-compute-0020/cache/data3/adaptor.mars.internal-1684343167.3484-22804-4-53fa5ef2-103a-4308-8a0a-2c6f314f0ac5.nc to winds_20220924_12.nc (7.9M)\n",
      "2023-05-17 13:11:53,592 INFO Download rate 2.3M/s                                                                      \n"
     ]
    },
    {
     "name": "stdout",
     "output_type": "stream",
     "text": [
      "winds_20220924_12.nc\n",
      "Dataset 42/56 downloaded\n"
     ]
    },
    {
     "name": "stderr",
     "output_type": "stream",
     "text": [
      "2023-05-17 13:11:54,023 INFO Welcome to the CDS\n",
      "2023-05-17 13:11:54,023 INFO Sending request to https://cds.climate.copernicus.eu/api/v2/resources/reanalysis-era5-pressure-levels\n",
      "2023-05-17 13:11:54,449 INFO Request is completed\n",
      "2023-05-17 13:11:54,451 INFO Downloading https://download-0019.copernicus-climate.eu/cache-compute-0019/cache/data0/adaptor.mars.internal-1684343173.3936524-17692-1-a32a542d-7ef5-4898-888d-3aad2feff710.nc to winds_20220924_18.nc (7.9M)\n",
      "2023-05-17 13:11:58,161 INFO Download rate 2.1M/s                                                                      \n",
      "2023-05-17 13:11:58,611 INFO Welcome to the CDS\n",
      "2023-05-17 13:11:58,611 INFO Sending request to https://cds.climate.copernicus.eu/api/v2/resources/reanalysis-era5-pressure-levels\n"
     ]
    },
    {
     "name": "stdout",
     "output_type": "stream",
     "text": [
      "winds_20220924_18.nc\n",
      "Dataset 43/56 downloaded\n"
     ]
    },
    {
     "name": "stderr",
     "output_type": "stream",
     "text": [
      "2023-05-17 13:11:58,902 INFO Request is completed\n",
      "2023-05-17 13:11:58,902 INFO Downloading https://download-0003-clone.copernicus-climate.eu/cache-compute-0003/cache/data5/adaptor.mars.internal-1684343180.8912034-28858-18-da28d949-e9ac-46a5-aaf1-61eb3d4d642e.nc to winds_20220925_00.nc (7.9M)\n",
      "2023-05-17 13:12:03,881 INFO Download rate 1.6M/s                                                                      \n"
     ]
    },
    {
     "name": "stdout",
     "output_type": "stream",
     "text": [
      "winds_20220925_00.nc\n",
      "Dataset 44/56 downloaded\n"
     ]
    },
    {
     "name": "stderr",
     "output_type": "stream",
     "text": [
      "2023-05-17 13:12:04,252 INFO Welcome to the CDS\n",
      "2023-05-17 13:12:04,252 INFO Sending request to https://cds.climate.copernicus.eu/api/v2/resources/reanalysis-era5-pressure-levels\n",
      "2023-05-17 13:12:04,523 INFO Request is completed\n",
      "2023-05-17 13:12:04,523 INFO Downloading https://download-0015-clone.copernicus-climate.eu/cache-compute-0015/cache/data9/adaptor.mars.internal-1684343186.9668374-20048-2-48de4a24-5cc7-498b-9862-c0db19041423.nc to winds_20220925_06.nc (7.9M)\n",
      "2023-05-17 13:12:16,223 INFO Download rate 694.2K/s                                                                    \n",
      "2023-05-17 13:12:16,686 INFO Welcome to the CDS\n"
     ]
    },
    {
     "name": "stdout",
     "output_type": "stream",
     "text": [
      "winds_20220925_06.nc\n",
      "Dataset 45/56 downloaded\n"
     ]
    },
    {
     "name": "stderr",
     "output_type": "stream",
     "text": [
      "2023-05-17 13:12:16,686 INFO Sending request to https://cds.climate.copernicus.eu/api/v2/resources/reanalysis-era5-pressure-levels\n",
      "2023-05-17 13:12:17,008 INFO Request is completed\n",
      "2023-05-17 13:12:17,008 INFO Downloading https://download-0016.copernicus-climate.eu/cache-compute-0016/cache/data5/adaptor.mars.internal-1684343193.1178145-14484-17-9ab085c0-0551-41d4-866f-ff9e3c90c05c.nc to winds_20220925_12.nc (7.9M)\n",
      "2023-05-17 13:12:21,746 INFO Download rate 1.7M/s                                                                      \n"
     ]
    },
    {
     "name": "stdout",
     "output_type": "stream",
     "text": [
      "winds_20220925_12.nc\n",
      "Dataset 46/56 downloaded\n"
     ]
    },
    {
     "name": "stderr",
     "output_type": "stream",
     "text": [
      "2023-05-17 13:12:22,225 INFO Welcome to the CDS\n",
      "2023-05-17 13:12:22,225 INFO Sending request to https://cds.climate.copernicus.eu/api/v2/resources/reanalysis-era5-pressure-levels\n",
      "2023-05-17 13:12:22,648 INFO Request is completed\n",
      "2023-05-17 13:12:22,648 INFO Downloading https://download-0021.copernicus-climate.eu/cache-compute-0021/cache/data8/adaptor.mars.internal-1684343199.26902-20655-12-216fca04-7db3-4f32-9e91-581764f71177.nc to winds_20220925_18.nc (7.9M)\n",
      "2023-05-17 13:12:31,072 INFO Download rate 964.1K/s                                                                    \n"
     ]
    },
    {
     "name": "stdout",
     "output_type": "stream",
     "text": [
      "winds_20220925_18.nc\n",
      "Dataset 47/56 downloaded\n"
     ]
    },
    {
     "name": "stderr",
     "output_type": "stream",
     "text": [
      "2023-05-17 13:12:31,516 INFO Welcome to the CDS\n",
      "2023-05-17 13:12:31,516 INFO Sending request to https://cds.climate.copernicus.eu/api/v2/resources/reanalysis-era5-pressure-levels\n",
      "2023-05-17 13:12:31,806 INFO Request is completed\n",
      "2023-05-17 13:12:31,806 INFO Downloading https://download-0010-clone.copernicus-climate.eu/cache-compute-0010/cache/data2/adaptor.mars.internal-1684343206.5322783-25276-13-9e2acc19-13fd-4b5e-a5cb-b6aaeeb700eb.nc to winds_20220926_00.nc (7.9M)\n",
      "2023-05-17 13:12:34,663 INFO Download rate 2.8M/s                                                                      \n"
     ]
    },
    {
     "name": "stdout",
     "output_type": "stream",
     "text": [
      "winds_20220926_00.nc\n",
      "Dataset 48/56 downloaded\n"
     ]
    },
    {
     "name": "stderr",
     "output_type": "stream",
     "text": [
      "2023-05-17 13:12:35,281 INFO Welcome to the CDS\n",
      "2023-05-17 13:12:35,281 INFO Sending request to https://cds.climate.copernicus.eu/api/v2/resources/reanalysis-era5-pressure-levels\n",
      "2023-05-17 13:12:35,562 INFO Request is completed\n",
      "2023-05-17 13:12:35,562 INFO Downloading https://download-0000-clone.copernicus-climate.eu/cache-compute-0000/cache/data3/adaptor.mars.internal-1684343211.617013-22787-7-db5d1bef-0a2b-443d-a575-b05e111fa6df.nc to winds_20220926_06.nc (7.9M)\n",
      "2023-05-17 13:12:43,135 INFO Download rate 1M/s                                                                        \n"
     ]
    },
    {
     "name": "stdout",
     "output_type": "stream",
     "text": [
      "winds_20220926_06.nc\n",
      "Dataset 49/56 downloaded\n"
     ]
    },
    {
     "name": "stderr",
     "output_type": "stream",
     "text": [
      "2023-05-17 13:12:44,588 INFO Welcome to the CDS\n",
      "2023-05-17 13:12:44,589 INFO Sending request to https://cds.climate.copernicus.eu/api/v2/resources/reanalysis-era5-pressure-levels\n",
      "2023-05-17 13:12:44,963 INFO Request is completed\n",
      "2023-05-17 13:12:44,963 INFO Downloading https://download-0019.copernicus-climate.eu/cache-compute-0019/cache/data1/adaptor.mars.internal-1684343216.7163417-14343-10-de15e543-c0e6-476b-8135-8ea9bf843443.nc to winds_20220926_12.nc (7.9M)\n",
      "2023-05-17 13:12:47,890 INFO Download rate 2.7M/s                                                                      \n",
      "2023-05-17 13:12:48,201 INFO Welcome to the CDS\n",
      "2023-05-17 13:12:48,201 INFO Sending request to https://cds.climate.copernicus.eu/api/v2/resources/reanalysis-era5-pressure-levels\n"
     ]
    },
    {
     "name": "stdout",
     "output_type": "stream",
     "text": [
      "winds_20220926_12.nc\n",
      "Dataset 50/56 downloaded\n"
     ]
    },
    {
     "name": "stderr",
     "output_type": "stream",
     "text": [
      "2023-05-17 13:12:48,413 INFO Request is completed\n",
      "2023-05-17 13:12:48,421 INFO Downloading https://download-0018.copernicus-climate.eu/cache-compute-0018/cache/data5/adaptor.mars.internal-1684343222.7495701-21813-7-cdea2ae4-114d-4aec-b6e3-ff0b8bfaf9a6.nc to winds_20220926_18.nc (7.9M)\n",
      "2023-05-17 13:12:52,892 INFO Download rate 1.8M/s                                                                      \n",
      "2023-05-17 13:12:53,226 INFO Welcome to the CDS\n",
      "2023-05-17 13:12:53,226 INFO Sending request to https://cds.climate.copernicus.eu/api/v2/resources/reanalysis-era5-pressure-levels\n"
     ]
    },
    {
     "name": "stdout",
     "output_type": "stream",
     "text": [
      "winds_20220926_18.nc\n",
      "Dataset 51/56 downloaded\n"
     ]
    },
    {
     "name": "stderr",
     "output_type": "stream",
     "text": [
      "2023-05-17 13:12:53,542 INFO Request is completed\n",
      "2023-05-17 13:12:53,542 INFO Downloading https://download-0013-clone.copernicus-climate.eu/cache-compute-0013/cache/data8/adaptor.mars.internal-1684343228.7507627-5838-10-e09f230e-994f-4960-8f6d-f56b15e890d2.nc to winds_20220927_00.nc (7.9M)\n",
      "2023-05-17 13:12:59,586 INFO Download rate 1.3M/s                                                                      \n",
      "2023-05-17 13:12:59,884 INFO Welcome to the CDS\n",
      "2023-05-17 13:12:59,884 INFO Sending request to https://cds.climate.copernicus.eu/api/v2/resources/reanalysis-era5-pressure-levels\n"
     ]
    },
    {
     "name": "stdout",
     "output_type": "stream",
     "text": [
      "winds_20220927_00.nc\n",
      "Dataset 52/56 downloaded\n"
     ]
    },
    {
     "name": "stderr",
     "output_type": "stream",
     "text": [
      "2023-05-17 13:13:00,138 INFO Request is completed\n",
      "2023-05-17 13:13:00,138 INFO Downloading https://download-0013-clone.copernicus-climate.eu/cache-compute-0013/cache/data8/adaptor.mars.internal-1684343234.8035898-11108-3-4c23d132-28af-4379-bca4-7be782f5e579.nc to winds_20220927_06.nc (7.9M)\n",
      "2023-05-17 13:13:01,725 INFO Download rate 5M/s                                                                        \n",
      "2023-05-17 13:13:02,034 INFO Welcome to the CDS\n",
      "2023-05-17 13:13:02,034 INFO Sending request to https://cds.climate.copernicus.eu/api/v2/resources/reanalysis-era5-pressure-levels\n"
     ]
    },
    {
     "name": "stdout",
     "output_type": "stream",
     "text": [
      "winds_20220927_06.nc\n",
      "Dataset 53/56 downloaded\n"
     ]
    },
    {
     "name": "stderr",
     "output_type": "stream",
     "text": [
      "2023-05-17 13:13:02,333 INFO Request is completed\n",
      "2023-05-17 13:13:02,333 INFO Downloading https://download-0021.copernicus-climate.eu/cache-compute-0021/cache/data5/adaptor.mars.internal-1684343239.5503814-22717-13-74f9b7a1-1256-49d0-9947-771b42f1f639.nc to winds_20220927_12.nc (7.9M)\n",
      "2023-05-17 13:13:06,226 INFO Download rate 2M/s                                                                        \n"
     ]
    },
    {
     "name": "stdout",
     "output_type": "stream",
     "text": [
      "winds_20220927_12.nc\n",
      "Dataset 54/56 downloaded\n"
     ]
    },
    {
     "name": "stderr",
     "output_type": "stream",
     "text": [
      "2023-05-17 13:13:06,624 INFO Welcome to the CDS\n",
      "2023-05-17 13:13:06,624 INFO Sending request to https://cds.climate.copernicus.eu/api/v2/resources/reanalysis-era5-pressure-levels\n",
      "2023-05-17 13:13:06,877 INFO Request is completed\n",
      "2023-05-17 13:13:06,886 INFO Downloading https://download-0014-clone.copernicus-climate.eu/cache-compute-0014/cache/data3/adaptor.mars.internal-1684343246.1440759-2699-6-713a5d3b-0bdd-4688-b2cb-aac05b7ffbed.nc to winds_20220927_18.nc (7.9M)\n",
      "2023-05-17 13:13:11,241 INFO Download rate 1.8M/s                                                                      \n"
     ]
    },
    {
     "name": "stdout",
     "output_type": "stream",
     "text": [
      "winds_20220927_18.nc\n",
      "Dataset 55/56 downloaded\n"
     ]
    },
    {
     "name": "stderr",
     "output_type": "stream",
     "text": [
      "2023-05-17 13:13:11,644 INFO Welcome to the CDS\n",
      "2023-05-17 13:13:11,644 INFO Sending request to https://cds.climate.copernicus.eu/api/v2/resources/reanalysis-era5-pressure-levels\n",
      "2023-05-17 13:13:12,045 INFO Request is completed\n",
      "2023-05-17 13:13:12,045 INFO Downloading https://download-0015-clone.copernicus-climate.eu/cache-compute-0015/cache/data8/adaptor.mars.internal-1684343252.9638124-20048-4-dc9d9d69-72ad-431c-95eb-99d847e75241.nc to winds_20220928_00.nc (7.9M)\n",
      "2023-05-17 13:13:21,119 INFO Download rate 895K/s                                                                      \n"
     ]
    },
    {
     "name": "stdout",
     "output_type": "stream",
     "text": [
      "winds_20220928_00.nc\n",
      "Dataset 56/56 downloaded\n"
     ]
    }
   ],
   "source": [
    "# load more 2021 and 2022 data from copernicus website!\n",
    "import sys\n",
    "sys.path.append(  \"/Users/etmu9498/research/code/scripts-winter2023/era5-processing\")\n",
    "import era_data_processing\n",
    "era_data_processing.download_era5( year='2022', name = 'fiona')"
   ]
  }
 ],
 "metadata": {
  "kernelspec": {
   "display_name": "Python 3 (ipykernel)",
   "language": "python",
   "name": "python3"
  },
  "language_info": {
   "codemirror_mode": {
    "name": "ipython",
    "version": 3
   },
   "file_extension": ".py",
   "mimetype": "text/x-python",
   "name": "python",
   "nbconvert_exporter": "python",
   "pygments_lexer": "ipython3",
   "version": "3.9.15"
  }
 },
 "nbformat": 4,
 "nbformat_minor": 5
}
