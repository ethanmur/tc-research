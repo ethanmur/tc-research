{
 "cells": [
  {
   "cell_type": "code",
   "execution_count": 1,
   "id": "e7adba1d",
   "metadata": {
    "scrolled": false
   },
   "outputs": [
    {
     "name": "stdout",
     "output_type": "stream",
     "text": [
      "in-situ-sam-09-26-eye-1.nc\n",
      "shear dir: 44\n",
      "p3 dir: 89.9067\n",
      "direction difference: 45.9067\n",
      "early quadrant: UL\n",
      "late quadrant: DR\n",
      "\n",
      "in-situ-sam-09-26-eye-2.nc\n",
      "shear dir: 44\n",
      "p3 dir: 209.5818\n",
      "direction difference: 165.5818\n",
      "early quadrant: DL\n",
      "late quadrant: UR\n",
      "\n",
      "in-situ-sam-09-26-eye-3.nc\n",
      "shear dir: 44\n",
      "p3 dir: 309.7617\n",
      "direction difference: 265.7617\n",
      "early quadrant: DR\n",
      "late quadrant: UL\n",
      "\n",
      "in-situ-sam-09-27-eye-2.nc\n",
      "shear dir: 74\n",
      "p3 dir: 193.4874\n",
      "direction difference: 119.48740000000001\n",
      "early quadrant: DL\n",
      "late quadrant: UR\n",
      "\n",
      "in-situ-sam-09-27-eye-3.nc\n",
      "shear dir: 74\n",
      "p3 dir: 328.2431\n",
      "direction difference: 254.24310000000003\n",
      "early quadrant: DR\n",
      "late quadrant: UL\n",
      "\n",
      "in-situ-sam-09-29-eye-1.nc\n",
      "shear dir: 57\n",
      "p3 dir: 316.6541\n",
      "direction difference: 259.6541\n",
      "early quadrant: DR\n",
      "late quadrant: UL\n",
      "\n",
      "in-situ-sam-09-29-eye-2.nc\n",
      "shear dir: 57\n",
      "p3 dir: 68.8893\n",
      "direction difference: 11.889300000000006\n",
      "early quadrant: UL\n",
      "late quadrant: DR\n",
      "\n"
     ]
    }
   ],
   "source": [
    "import os\n",
    "os.chdir( \"/Users/etmu9498/research/code/scripts/shear\")\n",
    "import shear_angles\n",
    "os.chdir( \"/Users/etmu9498/research/code/scripts\")\n",
    "import tc_metadata\n",
    "\n",
    "tc = 'sam'\n",
    "\n",
    "# find how many eye passes there are for this tc case to automatically run the loop below\n",
    "metadata = tc_metadata.all_data(tc=tc)\n",
    "passes = len( metadata['eye_pass'])\n",
    "\n",
    "# empty list used for easy copying later\n",
    "quadlist = []\n",
    "\n",
    "for i in range( passes):\n",
    "    q1, q2 = shear_angles.two_shear_quadrants( tc, i, close_warn=True, print_extras=True)\n",
    "    # shear_dir = shear_angles.metadata_shear_dir( tc, i)\n",
    "    # p3_dir = shear_angles.in_situ_p3_dir( tc, i)\n",
    "    \n",
    "    quadlist.append( [ (\\'q1\\', \\'q2\\')] )\n",
    "    \n",
    "print( quadlist)"
   ]
  },
  {
   "cell_type": "code",
   "execution_count": null,
   "id": "5e9e3b89",
   "metadata": {},
   "outputs": [],
   "source": []
  },
  {
   "cell_type": "code",
   "execution_count": null,
   "id": "ce8d8603",
   "metadata": {},
   "outputs": [],
   "source": []
  }
 ],
 "metadata": {
  "kernelspec": {
   "display_name": "Python 3 (ipykernel)",
   "language": "python",
   "name": "python3"
  },
  "language_info": {
   "codemirror_mode": {
    "name": "ipython",
    "version": 3
   },
   "file_extension": ".py",
   "mimetype": "text/x-python",
   "name": "python",
   "nbconvert_exporter": "python",
   "pygments_lexer": "ipython3",
   "version": "3.9.13"
  }
 },
 "nbformat": 4,
 "nbformat_minor": 5
}
