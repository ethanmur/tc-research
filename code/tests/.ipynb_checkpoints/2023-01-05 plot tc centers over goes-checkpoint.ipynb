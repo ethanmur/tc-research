{
 "cells": [
  {
   "cell_type": "code",
   "execution_count": null,
   "id": "15a5e494",
   "metadata": {},
   "outputs": [],
   "source": [
    "import os\n",
    "os.chdir(  \"/Users/etmu9498/research/code/scripts\")\n",
    "import goes_gifs\n",
    "\n",
    "# run one case automatically: see python file for functionality\n",
    "# the add_centers=True line adds calculated tc centers to the plots for verification\n",
    "# not finished yet!!\n",
    "\n",
    "goes_gifs.one_in_situ_plot( dataset = 5, add_centers=True)\n"
   ]
  }
 ],
 "metadata": {
  "kernelspec": {
   "display_name": "Python 3 (ipykernel)",
   "language": "python",
   "name": "python3"
  },
  "language_info": {
   "codemirror_mode": {
    "name": "ipython",
    "version": 3
   },
   "file_extension": ".py",
   "mimetype": "text/x-python",
   "name": "python",
   "nbconvert_exporter": "python",
   "pygments_lexer": "ipython3",
   "version": "3.9.13"
  }
 },
 "nbformat": 4,
 "nbformat_minor": 5
}
