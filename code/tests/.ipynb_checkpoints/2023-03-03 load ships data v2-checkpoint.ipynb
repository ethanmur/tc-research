{
 "cells": [
  {
   "cell_type": "code",
   "execution_count": null,
   "id": "d1125ba7",
   "metadata": {},
   "outputs": [],
   "source": [
    "# 3/3/23 update\n",
    "# this notebook automatically loads flight level data, finds the median time, and pulls the SHIPS data\n",
    "# closest to that time! it then saves important quantities in a text file!!"
   ]
  },
  {
   "cell_type": "code",
   "execution_count": 84,
   "id": "54f76f96",
   "metadata": {},
   "outputs": [],
   "source": [
    "# import...\n",
    "import numpy as np\n",
    "import os\n",
    "import matplotlib.pyplot as plt\n",
    "import xarray as xr\n",
    "import warnings\n",
    "import sys\n",
    "import pandas as pd\n",
    "os.chdir(  \"/Users/etmu9498/research/code/scripts\")\n",
    "import make_plots\n",
    "import helper_fns\n",
    "\n"
   ]
  },
  {
   "cell_type": "code",
   "execution_count": 62,
   "id": "e838cabf",
   "metadata": {
    "scrolled": false
   },
   "outputs": [
    {
     "name": "stdout",
     "output_type": "stream",
     "text": [
      "20210818H1_grace_processed.nc\n",
      "20210818H1_grace\n"
     ]
    }
   ],
   "source": [
    "# load fl names for processed datasets (for 2021 as an example)\n",
    "year = '2021'\n",
    "fl_path = \"/Users/etmu9498/research/data/in-situ-noaa-processed/\" + year\n",
    "names2021 = make_plots.load_flight_level( fl_path, print_files=False)\n",
    "\n",
    "# choose a name and load the data\n",
    "fl_name = names2021[ 21]\n",
    "print( fl_name)\n",
    "os.chdir( fl_path)\n",
    "data = xr.open_dataset( fl_name)\n"
   ]
  },
  {
   "cell_type": "code",
   "execution_count": 44,
   "id": "420a04e6",
   "metadata": {},
   "outputs": [
    {
     "name": "stdout",
     "output_type": "stream",
     "text": [
      "first time: 18.58361111111111\n",
      "last time: 26.30527777777778\n",
      "midpoint: 22.444444444444443\n",
      "name: GRAC\n",
      "date: 0818\n",
      "time: 00\n",
      "wraparound time? True\n"
     ]
    }
   ],
   "source": [
    "# find the median time for this dataset\n",
    "print( 'first time: ' + str( data.time[0].values))\n",
    "print( 'last time: ' + str( data.time[-1].values))\n",
    "median = data.time[0].values + ( data.time[-1].values - data.time[0].values) / 2\n",
    "print( 'midpoint: ' + str( median))\n",
    "\n",
    "# find the closest 6 hour SHIPS interval to this time\n",
    "hours = np.array( [0, 6, 12, 18, 24, 30]) # add 24 and 30 hours as wraparound cases\n",
    "closetime = hours[ np.argmin( np.abs( hours - median)) ]\n",
    "\n",
    "# roll back wraparound cases to the correct time (no 24 or 30 h cases in SHIPS database!)\n",
    "wraparound = False\n",
    "if closetime > 18:\n",
    "    wraparound = True\n",
    "    closetime -= 24\n",
    "\n",
    "# print out useful metadata for this case!\n",
    "strdate = fl_name[4:8] # original date: correct if wraparound time selected\n",
    "# get the formatting correct\n",
    "strtime = str( closetime)\n",
    "if strtime == '0' or strtime == '6':\n",
    "    strtime = '0' + strtime\n",
    "strname = fl_name[ 11:15].upper()\n",
    "print( 'name: ' + strname)\n",
    "print( 'date: ' + strdate)\n",
    "print( 'time: ' + strtime)\n",
    "print( 'wraparound time? ' + str( wraparound))"
   ]
  },
  {
   "cell_type": "code",
   "execution_count": 31,
   "id": "a87d7dce",
   "metadata": {},
   "outputs": [
    {
     "name": "stdout",
     "output_type": "stream",
     "text": [
      "1884145\n"
     ]
    }
   ],
   "source": [
    "# load the full ships dataset\n",
    "os.chdir(  \"/Users/etmu9498/research/data/ships/\")\n",
    "file1 = open('lsdiaga_1982_2021_sat_ts_5day.txt', 'r')\n",
    "Lines = file1.readlines()\n",
    "# there are a bunch of lines in the total ships file!!\n",
    "print( len( Lines))\n",
    "\n"
   ]
  },
  {
   "cell_type": "code",
   "execution_count": 66,
   "id": "9d5e6a60",
   "metadata": {
    "scrolled": false
   },
   "outputs": [
    {
     "name": "stdout",
     "output_type": "stream",
     "text": [
      " GRAC 210819 00   70   19.7   84.8  988 AL072021                                                                    HEAD                    \n",
      "\n",
      "210819\n"
     ]
    }
   ],
   "source": [
    "# save the header indices for 2021 grac data here for easy access later\n",
    "header_inds = []\n",
    "flind = 0\n",
    "\n",
    "# go through all the lines\n",
    "for ind in range( len( Lines)):\n",
    "    # get the heading lines, and look for this TC's cases!\n",
    "    if 'HEAD' and strname  in Lines[ ind]:\n",
    "\n",
    "        \n",
    "        # only keep 2021 cases\n",
    "        if Lines[ ind][ 6 : 8] == str( year[ 2:4]):\n",
    "            # print out the header and its index!\n",
    "            # print( 'index = ' + str( ind))\n",
    "            # print( Lines[ ind])\n",
    "        \n",
    "            # save this index in a separate list! add all indices for this tc + year combo, useful for wraparound times\n",
    "            header_inds.append( ind)\n",
    "\n",
    "            # find the cases with the valid date and time!\n",
    "            if strdate + ' ' + strtime in Lines[ ind]:\n",
    "                # no matter the case, find the index!\n",
    "                flind = ind\n",
    "            \n",
    "# account for wraparound cases!\n",
    "# wraparound cases: a bit annoying. Skip ahead 24 hours to the next date!\n",
    "# this work\n",
    "if wraparound:\n",
    "    # index in the limited header_inds list of the header of interest! \n",
    "    small_list_ind = header_inds.index( flind)\n",
    "    # shift 24 hours (6h * 4) ahead in indices\n",
    "    flind = header_inds[ small_list_ind + 4]\n",
    "\n",
    "\n",
    "# print results!\n",
    "# print( header_inds)\n",
    "# print( flind)\n",
    "print( Lines[ flind])\n",
    "\n",
    "# add the correct date (wraparounds accounted for)\n",
    "correct_date = Lines[ flind][ 6 : 12]\n",
    "print( correct_date)"
   ]
  },
  {
   "cell_type": "code",
   "execution_count": 82,
   "id": "38db8ba8",
   "metadata": {},
   "outputs": [
    {
     "name": "stdout",
     "output_type": "stream",
     "text": [
      " 50\n",
      " 70\n",
      " 116\n",
      "  46\n",
      " 135\n",
      " 105\n"
     ]
    }
   ],
   "source": [
    "# get 24h old and current vmax values\n",
    "vmaxold = 0\n",
    "vmax = 0\n",
    "# 24h before\n",
    "# make sure that there's SHIPS data 24h before the flight! if not, we can't get the old intensity\n",
    "# idea: maybe when there's no - 24h data, but there is - 12h data, use the -12h column in that dataset! SHIPS usually has\n",
    "# that data saved :)\n",
    "if header_inds.index( flind) - 4 >= 0:\n",
    "    header_ind = header_inds[ header_inds.index( flind) - 4]\n",
    "    # only look in this date's variables!\n",
    "    i0 = header_ind\n",
    "    i1 = header_inds[ header_inds.index( flind) - 3]\n",
    "    # search for vmax!\n",
    "    for i in range( i0,  i1 ):\n",
    "        if 'VMAX' in Lines[i]:\n",
    "            vmaxold = Lines[i][12 : 15] # the last 3 vals for vmax at 0 hours\n",
    "            break\n",
    "else:\n",
    "    print( \"No data 24h before flight :/\")\n",
    "            \n",
    "# current max values\n",
    "i0 = flind\n",
    "i1 = header_inds[ header_inds.index( flind) + 1]\n",
    "for i in range( i0, i1):\n",
    "    if 'VMAX' in Lines[i]:\n",
    "        vmax = Lines[i][12 : 15] # the last 3 vals for vmax at 0 hours\n",
    "        break\n",
    "\n",
    "print( vmaxold)\n",
    "print( vmax)\n",
    "\n",
    "# pull previous and current shear dirs and mags\n",
    "dirold = 0\n",
    "direc = 0\n",
    "magold = 0\n",
    "mag = 0\n",
    "\n",
    "# 24h before\n",
    "if header_inds.index( flind) - 4 >= 0:\n",
    "    i0 = header_inds[ header_inds.index( flind) - 4]\n",
    "    i1 = header_inds[ header_inds.index( flind) - 3]\n",
    "    # search for vmax!\n",
    "    for i in range( i0,  i1 ):\n",
    "        \n",
    "        #if i == i0 or i == i0 + 1:\n",
    "            #print( Lines[ i])\n",
    "        \n",
    "        if 'SHRD' in Lines[i]:\n",
    "            #print( Lines[ i])\n",
    "            magold = Lines[i][11 : 15] # the last 4 vals for shrd at 0 hours\n",
    "        if 'SHTD' in Lines[i]:\n",
    "            #print( Lines[ i])\n",
    "            dirold = Lines[i][11 : 15] # the last 4 vals for shtd at 0 hours\n",
    "else:\n",
    "    print( \"No data 24h before flight :/\")\n",
    "\n",
    "# current time\n",
    "if header_inds.index( flind) - 4 >= 0:\n",
    "    i0 = flind\n",
    "    i1 = header_inds[ header_inds.index( flind) + 1]\n",
    "    # search for vmax!\n",
    "    for i in range( i0,  i1 ):\n",
    "\n",
    "        #if i == i0 or i == i0 + 1:\n",
    "        #    print( Lines[ i])\n",
    "        \n",
    "        if 'SHRD' in Lines[i]:\n",
    "            #print( Lines[ i])\n",
    "            mag = Lines[i][11 : 15] # the last 4 vals for shrd at 0 hours\n",
    "        if 'SHTD' in Lines[i]:\n",
    "            #print( Lines[ i])\n",
    "            direc = Lines[i][11 : 15] # the last 4 vals for shtd at 0 hours\n",
    "else:\n",
    "    print( \"No data 24h before flight :/\")\n",
    "\n",
    "print( dirold)\n",
    "print( magold)\n",
    "print( direc)\n",
    "print( mag)\n",
    "\n",
    "# do this for nice formatting! it gets rid of the extra whitespace :)\n",
    "vmaxold = str( int( vmaxold))\n",
    "vmax = str( int( vmax))\n",
    "dirold = str( int( dirold))\n",
    "direc = str( int( direc))\n",
    "magold = str( np.round( float( magold ) / 10, 2)) # divide by 10 to get to kts, see SHIPS documentation\n",
    "mag = str(  np.round( float( mag ) / 10, 2))"
   ]
  },
  {
   "cell_type": "code",
   "execution_count": 83,
   "id": "006d970f",
   "metadata": {},
   "outputs": [
    {
     "name": "stdout",
     "output_type": "stream",
     "text": [
      "Folder 2021 already exists\n"
     ]
    }
   ],
   "source": [
    "# new new and previous vmax, shear, and shear dir variables to a text document!\n",
    "\n",
    "# get to the correct folder\n",
    "os.chdir(\"/Users/etmu9498/research/data/ships-output/\" )\n",
    "# make sure the folder exists! if not, create it!\n",
    "output_folder = year\n",
    "if not os.path.isdir( output_folder):\n",
    "    os.makedirs( output_folder)\n",
    "    print( 'New folder created: ' + output_folder)\n",
    "else:\n",
    "    print( 'Folder ' + output_folder + ' already exists')\n",
    "os.chdir(\"/Users/etmu9498/research/data/ships-output/\" + year)\n",
    "\n",
    "# create the file\n",
    "file1 = open( fl_name[ : - 13] + '.txt', 'w+')\n",
    "\n",
    "# add the metadata!\n",
    "addlines = [ \"SHIPS Date:\\n\", correct_date + '\\n', \"SHIPS Time (Hours, UTC):\\n\", strtime + '\\n', \"24h old vmax (kt):\\n\", \n",
    "            vmaxold + '\\n', \"Current vmax (kt):\\n\", vmax + '\\n', \"24h old shear direction (degrees):\\n\", dirold + '\\n', \n",
    "            'Current shear direction (degrees):\\n', direc + '\\n', '24h old shear magnitude (kt):\\n', magold + '\\n', \n",
    "            'Current shear magnitude (kt):\\n', mag + '\\n']\n",
    "file1.writelines( addlines)\n",
    "file1.close()\n"
   ]
  },
  {
   "cell_type": "code",
   "execution_count": null,
   "id": "1c0de850",
   "metadata": {},
   "outputs": [],
   "source": []
  }
 ],
 "metadata": {
  "kernelspec": {
   "display_name": "Python 3 (ipykernel)",
   "language": "python",
   "name": "python3"
  },
  "language_info": {
   "codemirror_mode": {
    "name": "ipython",
    "version": 3
   },
   "file_extension": ".py",
   "mimetype": "text/x-python",
   "name": "python",
   "nbconvert_exporter": "python",
   "pygments_lexer": "ipython3",
   "version": "3.9.15"
  }
 },
 "nbformat": 4,
 "nbformat_minor": 5
}
