{
 "cells": [
  {
   "cell_type": "code",
   "execution_count": 2,
   "id": "d1c850e1",
   "metadata": {},
   "outputs": [],
   "source": [
    "######################\n",
    "# summary\n",
    "# this code builds upon the scripts found under \"2023-07-10 compare all crl dropsonde profiles v1\",\n",
    "# with automated plotting and analysis scripts saved under \"scripts-winter2023/sonde-data-processing\".\n",
    "######################"
   ]
  },
  {
   "cell_type": "code",
   "execution_count": 1,
   "id": "155e74f2",
   "metadata": {},
   "outputs": [],
   "source": [
    "# import...\n",
    "import os\n",
    "import numpy as np\n",
    "import xarray as xr\n",
    "import pandas as pd\n",
    "import matplotlib.pyplot as plt\n",
    "import metpy.calc as mpcalc\n",
    "from metpy.units import units\n",
    "from geopy import distance\n",
    "\n",
    "os.chdir(\"/Users/etmu9498/research/code/scripts-winter2023/sonde-data-processing\")\n",
    "import process_and_plot_sondes as procplot"
   ]
  },
  {
   "cell_type": "code",
   "execution_count": 2,
   "id": "a20c4222",
   "metadata": {},
   "outputs": [
    {
     "data": {
      "text/plain": [
       "'\\nimport tarfile\\n\\n# get a list of all tarball files to extract\\nbase_dir = \"/Users/etmu9498/research/data/dropsondes/ftp-nhc-tarballs\"\\n# find the matching crl dataset name\\nfile_names = []\\nfor (dirpath, dirnames, file) in os.walk( base_dir):\\n    file_names.extend(file)\\n    break\\n\\n# loop through the tarball names and save unzipped files!\\nbase_save_dir = \"/Users/etmu9498/research/data/dropsondes/ftp-nhc/\"\\nfor tarball in file_names:\\n    os.chdir(base_dir)\\n    tar = tarfile.open( tarball, \"r:gz\")\\n    \\n    # save the file\\n    save_dir = base_save_dir + tarball[0:10]\\n    # check if folder already exists\\n    os.chdir(base_save_dir)\\n    if not os.path.isdir( tarball[0:10]):\\n        os.makedirs( tarball[0:10])\\n    os.chdir(save_dir)\\n    tar.extractall()\\n    tar.close()\\n'"
      ]
     },
     "execution_count": 2,
     "metadata": {},
     "output_type": "execute_result"
    }
   ],
   "source": [
    "# use this code snippet to extract sonde frd files from tar.gz folders\n",
    "# only need to do this once\n",
    "\n",
    "'''\n",
    "import tarfile\n",
    "\n",
    "# get a list of all tarball files to extract\n",
    "base_dir = \"/Users/etmu9498/research/data/dropsondes/ftp-nhc-tarballs\"\n",
    "# find the matching crl dataset name\n",
    "file_names = []\n",
    "for (dirpath, dirnames, file) in os.walk( base_dir):\n",
    "    file_names.extend(file)\n",
    "    break\n",
    "\n",
    "# loop through the tarball names and save unzipped files!\n",
    "base_save_dir = \"/Users/etmu9498/research/data/dropsondes/ftp-nhc/\"\n",
    "for tarball in file_names:\n",
    "    os.chdir(base_dir)\n",
    "    tar = tarfile.open( tarball, \"r:gz\")\n",
    "    \n",
    "    # save the file\n",
    "    save_dir = base_save_dir + tarball[0:10]\n",
    "    # check if folder already exists\n",
    "    os.chdir(base_save_dir)\n",
    "    if not os.path.isdir( tarball[0:10]):\n",
    "        os.makedirs( tarball[0:10])\n",
    "    os.chdir(save_dir)\n",
    "    tar.extractall()\n",
    "    tar.close()\n",
    "'''"
   ]
  },
  {
   "cell_type": "code",
   "execution_count": 4,
   "id": "05b613ea",
   "metadata": {
    "scrolled": true
   },
   "outputs": [
    {
     "name": "stdout",
     "output_type": "stream",
     "text": [
      "Loading data for 20220908H1\n",
      "Plot D20220908_100950QC.frd saved\n",
      "Plot D20220908_102200QC.frd saved\n",
      "Plot D20220908_102502QC.frd saved\n",
      "Plot D20220908_102536QC.frd saved\n",
      "Plot D20220908_103700QC.frd saved\n",
      "Plot D20220908_104411QC.frd saved\n",
      "Plot D20220908_104444QC.frd saved\n",
      "Plot D20220908_104904QC.frd saved\n",
      "Plot D20220908_105956QC.frd saved\n",
      "Plot D20220908_112356QC.frd saved\n",
      "Plot D20220908_113806QC.frd saved\n",
      "Plot D20220908_114242QC.frd saved\n",
      "Plot D20220908_114324QC.frd saved\n",
      "Plot D20220908_115006QC.frd saved\n",
      "Plot D20220908_115815QC.frd saved\n",
      "Plot D20220908_115850QC.frd saved\n",
      "Plot D20220908_120556QC.frd saved\n",
      "Plot D20220908_120644QC.frd saved\n",
      "Plot D20220908_122002QC.frd saved\n",
      "Plot D20220908_124335QC.frd saved\n",
      "Plot D20220908_125245QC.frd saved\n",
      "Plot D20220908_130206QC.frd saved\n",
      "Plot D20220908_130240QC.frd saved\n",
      "Plot D20220908_130624QC.frd saved\n",
      "Plot D20220908_131343QC.frd saved\n",
      "Plot D20220908_131856QC.frd saved\n",
      "Plot D20220908_133257QC.frd saved\n"
     ]
    }
   ],
   "source": [
    "# create and save test plots for all sondes currently within file directories\n",
    "procplot.plot_all(tc='20220908H1', savefig=True) # tc='20210926H1'"
   ]
  },
  {
   "cell_type": "code",
   "execution_count": null,
   "id": "a968db42",
   "metadata": {},
   "outputs": [],
   "source": []
  }
 ],
 "metadata": {
  "kernelspec": {
   "display_name": "Python 3 (ipykernel)",
   "language": "python",
   "name": "python3"
  },
  "language_info": {
   "codemirror_mode": {
    "name": "ipython",
    "version": 3
   },
   "file_extension": ".py",
   "mimetype": "text/x-python",
   "name": "python",
   "nbconvert_exporter": "python",
   "pygments_lexer": "ipython3",
   "version": "3.9.15"
  }
 },
 "nbformat": 4,
 "nbformat_minor": 5
}
